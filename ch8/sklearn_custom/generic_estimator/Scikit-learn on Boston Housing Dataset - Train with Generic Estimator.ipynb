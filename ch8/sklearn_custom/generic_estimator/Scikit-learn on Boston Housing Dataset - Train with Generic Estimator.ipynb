{
 "cells": [
  {
   "cell_type": "code",
   "execution_count": null,
   "metadata": {},
   "outputs": [],
   "source": [
    "%%sh\n",
    "pygmentize sklearn-boston-housing-generic.py"
   ]
  },
  {
   "cell_type": "code",
   "execution_count": null,
   "metadata": {},
   "outputs": [],
   "source": [
    "%%sh\n",
    "pygmentize Dockerfile"
   ]
  },
  {
   "cell_type": "code",
   "execution_count": null,
   "metadata": {},
   "outputs": [],
   "source": [
    "%%sh\n",
    "export REGION=eu-west-1\n",
    "aws ecr create-repository --repository-name sklearn-custom --region $REGION"
   ]
  },
  {
   "cell_type": "code",
   "execution_count": null,
   "metadata": {},
   "outputs": [],
   "source": [
    "%%sh\n",
    "# This cell will not run on SageMaker Studio\n",
    "# The simplest option is to run these commands on your local machine\n",
    "export REGION=eu-west-1\n",
    "export ACCOUNT_ID=`aws sts get-caller-identity --query Account --output text`\n",
    "docker build -t sklearn-custom:estimator -f Dockerfile .\n",
    "export IMAGE_ID=`docker images -q sklearn-custom:estimator`\n",
    "docker tag $IMAGE_ID $ACCOUNT_ID.dkr.ecr.$REGION.amazonaws.com/sklearn-custom:estimator\n",
    "aws ecr get-login-password --region $REGION | docker login --username AWS --password-stdin $ACCOUNT_ID.dkr.ecr.$REGION.amazonaws.com/sklearn-custom:estimator\n",
    "docker push $ACCOUNT_ID.dkr.ecr.$REGION.amazonaws.com/sklearn-custom:estimator"
   ]
  },
  {
   "cell_type": "code",
   "execution_count": null,
   "metadata": {},
   "outputs": [],
   "source": [
    "import sagemaker\n",
    "from sagemaker.estimator import Estimator\n",
    "\n",
    "print(sagemaker.__version__)\n",
    "\n",
    "sess = sagemaker.Session()\n",
    "account_id = sess.boto_session.client('sts').get_caller_identity()['Account']\n",
    "region = sess.boto_session.region_name\n",
    "\n",
    "bucket = sess.default_bucket()                     \n",
    "prefix = 'sklearn-boston-housing'\n",
    "\n",
    "training = sess.upload_data(path='../housing.csv', key_prefix=prefix + \"/training\")\n",
    "output   = 's3://{}/{}/output/'.format(bucket,prefix)\n",
    "\n",
    "role = sagemaker.get_execution_role()\n",
    "\n",
    "sk = Estimator(\n",
    "             image_uri=account_id+'.dkr.ecr.'+region+'.amazonaws.com/sklearn-custom:estimator',\n",
    "             role=role,\n",
    "             instance_count=1, \n",
    "             instance_type='ml.m5.large',\n",
    "             output_path=output,\n",
    "             hyperparameters={\n",
    "                  'normalize': True,\n",
    "                  'test-size': 0.1,\n",
    "                  'random-state': 123\n",
    "             }\n",
    ")\n",
    "\n",
    "sk.fit({'training':training})"
   ]
  },
  {
   "cell_type": "code",
   "execution_count": null,
   "metadata": {},
   "outputs": [],
   "source": [
    "sk_predictor = sk.deploy(instance_type='ml.t2.medium',\n",
    "                        initial_instance_count=1)"
   ]
  },
  {
   "cell_type": "code",
   "execution_count": null,
   "metadata": {},
   "outputs": [],
   "source": [
    "test_samples = ['0.00632,18.00,2.310,0,0.5380,6.5750,65.20,4.0900,1,296.0,15.30,4.98',\n",
    "                '0.02731,0.00,7.070,0,0.4690,6.4210,78.90,4.9671,2,242.0,17.80,9.14']\n",
    "\n",
    "sk_predictor.serializer = sagemaker.serializers.CSVSerializer()\n",
    "\n",
    "response = sk_predictor.predict(test_samples)\n",
    "print(response)"
   ]
  },
  {
   "cell_type": "code",
   "execution_count": null,
   "metadata": {},
   "outputs": [],
   "source": [
    "sk_predictor.delete_endpoint()"
   ]
  },
  {
   "cell_type": "code",
   "execution_count": null,
   "metadata": {},
   "outputs": [],
   "source": []
  }
 ],
 "metadata": {
  "instance_type": "ml.t3.medium",
  "kernelspec": {
   "display_name": "Python 3 (Data Science)",
   "language": "python",
   "name": "python3__SAGEMAKER_INTERNAL__arn:aws:sagemaker:eu-west-1:470317259841:image/datascience-1.0"
  },
  "language_info": {
   "codemirror_mode": {
    "name": "ipython",
    "version": 3
   },
   "file_extension": ".py",
   "mimetype": "text/x-python",
   "name": "python",
   "nbconvert_exporter": "python",
   "pygments_lexer": "ipython3",
   "version": "3.7.6"
  }
 },
 "nbformat": 4,
 "nbformat_minor": 4
}
