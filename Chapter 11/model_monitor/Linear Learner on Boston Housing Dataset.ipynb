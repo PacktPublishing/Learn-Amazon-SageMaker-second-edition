{
 "cells": [
  {
   "cell_type": "code",
   "execution_count": null,
   "metadata": {},
   "outputs": [],
   "source": [
    "import pandas as pd\n",
    "\n",
    "dataset = pd.read_csv('housing.csv')"
   ]
  },
  {
   "cell_type": "code",
   "execution_count": null,
   "metadata": {},
   "outputs": [],
   "source": [
    "print(dataset.shape)\n",
    "dataset[:5]"
   ]
  },
  {
   "cell_type": "code",
   "execution_count": null,
   "metadata": {},
   "outputs": [],
   "source": [
    "# Move 'medv' column to front\n",
    "dataset = pd.concat([dataset['medv'], dataset.drop(['medv'], axis=1)], axis=1)"
   ]
  },
  {
   "cell_type": "code",
   "execution_count": null,
   "metadata": {},
   "outputs": [],
   "source": [
    "training_dataset = dataset.sample(frac=0.90, random_state=59)\n",
    "validation_dataset = dataset.loc[~dataset.index.isin(training_dataset.index), :]\n",
    "print(training_dataset.shape)\n",
    "print(validation_dataset.shape)"
   ]
  },
  {
   "cell_type": "code",
   "execution_count": null,
   "metadata": {},
   "outputs": [],
   "source": [
    "training_dataset.to_csv('training_dataset.csv', index=False, header=False)\n",
    "validation_dataset.to_csv('validation_dataset.csv', index=False, header=False)"
   ]
  },
  {
   "cell_type": "code",
   "execution_count": null,
   "metadata": {},
   "outputs": [],
   "source": [
    "import sagemaker\n",
    "\n",
    "sess = sagemaker.Session()\n",
    "bucket = sess.default_bucket()\n",
    "\n",
    "prefix = 'll-boston-housing'\n",
    "training_data_path = sess.upload_data(path='training_dataset.csv', key_prefix=prefix + '/input/training')\n",
    "validation_data_path = sess.upload_data(path='validation_dataset.csv', key_prefix=prefix + '/input/validation')\n",
    "\n",
    "print(training_data_path)\n",
    "print(validation_data_path)"
   ]
  },
  {
   "cell_type": "code",
   "execution_count": null,
   "metadata": {},
   "outputs": [],
   "source": [
    "import boto3\n",
    "from sagemaker import image_uris\n",
    "\n",
    "region = boto3.Session().region_name    \n",
    "container = image_uris.retrieve('linear-learner', region)\n",
    "\n",
    "from sagemaker.estimator import Estimator\n",
    "\n",
    "role = sagemaker.get_execution_role() \n",
    "\n",
    "ll_estimator = Estimator(container,\n",
    "    role=role, \n",
    "    instance_count=1,\n",
    "    instance_type='ml.m5.large',\n",
    "    output_path='s3://{}/{}/output'.format(bucket, prefix)\n",
    ")\n",
    "\n",
    "ll_estimator.set_hyperparameters(predictor_type='regressor', mini_batch_size=32)"
   ]
  },
  {
   "cell_type": "code",
   "execution_count": null,
   "metadata": {},
   "outputs": [],
   "source": [
    "training_data_channel   = sagemaker.TrainingInput(s3_data=training_data_path, content_type='text/csv')\n",
    "validation_data_channel = sagemaker.TrainingInput(s3_data=validation_data_path, content_type='text/csv')\n",
    "\n",
    "ll_data = {'train': training_data_channel, 'validation': validation_data_channel}"
   ]
  },
  {
   "cell_type": "code",
   "execution_count": null,
   "metadata": {
    "scrolled": true
   },
   "outputs": [],
   "source": [
    "ll_estimator.fit(ll_data)"
   ]
  },
  {
   "cell_type": "code",
   "execution_count": null,
   "metadata": {},
   "outputs": [],
   "source": [
    "from time import strftime, gmtime\n",
    "timestamp = strftime('%d-%H-%M-%S', gmtime())\n",
    "\n",
    "endpoint_name = prefix+'-ep-'+timestamp\n",
    "print(endpoint_name)"
   ]
  },
  {
   "cell_type": "code",
   "execution_count": null,
   "metadata": {},
   "outputs": [],
   "source": [
    "from sagemaker.model_monitor.data_capture_config import DataCaptureConfig\n",
    "\n",
    "capture_path = 's3://{}/{}/capture'.format(bucket, prefix)\n",
    "\n",
    "ll_predictor = ll_estimator.deploy(\n",
    "    endpoint_name=endpoint_name, \n",
    "    initial_instance_count=1, \n",
    "    instance_type='ml.t2.medium',\n",
    "    data_capture_config=DataCaptureConfig(       \n",
    "        enable_capture=True,                     # Capture data\n",
    "        sampling_percentage=100,                 \n",
    "        capture_options=['REQUEST', 'RESPONSE'], # Default value\n",
    "        destination_s3_uri=capture_path          # Save data here\n",
    "    )\n",
    ")"
   ]
  },
  {
   "cell_type": "code",
   "execution_count": null,
   "metadata": {},
   "outputs": [],
   "source": [
    "test_sample = '0.00632,18.00,2.310,0,0.5380,6.5750,65.20,4.0900,1,296.0,15.30,4.98'"
   ]
  },
  {
   "cell_type": "code",
   "execution_count": null,
   "metadata": {},
   "outputs": [],
   "source": [
    "ll_predictor.serializer = sagemaker.serializers.CSVSerializer()\n",
    "ll_predictor.deserializer = sagemaker.deserializers.CSVDeserializer()\n",
    "\n",
    "response = ll_predictor.predict(test_sample)\n",
    "print(response)"
   ]
  },
  {
   "cell_type": "code",
   "execution_count": null,
   "metadata": {},
   "outputs": [],
   "source": [
    "print(capture_path)"
   ]
  },
  {
   "cell_type": "code",
   "execution_count": null,
   "metadata": {},
   "outputs": [],
   "source": [
    "%%bash -s \"$capture_path\"\n",
    "# Wait for a minute or two for data to show up\n",
    "echo $1\n",
    "aws s3 ls --recursive $1\n",
    "aws s3 cp --recursive $1 ."
   ]
  },
  {
   "cell_type": "code",
   "execution_count": null,
   "metadata": {},
   "outputs": [],
   "source": [
    "%%sh\n",
    "head ll-boston-housing-ep-07-16-35-25/AllTraffic/2021/07/07/16/45-47-410-519762dc-1394-44c0-985a-957129a9c5e1.jsonl"
   ]
  },
  {
   "cell_type": "code",
   "execution_count": null,
   "metadata": {},
   "outputs": [],
   "source": [
    "baseline_data = sess.upload_data(path='housing.csv', key_prefix=prefix + \"/baseline\")\n",
    "print(baseline_data)"
   ]
  },
  {
   "cell_type": "code",
   "execution_count": null,
   "metadata": {},
   "outputs": [],
   "source": [
    "from sagemaker.model_monitor import DefaultModelMonitor\n",
    "from sagemaker.model_monitor.dataset_format import DatasetFormat\n",
    "\n",
    "ll_monitor = DefaultModelMonitor(\n",
    "    role=role,\n",
    "    instance_count=1, \n",
    "    instance_type='ml.m5.large'\n",
    ")\n",
    "\n",
    "baseline_path = 's3://{}/{}/baseline'.format(bucket, prefix)\n",
    "\n",
    "ll_monitor.suggest_baseline(\n",
    "    baseline_dataset=baseline_data,\n",
    "    dataset_format=DatasetFormat.csv(header=True),\n",
    "    output_s3_uri=baseline_path\n",
    ")"
   ]
  },
  {
   "cell_type": "code",
   "execution_count": null,
   "metadata": {},
   "outputs": [],
   "source": [
    "%%sh -s \"$baseline_path\"\n",
    "aws s3 ls --recursive $1"
   ]
  },
  {
   "cell_type": "code",
   "execution_count": null,
   "metadata": {},
   "outputs": [],
   "source": [
    "baseline_results = ll_monitor.latest_baselining_job\n",
    "\n",
    "schema = pd.io.json.json_normalize(baseline_results.baseline_statistics().body_dict[\"features\"])\n",
    "schema"
   ]
  },
  {
   "cell_type": "code",
   "execution_count": null,
   "metadata": {},
   "outputs": [],
   "source": [
    "constraints = pd.io.json.json_normalize(baseline_results.suggested_constraints().body_dict[\"features\"])\n",
    "constraints"
   ]
  },
  {
   "cell_type": "code",
   "execution_count": null,
   "metadata": {},
   "outputs": [],
   "source": [
    "from sagemaker.model_monitor import CronExpressionGenerator\n",
    "\n",
    "ll_monitor_name = prefix+'-mon-'+strftime(\"%Y-%m-%d-%H-%M-%S\", gmtime())\n",
    "report_path = 's3://{}/{}/report'.format(bucket, prefix)\n",
    "\n",
    "ll_monitor.create_monitoring_schedule(\n",
    "    monitor_schedule_name=ll_monitor_name,\n",
    "    endpoint_input=ll_predictor.endpoint_name,\n",
    "    output_s3_uri=report_path,\n",
    "    statistics=ll_monitor.baseline_statistics(),\n",
    "    constraints=ll_monitor.suggested_constraints(),\n",
    "    schedule_cron_expression=CronExpressionGenerator.hourly()\n",
    ")"
   ]
  },
  {
   "cell_type": "code",
   "execution_count": null,
   "metadata": {},
   "outputs": [],
   "source": [
    "ll_monitor.describe_schedule()"
   ]
  },
  {
   "cell_type": "code",
   "execution_count": null,
   "metadata": {},
   "outputs": [],
   "source": [
    "ll_executions = ll_monitor.list_executions()\n",
    "ll_executions"
   ]
  },
  {
   "cell_type": "code",
   "execution_count": null,
   "metadata": {},
   "outputs": [],
   "source": [
    "test_sample = '0.00632,18.00,2.310,0,0.5380,6.5750,65.20,4.0900,1,296.0,15.30,4.98'\n",
    "\n",
    "# Multiply 1st feature by 10000\n",
    "bad_sample_1 = '632.0,18.00,2.310,0,0.5380,6.5750,65.20,4.0900,1,296.0,15.30,4.98'\n",
    "# Negate last feature\n",
    "bad_sample_2 = '0.00632,18.00,2.310,0,0.5380,6.5750,65.20,4.0900,1,296.0,15.30,-4.98'\n",
    "\n",
    "response = ll_predictor.predict(bad_sample_1)\n",
    "print(response)\n",
    "\n",
    "response = ll_predictor.predict(bad_sample_2)\n",
    "print(response)"
   ]
  },
  {
   "cell_type": "code",
   "execution_count": null,
   "metadata": {},
   "outputs": [],
   "source": [
    "violations = ll_monitor.latest_monitoring_constraint_violations()\n",
    "violations = pd.io.json.json_normalize(violations.body_dict[\"violations\"])\n",
    "violations"
   ]
  },
  {
   "cell_type": "code",
   "execution_count": null,
   "metadata": {},
   "outputs": [],
   "source": [
    "%%bash -s \"$report_path\"\n",
    "echo $1\n",
    "aws s3 ls --recursive $1\n",
    "aws s3 cp --recursive $1 ."
   ]
  },
  {
   "cell_type": "code",
   "execution_count": null,
   "metadata": {},
   "outputs": [],
   "source": [
    "%%sh\n",
    "pygmentize <VIOLATIONS_REPORT>"
   ]
  },
  {
   "cell_type": "code",
   "execution_count": null,
   "metadata": {},
   "outputs": [],
   "source": [
    "response = ll_monitor.delete_monitoring_schedule()"
   ]
  },
  {
   "cell_type": "code",
   "execution_count": null,
   "metadata": {},
   "outputs": [],
   "source": [
    "ll_predictor.delete_endpoint()"
   ]
  },
  {
   "cell_type": "code",
   "execution_count": null,
   "metadata": {},
   "outputs": [],
   "source": []
  },
  {
   "cell_type": "code",
   "execution_count": null,
   "metadata": {},
   "outputs": [],
   "source": []
  }
 ],
 "metadata": {
  "instance_type": "ml.t3.medium",
  "kernelspec": {
   "display_name": "Python 3 (Data Science)",
   "language": "python",
   "name": "python3__SAGEMAKER_INTERNAL__arn:aws:sagemaker:eu-west-1:470317259841:image/datascience-1.0"
  },
  "language_info": {
   "codemirror_mode": {
    "name": "ipython",
    "version": 3
   },
   "file_extension": ".py",
   "mimetype": "text/x-python",
   "name": "python",
   "nbconvert_exporter": "python",
   "pygments_lexer": "ipython3",
   "version": "3.7.10"
  }
 },
 "nbformat": 4,
 "nbformat_minor": 4
}
