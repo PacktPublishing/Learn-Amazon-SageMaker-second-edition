{
 "cells": [
  {
   "cell_type": "code",
   "execution_count": null,
   "metadata": {},
   "outputs": [],
   "source": [
    "import sagemaker\n",
    "\n",
    "print(sagemaker.__version__)\n",
    "sess = sagemaker.Session()"
   ]
  },
  {
   "cell_type": "code",
   "execution_count": null,
   "metadata": {},
   "outputs": [],
   "source": [
    "%%sh\n",
    "wget -N https://sagemaker-sample-data-us-west-2.s3-us-west-2.amazonaws.com/autopilot/direct_marketing/bank-additional.zip\n",
    "unzip -o bank-additional.zip"
   ]
  },
  {
   "cell_type": "code",
   "execution_count": null,
   "metadata": {},
   "outputs": [],
   "source": [
    "bucket = sess.default_bucket()                     \n",
    "prefix = 'sagemaker/DEMO-automl-dm/'\n",
    "s3_input_data = sess.upload_data(path=\"./bank-additional/bank-additional-full.csv\", key_prefix=prefix+'input')\n",
    "print(s3_input_data)"
   ]
  },
  {
   "cell_type": "code",
   "execution_count": null,
   "metadata": {},
   "outputs": [],
   "source": [
    "! head bank-additional/bank-additional-full.csv"
   ]
  },
  {
   "cell_type": "code",
   "execution_count": null,
   "metadata": {},
   "outputs": [],
   "source": [
    "from sagemaker.automl.automl import AutoML\n",
    "auto_ml_job = AutoML(\n",
    "    role = sagemaker.get_execution_role(),                                          \n",
    "    sagemaker_session = sess,                             \n",
    "    target_attribute_name = 'y',                             \n",
    "    output_path = 's3://{}/{}/output'.format(bucket,prefix),\n",
    "    max_runtime_per_training_job_in_seconds = 600,\n",
    "    max_candidates = 250,\n",
    "    total_job_runtime_in_seconds = 3600\n",
    ")"
   ]
  },
  {
   "cell_type": "code",
   "execution_count": null,
   "metadata": {},
   "outputs": [],
   "source": [
    "auto_ml_job.fit(inputs=s3_input_data, logs=False, wait=False)"
   ]
  },
  {
   "cell_type": "code",
   "execution_count": null,
   "metadata": {},
   "outputs": [],
   "source": [
    "from time import sleep\n",
    "\n",
    "def wait_for(job, state):\n",
    "    job = auto_ml_job.describe_auto_ml_job()\n",
    "    job_status = job['AutoMLJobStatus']\n",
    "    job_sec_status = job['AutoMLJobSecondaryStatus']\n",
    "    if job_status not in ('Stopped', 'Failed'):\n",
    "        while job_status in ('InProgress') and job_sec_status in state:\n",
    "            sleep(60)\n",
    "            job = auto_ml_job.describe_auto_ml_job()\n",
    "            job_status = job['AutoMLJobStatus']\n",
    "            job_sec_status = job['AutoMLJobSecondaryStatus']\n",
    "            print (job_status, job_sec_status)"
   ]
  },
  {
   "cell_type": "code",
   "execution_count": null,
   "metadata": {},
   "outputs": [],
   "source": [
    "wait_for(auto_ml_job, 'AnalyzingData')"
   ]
  },
  {
   "cell_type": "code",
   "execution_count": null,
   "metadata": {},
   "outputs": [],
   "source": [
    "job = auto_ml_job.describe_auto_ml_job()\n",
    "#print(job)\n",
    "job_candidate_notebook = job['AutoMLJobArtifacts']['CandidateDefinitionNotebookLocation']\n",
    "job_data_notebook = job['AutoMLJobArtifacts']['DataExplorationNotebookLocation']\n",
    "\n",
    "print(job_candidate_notebook)\n",
    "print(job_data_notebook)"
   ]
  },
  {
   "cell_type": "code",
   "execution_count": null,
   "metadata": {},
   "outputs": [],
   "source": [
    "%%sh -s $job_candidate_notebook $job_data_notebook\n",
    "aws s3 cp $1 .\n",
    "aws s3 cp $2 ."
   ]
  },
  {
   "cell_type": "code",
   "execution_count": null,
   "metadata": {},
   "outputs": [],
   "source": [
    "wait_for(auto_ml_job, 'FeatureEngineering')"
   ]
  },
  {
   "cell_type": "code",
   "execution_count": null,
   "metadata": {},
   "outputs": [],
   "source": [
    "wait_for(auto_ml_job, 'ModelTuning')"
   ]
  },
  {
   "cell_type": "code",
   "execution_count": null,
   "metadata": {},
   "outputs": [],
   "source": [
    "import pandas as pd\n",
    "from sagemaker.analytics import ExperimentAnalytics\n",
    "\n",
    "job = auto_ml_job.describe_auto_ml_job()\n",
    "\n",
    "exp = ExperimentAnalytics(\n",
    "    experiment_name=job['AutoMLJobName']+'-aws-auto-ml-job',\n",
    "    metric_names=['Objective:F1']\n",
    ")\n",
    "df = exp.dataframe()\n",
    "\n",
    "print(df)\n",
    "#print(\"Number of jobs: \", len(df))\n",
    "#if (len(df) !=0):\n",
    "#    df = pd.concat([df['Objective:f1'], df.drop(['ObjectiveMetric'], axis=1)], axis=1)\n",
    "#    df.sort_values('ObjectiveMetric', ascending=0)[:5]"
   ]
  },
  {
   "cell_type": "code",
   "execution_count": null,
   "metadata": {},
   "outputs": [],
   "source": [
    "job_best_candidate = auto_ml_job.best_candidate()\n",
    "print(job_best_candidate['CandidateName'])\n",
    "print(job_best_candidate['FinalAutoMLJobObjectiveMetric'])"
   ]
  },
  {
   "cell_type": "code",
   "execution_count": null,
   "metadata": {},
   "outputs": [],
   "source": [
    "import boto3\n",
    "\n",
    "job_outputs_prefix = '{}/output/{}'.format(prefix, job['AutoMLJobName'])\n",
    "s3_bucket = boto3.resource('s3').Bucket(bucket)\n",
    "s3_bucket.objects.filter(Prefix=job_outputs_prefix).delete()"
   ]
  },
  {
   "cell_type": "code",
   "execution_count": null,
   "metadata": {},
   "outputs": [],
   "source": []
  }
 ],
 "metadata": {
  "instance_type": "ml.t3.medium",
  "kernelspec": {
   "display_name": "Python 3 (Data Science)",
   "language": "python",
   "name": "python3__SAGEMAKER_INTERNAL__arn:aws:sagemaker:ap-northeast-2:806072073708:image/datascience-1.0"
  },
  "language_info": {
   "codemirror_mode": {
    "name": "ipython",
    "version": 3
   },
   "file_extension": ".py",
   "mimetype": "text/x-python",
   "name": "python",
   "nbconvert_exporter": "python",
   "pygments_lexer": "ipython3",
   "version": "3.7.10"
  }
 },
 "nbformat": 4,
 "nbformat_minor": 4
}
