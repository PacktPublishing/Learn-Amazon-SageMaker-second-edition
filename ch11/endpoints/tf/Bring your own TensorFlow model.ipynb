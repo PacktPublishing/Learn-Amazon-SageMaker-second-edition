{
 "cells": [
  {
   "cell_type": "markdown",
   "metadata": {},
   "source": [
    "# Import a TensorFlow model to SageMaker"
   ]
  },
  {
   "cell_type": "code",
   "execution_count": null,
   "metadata": {},
   "outputs": [],
   "source": [
    "!pip -q install keras matplotlib"
   ]
  },
  {
   "cell_type": "code",
   "execution_count": null,
   "metadata": {},
   "outputs": [],
   "source": [
    "!pip -q install tensorflow==2.3.1"
   ]
  },
  {
   "cell_type": "code",
   "execution_count": null,
   "metadata": {},
   "outputs": [],
   "source": [
    "import os\n",
    "import keras\n",
    "import numpy as np\n",
    "from keras.datasets import fashion_mnist\n",
    "\n",
    "(x_train, y_train), (x_val, y_val) = fashion_mnist.load_data()\n",
    "\n",
    "os.makedirs('./fashion-mnist', exist_ok = True)\n",
    "\n",
    "np.savez('./fashion-mnist/training', image=x_train, label=y_train)\n",
    "np.savez('./fashion-mnist/validation', image=x_val, label=y_val)"
   ]
  },
  {
   "cell_type": "markdown",
   "metadata": {},
   "source": [
    "### Train a model locally"
   ]
  },
  {
   "cell_type": "code",
   "execution_count": null,
   "metadata": {},
   "outputs": [],
   "source": [
    "gpu_count = 1\n",
    "batch_size = 128\n",
    "epochs = 10"
   ]
  },
  {
   "cell_type": "code",
   "execution_count": null,
   "metadata": {},
   "outputs": [],
   "source": [
    "import tensorflow as tf\n",
    "import numpy as np\n",
    "\n",
    "from model import FMNISTModel\n",
    "\n",
    "print(\"TensorFlow version\", tf.__version__)\n",
    "\n",
    "# Load data set\n",
    "x_train = np.load('fashion-mnist/training.npz')['image']\n",
    "y_train = np.load('fashion-mnist/training.npz')['label']\n",
    "x_val  = np.load('fashion-mnist/validation.npz')['image']\n",
    "y_val  = np.load('fashion-mnist/validation.npz')['label']\n",
    "\n",
    "# Add extra dimension for channel: (28,28) --> (28, 28, 1)\n",
    "x_train = x_train[..., tf.newaxis]\n",
    "x_val   = x_val[..., tf.newaxis]\n",
    "\n",
    "# Prepare training and validation iterators\n",
    "#  - define batch size\n",
    "#  - normalize pixel values to [0,1]\n",
    "#  - one-hot encode labels\n",
    "preprocess = lambda x, y: (tf.divide(tf.cast(x, tf.float32), 255.0), \n",
    "                           tf.reshape(tf.one_hot(y, 10), (-1, 10)))\n",
    "\n",
    "if (gpu_count > 1):\n",
    "    batch_size *= gpu_count\n",
    "    \n",
    "train = tf.data.Dataset.from_tensor_slices((x_train, y_train)).batch(batch_size)\n",
    "train = train.map(preprocess)\n",
    "train = train.repeat()\n",
    "\n",
    "val = tf.data.Dataset.from_tensor_slices((x_val, y_val)).batch(batch_size)\n",
    "val = val.map(preprocess)\n",
    "val = val.repeat()\n",
    "\n",
    "# Build model\n",
    "model = FMNISTModel()\n",
    "\n",
    "model.compile(optimizer='adam',\n",
    "              loss='categorical_crossentropy',\n",
    "              metrics=['accuracy'])\n",
    "\n",
    "# Train model\n",
    "train_steps = x_train.shape[0] / batch_size\n",
    "val_steps   = x_val.shape[0] / batch_size\n",
    "\n",
    "model.fit(train, \n",
    "          epochs=epochs, \n",
    "          steps_per_epoch=train_steps, \n",
    "          validation_data=val, \n",
    "          validation_steps=val_steps)\n",
    "\n",
    "# save model for Tensorflow Serving\n",
    "model.save('byo-tensorflow/1')\n",
    "   "
   ]
  },
  {
   "cell_type": "markdown",
   "metadata": {},
   "source": [
    "### Package model for SageMaker"
   ]
  },
  {
   "cell_type": "code",
   "execution_count": null,
   "metadata": {},
   "outputs": [],
   "source": [
    "import sagemaker\n",
    "\n",
    "sess = sagemaker.Session()\n",
    "bucket = sess.default_bucket()\n",
    "prefix = 'byo-tensorflow'\n",
    "\n",
    "print(bucket)"
   ]
  },
  {
   "cell_type": "code",
   "execution_count": null,
   "metadata": {},
   "outputs": [],
   "source": [
    "%%sh -s $prefix\n",
    "cd $1\n",
    "tar cvfz model-tf.tar.gz 1"
   ]
  },
  {
   "cell_type": "code",
   "execution_count": null,
   "metadata": {},
   "outputs": [],
   "source": [
    "model_path = sess.upload_data(path=prefix+'/model-tf.tar.gz', key_prefix=prefix)\n",
    "\n",
    "print(model_path)"
   ]
  },
  {
   "cell_type": "markdown",
   "metadata": {},
   "source": [
    "### Deploy model on SageMaker"
   ]
  },
  {
   "cell_type": "code",
   "execution_count": null,
   "metadata": {},
   "outputs": [],
   "source": [
    "from sagemaker.tensorflow.model import TensorFlowModel\n",
    "\n",
    "tf_model = TensorFlowModel(\n",
    "    model_data=model_path,\n",
    "    framework_version='2.3.1',\n",
    "    role=sagemaker.get_execution_role())"
   ]
  },
  {
   "cell_type": "code",
   "execution_count": null,
   "metadata": {},
   "outputs": [],
   "source": [
    "from time import strftime,gmtime\n",
    "\n",
    "tf_endpoint_name = 'tf-{}-{}'.format(prefix, strftime(\"%Y-%m-%d-%H-%M-%S\", gmtime()))\n",
    "\n",
    "tf_predictor = tf_model.deploy(\n",
    "    endpoint_name=tf_endpoint_name,\n",
    "    initial_instance_count=1, \n",
    "    instance_type='ml.t2.medium')\n",
    "\n",
    "print(tf_endpoint_name)"
   ]
  },
  {
   "cell_type": "markdown",
   "metadata": {},
   "source": [
    "### Predict with model"
   ]
  },
  {
   "cell_type": "code",
   "execution_count": null,
   "metadata": {},
   "outputs": [],
   "source": [
    "%matplotlib inline\n",
    "import random\n",
    "import matplotlib.pyplot as plt\n",
    "\n",
    "num_samples = 5\n",
    "indices = random.sample(range(x_val.shape[0] - 1), num_samples)\n",
    "images = x_val[indices]/255\n",
    "labels = y_val[indices]\n",
    "\n",
    "for i in range(num_samples):\n",
    "    plt.subplot(1,num_samples,i+1)\n",
    "    plt.imshow(images[i].reshape(28, 28), cmap='gray')\n",
    "    plt.title(labels[i])\n",
    "    plt.axis('off')\n",
    "\n",
    "payload = images.reshape(num_samples, 28, 28, 1)"
   ]
  },
  {
   "cell_type": "code",
   "execution_count": null,
   "metadata": {},
   "outputs": [],
   "source": [
    "response = tf_predictor.predict(payload)\n",
    "\n",
    "prediction = np.array(response['predictions'])\n",
    "predicted_label = prediction.argmax(axis=1)\n",
    "print('Predicted labels are: {}'.format(predicted_label))"
   ]
  },
  {
   "cell_type": "markdown",
   "metadata": {},
   "source": [
    "### Create a predictor for an existing endpoint"
   ]
  },
  {
   "cell_type": "code",
   "execution_count": null,
   "metadata": {},
   "outputs": [],
   "source": [
    "from sagemaker.tensorflow.model import TensorFlowPredictor\n",
    "\n",
    "another_predictor = TensorFlowPredictor(\n",
    "    endpoint_name=tf_endpoint_name,\n",
    "    serializer=sagemaker.serializers.JSONSerializer()\n",
    ")"
   ]
  },
  {
   "cell_type": "code",
   "execution_count": null,
   "metadata": {},
   "outputs": [],
   "source": [
    "response = another_predictor.predict(payload)\n",
    "\n",
    "prediction = np.array(response['predictions'])\n",
    "predicted_label = prediction.argmax(axis=1)\n",
    "print('Predicted labels are: {}'.format(predicted_label))"
   ]
  },
  {
   "cell_type": "markdown",
   "metadata": {},
   "source": [
    "### Updating an endpoint"
   ]
  },
  {
   "cell_type": "code",
   "execution_count": null,
   "metadata": {},
   "outputs": [],
   "source": [
    "another_predictor.update_endpoint(\n",
    "    initial_instance_count=2,\n",
    "    instance_type='ml.t2.medium')"
   ]
  },
  {
   "cell_type": "code",
   "execution_count": null,
   "metadata": {},
   "outputs": [],
   "source": [
    "tf_predictor.delete_endpoint()"
   ]
  },
  {
   "cell_type": "code",
   "execution_count": null,
   "metadata": {},
   "outputs": [],
   "source": []
  }
 ],
 "metadata": {
  "instance_type": "ml.g4dn.xlarge",
  "kernelspec": {
   "display_name": "Python 3 (TensorFlow 2.3 Python 3.7 CPU Optimized)",
   "language": "python",
   "name": "python3__SAGEMAKER_INTERNAL__arn:aws:sagemaker:eu-west-1:470317259841:image/tensorflow-2.3-cpu-py37-ubuntu18.04-v1"
  },
  "language_info": {
   "codemirror_mode": {
    "name": "ipython",
    "version": 3
   },
   "file_extension": ".py",
   "mimetype": "text/x-python",
   "name": "python",
   "nbconvert_exporter": "python",
   "pygments_lexer": "ipython3",
   "version": "3.7.10"
  }
 },
 "nbformat": 4,
 "nbformat_minor": 4
}
