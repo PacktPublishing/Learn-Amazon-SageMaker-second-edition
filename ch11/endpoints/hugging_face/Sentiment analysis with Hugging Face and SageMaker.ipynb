{
 "cells": [
  {
   "cell_type": "markdown",
   "metadata": {},
   "source": [
    "# Getting started with Hugging Face and Amazon Sagemaker\n",
    "\n",
    "## Sentiment analysis on product reviews\n",
    "\n",
    "* https://huggingface.co/distilbert-base-uncased\n",
    "* https://huggingface.co/datasets/generated_reviews_enth"
   ]
  },
  {
   "cell_type": "markdown",
   "metadata": {},
   "source": [
    "{'correct': 0, 'review_star': 4, 'translation': {'en': \"I had a hard time finding a case for my new LG Lucid 2 but finally found this one on amazon. The colors are really pretty and it works just as well as, if not better than the otterbox. Hopefully there will be more available by next Xmas season. Overall, very cute case. I love cheetah's. :)\", 'th': 'ฉันมีปัญหาในการหาเคสสำหรับ LG Lucid 2 ใหม่ของฉัน แต่ในที่สุดก็พบเคสนี้ใน Amazon สีสวยมากและใช้งานได้ดีเช่นเดียวกับถ้าไม่ดีกว่านาก หวังว่าจะมีให้มากขึ้นในช่วงเทศกาลคริสต์มาสหน้า โดยรวมแล้วน่ารักมาก ๆ ฉันรักเสือชีตาห์ :)'}}\n",
    "\n",
    "{'correct': 0, 'review_star': 1, 'translation': {'en': \"This is the second battery charger I bought as a Christmas present, that came from Amazon, after one purchased before for my son. His was still working. The first charger, received in July, broke apart and wouldn't charge anymore. Just found out two days ago they discontinued it without warning. It took quite some time to find the exact replacement charger. Too bad, really liked it. One of these days, will purchase an actual Nikon product, or go back to buying batteries.\", 'th': 'นี่เป็นเครื่องชาร์จแบตเตอรี่ก้อนที่สองที่ฉันซื้อเป็นของขวัญคริสต์มาสซึ่งมาจากอเมซอนหลังจากที่ซื้อมาเพื่อลูกชายของฉัน เขายังทำงานอยู่ เครื่องชาร์จแรกที่ได้รับในเดือนกรกฎาคมแตกเป็นชิ้น ๆ และจะไม่ชาร์จอีกต่อไป เพิ่งค้นพบเมื่อสองวันก่อนพวกเขาหยุดมันโดยไม่มีการเตือนล่วงหน้า ใช้เวลาพอสมควรในการหาที่ชาร์จที่ถูกต้อง แย่มากชอบมาก สักวันหนึ่งจะซื้อผลิตภัณฑ์ Nikon จริงหรือกลับไปซื้อแบตเตอรี่'}}\n",
    "\n",
    "{'correct': 1, 'review_star': 1, 'translation': {'en': 'I loved the idea of having a portable computer to share pictures with family and friends on my big screen. It worked really well for about 3 days, then when i opened it one evening there was water inside where all the wires came out. I cleaned that up and put some tape over that, so far, no leaks. My husband just told me yesterday, however, that this thing is trash.', 'th': 'ฉันชอบไอเดียที่มีคอมพิวเตอร์พกพาเพื่อแชร์รูปภาพกับครอบครัวและเพื่อน ๆ บนหน้าจอขนาดใหญ่ของฉัน มันใช้งานได้ดีจริง ๆ ประมาณ 3 วันจากนั้นเมื่อฉันเปิดมันในเย็นวันหนึ่งมีน้ำอยู่ภายในที่ซึ่งสายไฟทั้งหมดออกมา ฉันทำความสะอาดมันแล้ววางเทปไว้ที่นั่นจนถึงตอนนี้ไม่มีรอยรั่ว สามีของฉันเพิ่งบอกฉันเมื่อวานนี้ว่าสิ่งนี้เป็นขยะ'}}\n"
   ]
  },
  {
   "cell_type": "markdown",
   "metadata": {},
   "source": [
    "# Setup"
   ]
  },
  {
   "cell_type": "code",
   "execution_count": null,
   "metadata": {},
   "outputs": [],
   "source": [
    "%%sh\n",
    "pip -q install pip --upgrade\n",
    "pip -q install sagemaker --upgrade"
   ]
  },
  {
   "cell_type": "code",
   "execution_count": 2,
   "metadata": {},
   "outputs": [
    {
     "name": "stdout",
     "output_type": "stream",
     "text": [
      "2.46.0\n"
     ]
    }
   ],
   "source": [
    "import sagemaker\n",
    "\n",
    "print(sagemaker.__version__)\n",
    "\n",
    "sess = sagemaker.Session()\n",
    "bucket = sess.default_bucket()"
   ]
  },
  {
   "cell_type": "markdown",
   "metadata": {},
   "source": [
    "# Use processed data in S3"
   ]
  },
  {
   "cell_type": "code",
   "execution_count": 3,
   "metadata": {},
   "outputs": [],
   "source": [
    "train_input_path = 's3://sagemaker-eu-west-1-613904931467/sagemaker-scikit-learn-2021-06-16-07-57-40-837/output/training'\n",
    "valid_input_path = 's3://sagemaker-eu-west-1-613904931467/sagemaker-scikit-learn-2021-06-16-07-57-40-837/output/validation'"
   ]
  },
  {
   "cell_type": "markdown",
   "metadata": {},
   "source": [
    "# Fine-tuning & starting Sagemaker Training Job"
   ]
  },
  {
   "cell_type": "code",
   "execution_count": 4,
   "metadata": {},
   "outputs": [
    {
     "name": "stdout",
     "output_type": "stream",
     "text": [
      "\u001b[34mimport\u001b[39;49;00m \u001b[04m\u001b[36mrandom\u001b[39;49;00m, \u001b[04m\u001b[36msys\u001b[39;49;00m, \u001b[04m\u001b[36margparse\u001b[39;49;00m, \u001b[04m\u001b[36mos\u001b[39;49;00m, \u001b[04m\u001b[36mlogging\u001b[39;49;00m, \u001b[04m\u001b[36mtorch\u001b[39;49;00m\n",
      "\u001b[34mfrom\u001b[39;49;00m \u001b[04m\u001b[36mtransformers\u001b[39;49;00m \u001b[34mimport\u001b[39;49;00m AutoModelForSequenceClassification, Trainer, TrainingArguments\n",
      "\u001b[34mfrom\u001b[39;49;00m \u001b[04m\u001b[36msklearn\u001b[39;49;00m\u001b[04m\u001b[36m.\u001b[39;49;00m\u001b[04m\u001b[36mmetrics\u001b[39;49;00m \u001b[34mimport\u001b[39;49;00m accuracy_score, precision_recall_fscore_support\n",
      "\u001b[34mfrom\u001b[39;49;00m \u001b[04m\u001b[36mdatasets\u001b[39;49;00m \u001b[34mimport\u001b[39;49;00m load_from_disk\n",
      "\n",
      "\u001b[34mif\u001b[39;49;00m \u001b[31m__name__\u001b[39;49;00m == \u001b[33m\"\u001b[39;49;00m\u001b[33m__main__\u001b[39;49;00m\u001b[33m\"\u001b[39;49;00m:\n",
      "\n",
      "    parser = argparse.ArgumentParser()\n",
      "\n",
      "    \u001b[37m# hyperparameters sent by the client are passed as command-line arguments to the script.\u001b[39;49;00m\n",
      "    parser.add_argument(\u001b[33m\"\u001b[39;49;00m\u001b[33m--epochs\u001b[39;49;00m\u001b[33m\"\u001b[39;49;00m, \u001b[36mtype\u001b[39;49;00m=\u001b[36mint\u001b[39;49;00m, default=\u001b[34m3\u001b[39;49;00m)\n",
      "    parser.add_argument(\u001b[33m\"\u001b[39;49;00m\u001b[33m--train-batch-size\u001b[39;49;00m\u001b[33m\"\u001b[39;49;00m, \u001b[36mtype\u001b[39;49;00m=\u001b[36mint\u001b[39;49;00m, default=\u001b[34m32\u001b[39;49;00m)\n",
      "    parser.add_argument(\u001b[33m\"\u001b[39;49;00m\u001b[33m--eval-batch-size\u001b[39;49;00m\u001b[33m\"\u001b[39;49;00m, \u001b[36mtype\u001b[39;49;00m=\u001b[36mint\u001b[39;49;00m, default=\u001b[34m64\u001b[39;49;00m)\n",
      "    parser.add_argument(\u001b[33m\"\u001b[39;49;00m\u001b[33m--save-strategy\u001b[39;49;00m\u001b[33m\"\u001b[39;49;00m, \u001b[36mtype\u001b[39;49;00m=\u001b[36mstr\u001b[39;49;00m, default=\u001b[33m'\u001b[39;49;00m\u001b[33mno\u001b[39;49;00m\u001b[33m'\u001b[39;49;00m)\n",
      "    parser.add_argument(\u001b[33m\"\u001b[39;49;00m\u001b[33m--save-steps\u001b[39;49;00m\u001b[33m\"\u001b[39;49;00m, \u001b[36mtype\u001b[39;49;00m=\u001b[36mint\u001b[39;49;00m, default=\u001b[34m500\u001b[39;49;00m)\n",
      "    parser.add_argument(\u001b[33m\"\u001b[39;49;00m\u001b[33m--model-name\u001b[39;49;00m\u001b[33m\"\u001b[39;49;00m, \u001b[36mtype\u001b[39;49;00m=\u001b[36mstr\u001b[39;49;00m)\n",
      "    parser.add_argument(\u001b[33m\"\u001b[39;49;00m\u001b[33m--learning-rate\u001b[39;49;00m\u001b[33m\"\u001b[39;49;00m, \u001b[36mtype\u001b[39;49;00m=\u001b[36mstr\u001b[39;49;00m, default=\u001b[34m5e-5\u001b[39;49;00m)\n",
      "\n",
      "    \u001b[37m# Data, model, and output directories\u001b[39;49;00m\n",
      "    parser.add_argument(\u001b[33m\"\u001b[39;49;00m\u001b[33m--output-data-dir\u001b[39;49;00m\u001b[33m\"\u001b[39;49;00m, \u001b[36mtype\u001b[39;49;00m=\u001b[36mstr\u001b[39;49;00m, default=os.environ[\u001b[33m\"\u001b[39;49;00m\u001b[33mSM_OUTPUT_DATA_DIR\u001b[39;49;00m\u001b[33m\"\u001b[39;49;00m])\n",
      "    parser.add_argument(\u001b[33m\"\u001b[39;49;00m\u001b[33m--model-dir\u001b[39;49;00m\u001b[33m\"\u001b[39;49;00m, \u001b[36mtype\u001b[39;49;00m=\u001b[36mstr\u001b[39;49;00m, default=os.environ[\u001b[33m\"\u001b[39;49;00m\u001b[33mSM_MODEL_DIR\u001b[39;49;00m\u001b[33m\"\u001b[39;49;00m])\n",
      "    parser.add_argument(\u001b[33m\"\u001b[39;49;00m\u001b[33m--n-gpus\u001b[39;49;00m\u001b[33m\"\u001b[39;49;00m, \u001b[36mtype\u001b[39;49;00m=\u001b[36mstr\u001b[39;49;00m, default=os.environ[\u001b[33m\"\u001b[39;49;00m\u001b[33mSM_NUM_GPUS\u001b[39;49;00m\u001b[33m\"\u001b[39;49;00m])\n",
      "    parser.add_argument(\u001b[33m\"\u001b[39;49;00m\u001b[33m--train-dir\u001b[39;49;00m\u001b[33m\"\u001b[39;49;00m, \u001b[36mtype\u001b[39;49;00m=\u001b[36mstr\u001b[39;49;00m, default=os.environ[\u001b[33m\"\u001b[39;49;00m\u001b[33mSM_CHANNEL_TRAIN\u001b[39;49;00m\u001b[33m\"\u001b[39;49;00m])\n",
      "    parser.add_argument(\u001b[33m\"\u001b[39;49;00m\u001b[33m--valid-dir\u001b[39;49;00m\u001b[33m\"\u001b[39;49;00m, \u001b[36mtype\u001b[39;49;00m=\u001b[36mstr\u001b[39;49;00m, default=os.environ[\u001b[33m\"\u001b[39;49;00m\u001b[33mSM_CHANNEL_VALID\u001b[39;49;00m\u001b[33m\"\u001b[39;49;00m])\n",
      "\n",
      "    args, _ = parser.parse_known_args()\n",
      "\n",
      "    \u001b[37m# load datasets\u001b[39;49;00m\n",
      "    train_dataset = load_from_disk(args.train_dir)\n",
      "    valid_dataset = load_from_disk(args.valid_dir)\n",
      "    \n",
      "    logger = logging.getLogger(\u001b[31m__name__\u001b[39;49;00m)\n",
      "    logger.info(\u001b[33mf\u001b[39;49;00m\u001b[33m\"\u001b[39;49;00m\u001b[33m loaded train_dataset length is: \u001b[39;49;00m\u001b[33m{\u001b[39;49;00m\u001b[36mlen\u001b[39;49;00m(train_dataset)\u001b[33m}\u001b[39;49;00m\u001b[33m\"\u001b[39;49;00m)\n",
      "    logger.info(\u001b[33mf\u001b[39;49;00m\u001b[33m\"\u001b[39;49;00m\u001b[33m loaded valid_dataset length is: \u001b[39;49;00m\u001b[33m{\u001b[39;49;00m\u001b[36mlen\u001b[39;49;00m(valid_dataset)\u001b[33m}\u001b[39;49;00m\u001b[33m\"\u001b[39;49;00m)\n",
      "\n",
      "    \u001b[37m# compute metrics function for binary classification\u001b[39;49;00m\n",
      "    \u001b[34mdef\u001b[39;49;00m \u001b[32mcompute_metrics\u001b[39;49;00m(pred):\n",
      "        labels = pred.label_ids\n",
      "        preds = pred.predictions.argmax(-\u001b[34m1\u001b[39;49;00m)\n",
      "        precision, recall, f1, _ = precision_recall_fscore_support(labels, preds, average=\u001b[33m\"\u001b[39;49;00m\u001b[33mbinary\u001b[39;49;00m\u001b[33m\"\u001b[39;49;00m)\n",
      "        acc = accuracy_score(labels, preds)\n",
      "        \u001b[34mreturn\u001b[39;49;00m {\u001b[33m\"\u001b[39;49;00m\u001b[33maccuracy\u001b[39;49;00m\u001b[33m\"\u001b[39;49;00m: acc, \u001b[33m\"\u001b[39;49;00m\u001b[33mf1\u001b[39;49;00m\u001b[33m\"\u001b[39;49;00m: f1, \u001b[33m\"\u001b[39;49;00m\u001b[33mprecision\u001b[39;49;00m\u001b[33m\"\u001b[39;49;00m: precision, \u001b[33m\"\u001b[39;49;00m\u001b[33mrecall\u001b[39;49;00m\u001b[33m\"\u001b[39;49;00m: recall}\n",
      "\n",
      "    \u001b[37m# download model from model hub\u001b[39;49;00m\n",
      "    model = AutoModelForSequenceClassification.from_pretrained(args.model_name)\n",
      "\n",
      "    \u001b[37m# define training args\u001b[39;49;00m\n",
      "    training_args = TrainingArguments(\n",
      "        output_dir=args.model_dir,\n",
      "        num_train_epochs=args.epochs,\n",
      "        per_device_train_batch_size=args.train_batch_size,\n",
      "        per_device_eval_batch_size=args.eval_batch_size,\n",
      "        save_strategy=args.save_strategy,\n",
      "        save_steps=args.save_steps,\n",
      "        evaluation_strategy=\u001b[33m\"\u001b[39;49;00m\u001b[33mepoch\u001b[39;49;00m\u001b[33m\"\u001b[39;49;00m,\n",
      "        logging_dir=\u001b[33mf\u001b[39;49;00m\u001b[33m\"\u001b[39;49;00m\u001b[33m{\u001b[39;49;00margs.output_data_dir\u001b[33m}\u001b[39;49;00m\u001b[33m/logs\u001b[39;49;00m\u001b[33m\"\u001b[39;49;00m,\n",
      "        learning_rate=\u001b[36mfloat\u001b[39;49;00m(args.learning_rate),\n",
      "    )\n",
      "\n",
      "    \u001b[37m# create Trainer instance\u001b[39;49;00m\n",
      "    trainer = Trainer(\n",
      "        model=model,\n",
      "        args=training_args,\n",
      "        compute_metrics=compute_metrics,\n",
      "        train_dataset=train_dataset,\n",
      "        eval_dataset=valid_dataset,\n",
      "    )\n",
      "\n",
      "    \u001b[37m# train model\u001b[39;49;00m\n",
      "    trainer.train()\n",
      "\n",
      "    \u001b[37m# evaluate model\u001b[39;49;00m\n",
      "    eval_result = trainer.evaluate(eval_dataset=valid_dataset)\n",
      "\n",
      "    \u001b[37m# writes eval result to file which can be accessed later in s3 output\u001b[39;49;00m\n",
      "    \u001b[34mwith\u001b[39;49;00m \u001b[36mopen\u001b[39;49;00m(os.path.join(args.output_data_dir, \u001b[33m\"\u001b[39;49;00m\u001b[33meval_results.txt\u001b[39;49;00m\u001b[33m\"\u001b[39;49;00m), \u001b[33m\"\u001b[39;49;00m\u001b[33mw\u001b[39;49;00m\u001b[33m\"\u001b[39;49;00m) \u001b[34mas\u001b[39;49;00m writer:\n",
      "        \u001b[36mprint\u001b[39;49;00m(\u001b[33mf\u001b[39;49;00m\u001b[33m\"\u001b[39;49;00m\u001b[33m***** Eval results *****\u001b[39;49;00m\u001b[33m\"\u001b[39;49;00m)\n",
      "        \u001b[34mfor\u001b[39;49;00m key, value \u001b[35min\u001b[39;49;00m \u001b[36msorted\u001b[39;49;00m(eval_result.items()):\n",
      "            writer.write(\u001b[33mf\u001b[39;49;00m\u001b[33m\"\u001b[39;49;00m\u001b[33m{\u001b[39;49;00mkey\u001b[33m}\u001b[39;49;00m\u001b[33m = \u001b[39;49;00m\u001b[33m{\u001b[39;49;00mvalue\u001b[33m}\u001b[39;49;00m\u001b[33m\\n\u001b[39;49;00m\u001b[33m\"\u001b[39;49;00m)\n",
      "\n",
      "    \u001b[37m# Saves the model to s3\u001b[39;49;00m\n",
      "    trainer.save_model(args.model_dir)\n"
     ]
    }
   ],
   "source": [
    "!pygmentize train.py"
   ]
  },
  {
   "cell_type": "markdown",
   "metadata": {},
   "source": [
    "## Fine-tune the Hugging Face model on SageMaker"
   ]
  },
  {
   "cell_type": "code",
   "execution_count": 5,
   "metadata": {},
   "outputs": [],
   "source": [
    "hyperparameters={\n",
    "    'epochs': 1,\n",
    "    'train-batch_size': 32,\n",
    "    'model-name':'distilbert-base-uncased'\n",
    "}"
   ]
  },
  {
   "cell_type": "code",
   "execution_count": 6,
   "metadata": {},
   "outputs": [],
   "source": [
    "from sagemaker.huggingface import HuggingFace\n",
    "\n",
    "huggingface_estimator = HuggingFace(\n",
    "    role=sagemaker.get_execution_role(),\n",
    "    # Fine-tuning script\n",
    "    entry_point='train.py',\n",
    "    hyperparameters=hyperparameters,\n",
    "    # Infrastructure\n",
    "    transformers_version='4.4.2',\n",
    "    pytorch_version='1.6.0',\n",
    "    py_version='py36',\n",
    "    instance_type='ml.p3.8xlarge',\n",
    "    instance_count=1\n",
    ")"
   ]
  },
  {
   "cell_type": "code",
   "execution_count": 7,
   "metadata": {
    "scrolled": true
   },
   "outputs": [
    {
     "name": "stdout",
     "output_type": "stream",
     "text": [
      "2021-06-16 08:09:28 Starting - Starting the training job...\n",
      "2021-06-16 08:09:51 Starting - Launching requested ML instancesProfilerReport-1623830968: InProgress\n",
      ".........\n",
      "2021-06-16 08:11:12 Starting - Preparing the instances for training.........\n",
      "2021-06-16 08:12:53 Downloading - Downloading input data...\n",
      "2021-06-16 08:13:26 Training - Downloading the training image............\n",
      "2021-06-16 08:15:19 Training - Training image download completed. Training in progress.\u001b[34mbash: cannot set terminal process group (-1): Inappropriate ioctl for device\u001b[0m\n",
      "\u001b[34mbash: no job control in this shell\u001b[0m\n",
      "\u001b[34m2021-06-16 08:15:20,589 sagemaker-training-toolkit INFO     Imported framework sagemaker_pytorch_container.training\u001b[0m\n",
      "\u001b[34m2021-06-16 08:15:20,631 sagemaker_pytorch_container.training INFO     Block until all host DNS lookups succeed.\u001b[0m\n",
      "\u001b[34m2021-06-16 08:15:23,679 sagemaker_pytorch_container.training INFO     Invoking user training script.\u001b[0m\n",
      "\u001b[34m2021-06-16 08:15:24,156 sagemaker-training-toolkit INFO     Invoking user script\n",
      "\u001b[0m\n",
      "\u001b[34mTraining Env:\n",
      "\u001b[0m\n",
      "\u001b[34m{\n",
      "    \"additional_framework_parameters\": {},\n",
      "    \"channel_input_dirs\": {\n",
      "        \"valid\": \"/opt/ml/input/data/valid\",\n",
      "        \"train\": \"/opt/ml/input/data/train\"\n",
      "    },\n",
      "    \"current_host\": \"algo-1\",\n",
      "    \"framework_module\": \"sagemaker_pytorch_container.training:main\",\n",
      "    \"hosts\": [\n",
      "        \"algo-1\"\n",
      "    ],\n",
      "    \"hyperparameters\": {\n",
      "        \"train-batch_size\": 32,\n",
      "        \"model-name\": \"distilbert-base-uncased\",\n",
      "        \"epochs\": 1\n",
      "    },\n",
      "    \"input_config_dir\": \"/opt/ml/input/config\",\n",
      "    \"input_data_config\": {\n",
      "        \"valid\": {\n",
      "            \"TrainingInputMode\": \"File\",\n",
      "            \"S3DistributionType\": \"FullyReplicated\",\n",
      "            \"RecordWrapperType\": \"None\"\n",
      "        },\n",
      "        \"train\": {\n",
      "            \"TrainingInputMode\": \"File\",\n",
      "            \"S3DistributionType\": \"FullyReplicated\",\n",
      "            \"RecordWrapperType\": \"None\"\n",
      "        }\n",
      "    },\n",
      "    \"input_dir\": \"/opt/ml/input\",\n",
      "    \"is_master\": true,\n",
      "    \"job_name\": \"huggingface-pytorch-training-2021-06-16-08-09-27-826\",\n",
      "    \"log_level\": 20,\n",
      "    \"master_hostname\": \"algo-1\",\n",
      "    \"model_dir\": \"/opt/ml/model\",\n",
      "    \"module_dir\": \"s3://sagemaker-eu-west-1-613904931467/huggingface-pytorch-training-2021-06-16-08-09-27-826/source/sourcedir.tar.gz\",\n",
      "    \"module_name\": \"train\",\n",
      "    \"network_interface_name\": \"eth0\",\n",
      "    \"num_cpus\": 32,\n",
      "    \"num_gpus\": 4,\n",
      "    \"output_data_dir\": \"/opt/ml/output/data\",\n",
      "    \"output_dir\": \"/opt/ml/output\",\n",
      "    \"output_intermediate_dir\": \"/opt/ml/output/intermediate\",\n",
      "    \"resource_config\": {\n",
      "        \"current_host\": \"algo-1\",\n",
      "        \"hosts\": [\n",
      "            \"algo-1\"\n",
      "        ],\n",
      "        \"network_interface_name\": \"eth0\"\n",
      "    },\n",
      "    \"user_entry_point\": \"train.py\"\u001b[0m\n",
      "\u001b[34m}\n",
      "\u001b[0m\n",
      "\u001b[34mEnvironment variables:\n",
      "\u001b[0m\n",
      "\u001b[34mSM_HOSTS=[\"algo-1\"]\u001b[0m\n",
      "\u001b[34mSM_NETWORK_INTERFACE_NAME=eth0\u001b[0m\n",
      "\u001b[34mSM_HPS={\"epochs\":1,\"model-name\":\"distilbert-base-uncased\",\"train-batch_size\":32}\u001b[0m\n",
      "\u001b[34mSM_USER_ENTRY_POINT=train.py\u001b[0m\n",
      "\u001b[34mSM_FRAMEWORK_PARAMS={}\u001b[0m\n",
      "\u001b[34mSM_RESOURCE_CONFIG={\"current_host\":\"algo-1\",\"hosts\":[\"algo-1\"],\"network_interface_name\":\"eth0\"}\u001b[0m\n",
      "\u001b[34mSM_INPUT_DATA_CONFIG={\"train\":{\"RecordWrapperType\":\"None\",\"S3DistributionType\":\"FullyReplicated\",\"TrainingInputMode\":\"File\"},\"valid\":{\"RecordWrapperType\":\"None\",\"S3DistributionType\":\"FullyReplicated\",\"TrainingInputMode\":\"File\"}}\u001b[0m\n",
      "\u001b[34mSM_OUTPUT_DATA_DIR=/opt/ml/output/data\u001b[0m\n",
      "\u001b[34mSM_CHANNELS=[\"train\",\"valid\"]\u001b[0m\n",
      "\u001b[34mSM_CURRENT_HOST=algo-1\u001b[0m\n",
      "\u001b[34mSM_MODULE_NAME=train\u001b[0m\n",
      "\u001b[34mSM_LOG_LEVEL=20\u001b[0m\n",
      "\u001b[34mSM_FRAMEWORK_MODULE=sagemaker_pytorch_container.training:main\u001b[0m\n",
      "\u001b[34mSM_INPUT_DIR=/opt/ml/input\u001b[0m\n",
      "\u001b[34mSM_INPUT_CONFIG_DIR=/opt/ml/input/config\u001b[0m\n",
      "\u001b[34mSM_OUTPUT_DIR=/opt/ml/output\u001b[0m\n",
      "\u001b[34mSM_NUM_CPUS=32\u001b[0m\n",
      "\u001b[34mSM_NUM_GPUS=4\u001b[0m\n",
      "\u001b[34mSM_MODEL_DIR=/opt/ml/model\u001b[0m\n",
      "\u001b[34mSM_MODULE_DIR=s3://sagemaker-eu-west-1-613904931467/huggingface-pytorch-training-2021-06-16-08-09-27-826/source/sourcedir.tar.gz\u001b[0m\n",
      "\u001b[34mSM_TRAINING_ENV={\"additional_framework_parameters\":{},\"channel_input_dirs\":{\"train\":\"/opt/ml/input/data/train\",\"valid\":\"/opt/ml/input/data/valid\"},\"current_host\":\"algo-1\",\"framework_module\":\"sagemaker_pytorch_container.training:main\",\"hosts\":[\"algo-1\"],\"hyperparameters\":{\"epochs\":1,\"model-name\":\"distilbert-base-uncased\",\"train-batch_size\":32},\"input_config_dir\":\"/opt/ml/input/config\",\"input_data_config\":{\"train\":{\"RecordWrapperType\":\"None\",\"S3DistributionType\":\"FullyReplicated\",\"TrainingInputMode\":\"File\"},\"valid\":{\"RecordWrapperType\":\"None\",\"S3DistributionType\":\"FullyReplicated\",\"TrainingInputMode\":\"File\"}},\"input_dir\":\"/opt/ml/input\",\"is_master\":true,\"job_name\":\"huggingface-pytorch-training-2021-06-16-08-09-27-826\",\"log_level\":20,\"master_hostname\":\"algo-1\",\"model_dir\":\"/opt/ml/model\",\"module_dir\":\"s3://sagemaker-eu-west-1-613904931467/huggingface-pytorch-training-2021-06-16-08-09-27-826/source/sourcedir.tar.gz\",\"module_name\":\"train\",\"network_interface_name\":\"eth0\",\"num_cpus\":32,\"num_gpus\":4,\"output_data_dir\":\"/opt/ml/output/data\",\"output_dir\":\"/opt/ml/output\",\"output_intermediate_dir\":\"/opt/ml/output/intermediate\",\"resource_config\":{\"current_host\":\"algo-1\",\"hosts\":[\"algo-1\"],\"network_interface_name\":\"eth0\"},\"user_entry_point\":\"train.py\"}\u001b[0m\n",
      "\u001b[34mSM_USER_ARGS=[\"--epochs\",\"1\",\"--model-name\",\"distilbert-base-uncased\",\"--train-batch_size\",\"32\"]\u001b[0m\n",
      "\u001b[34mSM_OUTPUT_INTERMEDIATE_DIR=/opt/ml/output/intermediate\u001b[0m\n",
      "\u001b[34mSM_CHANNEL_VALID=/opt/ml/input/data/valid\u001b[0m\n",
      "\u001b[34mSM_CHANNEL_TRAIN=/opt/ml/input/data/train\u001b[0m\n",
      "\u001b[34mSM_HP_TRAIN-BATCH_SIZE=32\u001b[0m\n",
      "\u001b[34mSM_HP_MODEL-NAME=distilbert-base-uncased\u001b[0m\n",
      "\u001b[34mSM_HP_EPOCHS=1\u001b[0m\n",
      "\u001b[34mPYTHONPATH=/opt/ml/code:/opt/conda/bin:/opt/conda/lib/python36.zip:/opt/conda/lib/python3.6:/opt/conda/lib/python3.6/lib-dynload:/opt/conda/lib/python3.6/site-packages\n",
      "\u001b[0m\n",
      "\u001b[34mInvoking script with the following command:\n",
      "\u001b[0m\n",
      "\u001b[34m/opt/conda/bin/python3.6 train.py --epochs 1 --model-name distilbert-base-uncased --train-batch_size 32\n",
      "\n",
      "\u001b[0m\n",
      "\u001b[34mSome weights of the model checkpoint at distilbert-base-uncased were not used when initializing DistilBertForSequenceClassification: ['vocab_transform.weight', 'vocab_transform.bias', 'vocab_layer_norm.weight', 'vocab_layer_norm.bias', 'vocab_projector.weight', 'vocab_projector.bias']\u001b[0m\n",
      "\u001b[34m- This IS expected if you are initializing DistilBertForSequenceClassification from the checkpoint of a model trained on another task or with another architecture (e.g. initializing a BertForSequenceClassification model from a BertForPreTraining model).\u001b[0m\n",
      "\u001b[34m- This IS NOT expected if you are initializing DistilBertForSequenceClassification from the checkpoint of a model that you expect to be exactly identical (initializing a BertForSequenceClassification model from a BertForSequenceClassification model).\u001b[0m\n",
      "\u001b[34mSome weights of DistilBertForSequenceClassification were not initialized from the model checkpoint at distilbert-base-uncased and are newly initialized: ['pre_classifier.weight', 'pre_classifier.bias', 'classifier.weight', 'classifier.bias']\u001b[0m\n",
      "\u001b[34mYou should probably TRAIN this model on a down-stream task to be able to use it for predictions and inference.\u001b[0m\n",
      "\u001b[34m[2021-06-16 08:15:47.167 algo-1:25 INFO utils.py:27] RULE_JOB_STOP_SIGNAL_FILENAME: None\u001b[0m\n",
      "\u001b[34m[2021-06-16 08:15:47.367 algo-1:25 INFO profiler_config_parser.py:102] User has disabled profiler.\u001b[0m\n",
      "\u001b[34m[2021-06-16 08:15:47.367 algo-1:25 INFO json_config.py:91] Creating hook from json_config at /opt/ml/input/config/debughookconfig.json.\u001b[0m\n",
      "\u001b[34m[2021-06-16 08:15:47.368 algo-1:25 INFO hook.py:199] tensorboard_dir has not been set for the hook. SMDebug will not be exporting tensorboard summaries.\u001b[0m\n",
      "\u001b[34m[2021-06-16 08:15:47.471 algo-1:25 INFO hook.py:253] Saving to /opt/ml/output/tensors\u001b[0m\n",
      "\u001b[34m[2021-06-16 08:15:47.471 algo-1:25 INFO state_store.py:67] The checkpoint config file /opt/ml/input/config/checkpointconfig.json does not exist.\u001b[0m\n",
      "\u001b[34m[2021-06-16 08:15:47.811 algo-1:25 INFO hook.py:550] name:module.distilbert.embeddings.word_embeddings.weight count_params:23440896\u001b[0m\n",
      "\u001b[34m[2021-06-16 08:15:47.811 algo-1:25 INFO hook.py:550] name:module.distilbert.embeddings.position_embeddings.weight count_params:393216\u001b[0m\n",
      "\u001b[34m[2021-06-16 08:15:47.811 algo-1:25 INFO hook.py:550] name:module.distilbert.embeddings.LayerNorm.weight count_params:768\u001b[0m\n",
      "\u001b[34m[2021-06-16 08:15:47.811 algo-1:25 INFO hook.py:550] name:module.distilbert.embeddings.LayerNorm.bias count_params:768\u001b[0m\n",
      "\u001b[34m[2021-06-16 08:15:47.812 algo-1:25 INFO hook.py:550] name:module.distilbert.transformer.layer.0.attention.q_lin.weight count_params:589824\u001b[0m\n",
      "\u001b[34m[2021-06-16 08:15:47.812 algo-1:25 INFO hook.py:550] name:module.distilbert.transformer.layer.0.attention.q_lin.bias count_params:768\u001b[0m\n",
      "\u001b[34m[2021-06-16 08:15:47.812 algo-1:25 INFO hook.py:550] name:module.distilbert.transformer.layer.0.attention.k_lin.weight count_params:589824\u001b[0m\n",
      "\u001b[34m[2021-06-16 08:15:47.812 algo-1:25 INFO hook.py:550] name:module.distilbert.transformer.layer.0.attention.k_lin.bias count_params:768\u001b[0m\n",
      "\u001b[34m[2021-06-16 08:15:47.812 algo-1:25 INFO hook.py:550] name:module.distilbert.transformer.layer.0.attention.v_lin.weight count_params:589824\u001b[0m\n",
      "\u001b[34m[2021-06-16 08:15:47.812 algo-1:25 INFO hook.py:550] name:module.distilbert.transformer.layer.0.attention.v_lin.bias count_params:768\u001b[0m\n",
      "\u001b[34m[2021-06-16 08:15:47.812 algo-1:25 INFO hook.py:550] name:module.distilbert.transformer.layer.0.attention.out_lin.weight count_params:589824\u001b[0m\n",
      "\u001b[34m[2021-06-16 08:15:47.812 algo-1:25 INFO hook.py:550] name:module.distilbert.transformer.layer.0.attention.out_lin.bias count_params:768\u001b[0m\n",
      "\u001b[34m[2021-06-16 08:15:47.812 algo-1:25 INFO hook.py:550] name:module.distilbert.transformer.layer.0.sa_layer_norm.weight count_params:768\u001b[0m\n",
      "\u001b[34m[2021-06-16 08:15:47.812 algo-1:25 INFO hook.py:550] name:module.distilbert.transformer.layer.0.sa_layer_norm.bias count_params:768\u001b[0m\n",
      "\u001b[34m[2021-06-16 08:15:47.812 algo-1:25 INFO hook.py:550] name:module.distilbert.transformer.layer.0.ffn.lin1.weight count_params:2359296\u001b[0m\n",
      "\u001b[34m[2021-06-16 08:15:47.812 algo-1:25 INFO hook.py:550] name:module.distilbert.transformer.layer.0.ffn.lin1.bias count_params:3072\u001b[0m\n",
      "\u001b[34m[2021-06-16 08:15:47.812 algo-1:25 INFO hook.py:550] name:module.distilbert.transformer.layer.0.ffn.lin2.weight count_params:2359296\u001b[0m\n",
      "\u001b[34m[2021-06-16 08:15:47.812 algo-1:25 INFO hook.py:550] name:module.distilbert.transformer.layer.0.ffn.lin2.bias count_params:768\u001b[0m\n",
      "\u001b[34m[2021-06-16 08:15:47.813 algo-1:25 INFO hook.py:550] name:module.distilbert.transformer.layer.0.output_layer_norm.weight count_params:768\u001b[0m\n",
      "\u001b[34m[2021-06-16 08:15:47.813 algo-1:25 INFO hook.py:550] name:module.distilbert.transformer.layer.0.output_layer_norm.bias count_params:768\u001b[0m\n",
      "\u001b[34m[2021-06-16 08:15:47.813 algo-1:25 INFO hook.py:550] name:module.distilbert.transformer.layer.1.attention.q_lin.weight count_params:589824\u001b[0m\n",
      "\u001b[34m[2021-06-16 08:15:47.813 algo-1:25 INFO hook.py:550] name:module.distilbert.transformer.layer.1.attention.q_lin.bias count_params:768\u001b[0m\n",
      "\u001b[34m[2021-06-16 08:15:47.813 algo-1:25 INFO hook.py:550] name:module.distilbert.transformer.layer.1.attention.k_lin.weight count_params:589824\u001b[0m\n",
      "\u001b[34m[2021-06-16 08:15:47.813 algo-1:25 INFO hook.py:550] name:module.distilbert.transformer.layer.1.attention.k_lin.bias count_params:768\u001b[0m\n",
      "\u001b[34m[2021-06-16 08:15:47.813 algo-1:25 INFO hook.py:550] name:module.distilbert.transformer.layer.1.attention.v_lin.weight count_params:589824\u001b[0m\n",
      "\u001b[34m[2021-06-16 08:15:47.813 algo-1:25 INFO hook.py:550] name:module.distilbert.transformer.layer.1.attention.v_lin.bias count_params:768\u001b[0m\n",
      "\u001b[34m[2021-06-16 08:15:47.813 algo-1:25 INFO hook.py:550] name:module.distilbert.transformer.layer.1.attention.out_lin.weight count_params:589824\u001b[0m\n",
      "\u001b[34m[2021-06-16 08:15:47.813 algo-1:25 INFO hook.py:550] name:module.distilbert.transformer.layer.1.attention.out_lin.bias count_params:768\u001b[0m\n",
      "\u001b[34m[2021-06-16 08:15:47.813 algo-1:25 INFO hook.py:550] name:module.distilbert.transformer.layer.1.sa_layer_norm.weight count_params:768\u001b[0m\n",
      "\u001b[34m[2021-06-16 08:15:47.813 algo-1:25 INFO hook.py:550] name:module.distilbert.transformer.layer.1.sa_layer_norm.bias count_params:768\u001b[0m\n",
      "\u001b[34m[2021-06-16 08:15:47.813 algo-1:25 INFO hook.py:550] name:module.distilbert.transformer.layer.1.ffn.lin1.weight count_params:2359296\u001b[0m\n",
      "\u001b[34m[2021-06-16 08:15:47.813 algo-1:25 INFO hook.py:550] name:module.distilbert.transformer.layer.1.ffn.lin1.bias count_params:3072\u001b[0m\n",
      "\u001b[34m[2021-06-16 08:15:47.813 algo-1:25 INFO hook.py:550] name:module.distilbert.transformer.layer.1.ffn.lin2.weight count_params:2359296\u001b[0m\n",
      "\u001b[34m[2021-06-16 08:15:47.814 algo-1:25 INFO hook.py:550] name:module.distilbert.transformer.layer.1.ffn.lin2.bias count_params:768\u001b[0m\n",
      "\u001b[34m[2021-06-16 08:15:47.814 algo-1:25 INFO hook.py:550] name:module.distilbert.transformer.layer.1.output_layer_norm.weight count_params:768\u001b[0m\n",
      "\u001b[34m[2021-06-16 08:15:47.814 algo-1:25 INFO hook.py:550] name:module.distilbert.transformer.layer.1.output_layer_norm.bias count_params:768\u001b[0m\n",
      "\u001b[34m[2021-06-16 08:15:47.814 algo-1:25 INFO hook.py:550] name:module.distilbert.transformer.layer.2.attention.q_lin.weight count_params:589824\u001b[0m\n",
      "\u001b[34m[2021-06-16 08:15:47.814 algo-1:25 INFO hook.py:550] name:module.distilbert.transformer.layer.2.attention.q_lin.bias count_params:768\u001b[0m\n",
      "\u001b[34m[2021-06-16 08:15:47.814 algo-1:25 INFO hook.py:550] name:module.distilbert.transformer.layer.2.attention.k_lin.weight count_params:589824\u001b[0m\n",
      "\u001b[34m[2021-06-16 08:15:47.814 algo-1:25 INFO hook.py:550] name:module.distilbert.transformer.layer.2.attention.k_lin.bias count_params:768\u001b[0m\n",
      "\u001b[34m[2021-06-16 08:15:47.814 algo-1:25 INFO hook.py:550] name:module.distilbert.transformer.layer.2.attention.v_lin.weight count_params:589824\u001b[0m\n",
      "\u001b[34m[2021-06-16 08:15:47.814 algo-1:25 INFO hook.py:550] name:module.distilbert.transformer.layer.2.attention.v_lin.bias count_params:768\u001b[0m\n",
      "\u001b[34m[2021-06-16 08:15:47.814 algo-1:25 INFO hook.py:550] name:module.distilbert.transformer.layer.2.attention.out_lin.weight count_params:589824\u001b[0m\n",
      "\u001b[34m[2021-06-16 08:15:47.814 algo-1:25 INFO hook.py:550] name:module.distilbert.transformer.layer.2.attention.out_lin.bias count_params:768\u001b[0m\n",
      "\u001b[34m[2021-06-16 08:15:47.814 algo-1:25 INFO hook.py:550] name:module.distilbert.transformer.layer.2.sa_layer_norm.weight count_params:768\u001b[0m\n",
      "\u001b[34m[2021-06-16 08:15:47.814 algo-1:25 INFO hook.py:550] name:module.distilbert.transformer.layer.2.sa_layer_norm.bias count_params:768\u001b[0m\n",
      "\u001b[34m[2021-06-16 08:15:47.814 algo-1:25 INFO hook.py:550] name:module.distilbert.transformer.layer.2.ffn.lin1.weight count_params:2359296\u001b[0m\n",
      "\u001b[34m[2021-06-16 08:15:47.815 algo-1:25 INFO hook.py:550] name:module.distilbert.transformer.layer.2.ffn.lin1.bias count_params:3072\u001b[0m\n",
      "\u001b[34m[2021-06-16 08:15:47.815 algo-1:25 INFO hook.py:550] name:module.distilbert.transformer.layer.2.ffn.lin2.weight count_params:2359296\u001b[0m\n",
      "\u001b[34m[2021-06-16 08:15:47.815 algo-1:25 INFO hook.py:550] name:module.distilbert.transformer.layer.2.ffn.lin2.bias count_params:768\u001b[0m\n",
      "\u001b[34m[2021-06-16 08:15:47.815 algo-1:25 INFO hook.py:550] name:module.distilbert.transformer.layer.2.output_layer_norm.weight count_params:768\u001b[0m\n",
      "\u001b[34m[2021-06-16 08:15:47.815 algo-1:25 INFO hook.py:550] name:module.distilbert.transformer.layer.2.output_layer_norm.bias count_params:768\u001b[0m\n",
      "\u001b[34m[2021-06-16 08:15:47.815 algo-1:25 INFO hook.py:550] name:module.distilbert.transformer.layer.3.attention.q_lin.weight count_params:589824\u001b[0m\n",
      "\u001b[34m[2021-06-16 08:15:47.815 algo-1:25 INFO hook.py:550] name:module.distilbert.transformer.layer.3.attention.q_lin.bias count_params:768\u001b[0m\n",
      "\u001b[34m[2021-06-16 08:15:47.815 algo-1:25 INFO hook.py:550] name:module.distilbert.transformer.layer.3.attention.k_lin.weight count_params:589824\u001b[0m\n",
      "\u001b[34m[2021-06-16 08:15:47.815 algo-1:25 INFO hook.py:550] name:module.distilbert.transformer.layer.3.attention.k_lin.bias count_params:768\u001b[0m\n",
      "\u001b[34m[2021-06-16 08:15:47.815 algo-1:25 INFO hook.py:550] name:module.distilbert.transformer.layer.3.attention.v_lin.weight count_params:589824\u001b[0m\n",
      "\u001b[34m[2021-06-16 08:15:47.815 algo-1:25 INFO hook.py:550] name:module.distilbert.transformer.layer.3.attention.v_lin.bias count_params:768\u001b[0m\n",
      "\u001b[34m[2021-06-16 08:15:47.815 algo-1:25 INFO hook.py:550] name:module.distilbert.transformer.layer.3.attention.out_lin.weight count_params:589824\u001b[0m\n",
      "\u001b[34m[2021-06-16 08:15:47.815 algo-1:25 INFO hook.py:550] name:module.distilbert.transformer.layer.3.attention.out_lin.bias count_params:768\u001b[0m\n",
      "\u001b[34m[2021-06-16 08:15:47.815 algo-1:25 INFO hook.py:550] name:module.distilbert.transformer.layer.3.sa_layer_norm.weight count_params:768\u001b[0m\n",
      "\u001b[34m[2021-06-16 08:15:47.815 algo-1:25 INFO hook.py:550] name:module.distilbert.transformer.layer.3.sa_layer_norm.bias count_params:768\u001b[0m\n",
      "\u001b[34m[2021-06-16 08:15:47.816 algo-1:25 INFO hook.py:550] name:module.distilbert.transformer.layer.3.ffn.lin1.weight count_params:2359296\u001b[0m\n",
      "\u001b[34m[2021-06-16 08:15:47.816 algo-1:25 INFO hook.py:550] name:module.distilbert.transformer.layer.3.ffn.lin1.bias count_params:3072\u001b[0m\n",
      "\u001b[34m[2021-06-16 08:15:47.816 algo-1:25 INFO hook.py:550] name:module.distilbert.transformer.layer.3.ffn.lin2.weight count_params:2359296\u001b[0m\n",
      "\u001b[34m[2021-06-16 08:15:47.816 algo-1:25 INFO hook.py:550] name:module.distilbert.transformer.layer.3.ffn.lin2.bias count_params:768\u001b[0m\n",
      "\u001b[34m[2021-06-16 08:15:47.816 algo-1:25 INFO hook.py:550] name:module.distilbert.transformer.layer.3.output_layer_norm.weight count_params:768\u001b[0m\n",
      "\u001b[34m[2021-06-16 08:15:47.816 algo-1:25 INFO hook.py:550] name:module.distilbert.transformer.layer.3.output_layer_norm.bias count_params:768\u001b[0m\n",
      "\u001b[34m[2021-06-16 08:15:47.816 algo-1:25 INFO hook.py:550] name:module.distilbert.transformer.layer.4.attention.q_lin.weight count_params:589824\u001b[0m\n",
      "\u001b[34m[2021-06-16 08:15:47.816 algo-1:25 INFO hook.py:550] name:module.distilbert.transformer.layer.4.attention.q_lin.bias count_params:768\u001b[0m\n",
      "\u001b[34m[2021-06-16 08:15:47.816 algo-1:25 INFO hook.py:550] name:module.distilbert.transformer.layer.4.attention.k_lin.weight count_params:589824\u001b[0m\n",
      "\u001b[34m[2021-06-16 08:15:47.816 algo-1:25 INFO hook.py:550] name:module.distilbert.transformer.layer.4.attention.k_lin.bias count_params:768\u001b[0m\n",
      "\u001b[34m[2021-06-16 08:15:47.816 algo-1:25 INFO hook.py:550] name:module.distilbert.transformer.layer.4.attention.v_lin.weight count_params:589824\u001b[0m\n",
      "\u001b[34m[2021-06-16 08:15:47.816 algo-1:25 INFO hook.py:550] name:module.distilbert.transformer.layer.4.attention.v_lin.bias count_params:768\u001b[0m\n",
      "\u001b[34m[2021-06-16 08:15:47.816 algo-1:25 INFO hook.py:550] name:module.distilbert.transformer.layer.4.attention.out_lin.weight count_params:589824\u001b[0m\n",
      "\u001b[34m[2021-06-16 08:15:47.816 algo-1:25 INFO hook.py:550] name:module.distilbert.transformer.layer.4.attention.out_lin.bias count_params:768\u001b[0m\n",
      "\u001b[34m[2021-06-16 08:15:47.817 algo-1:25 INFO hook.py:550] name:module.distilbert.transformer.layer.4.sa_layer_norm.weight count_params:768\u001b[0m\n",
      "\u001b[34m[2021-06-16 08:15:47.817 algo-1:25 INFO hook.py:550] name:module.distilbert.transformer.layer.4.sa_layer_norm.bias count_params:768\u001b[0m\n",
      "\u001b[34m[2021-06-16 08:15:47.817 algo-1:25 INFO hook.py:550] name:module.distilbert.transformer.layer.4.ffn.lin1.weight count_params:2359296\u001b[0m\n",
      "\u001b[34m[2021-06-16 08:15:47.817 algo-1:25 INFO hook.py:550] name:module.distilbert.transformer.layer.4.ffn.lin1.bias count_params:3072\u001b[0m\n",
      "\u001b[34m[2021-06-16 08:15:47.817 algo-1:25 INFO hook.py:550] name:module.distilbert.transformer.layer.4.ffn.lin2.weight count_params:2359296\u001b[0m\n",
      "\u001b[34m[2021-06-16 08:15:47.817 algo-1:25 INFO hook.py:550] name:module.distilbert.transformer.layer.4.ffn.lin2.bias count_params:768\u001b[0m\n",
      "\u001b[34m[2021-06-16 08:15:47.817 algo-1:25 INFO hook.py:550] name:module.distilbert.transformer.layer.4.output_layer_norm.weight count_params:768\u001b[0m\n",
      "\u001b[34m[2021-06-16 08:15:47.817 algo-1:25 INFO hook.py:550] name:module.distilbert.transformer.layer.4.output_layer_norm.bias count_params:768\u001b[0m\n",
      "\u001b[34m[2021-06-16 08:15:47.817 algo-1:25 INFO hook.py:550] name:module.distilbert.transformer.layer.5.attention.q_lin.weight count_params:589824\u001b[0m\n",
      "\u001b[34m[2021-06-16 08:15:47.817 algo-1:25 INFO hook.py:550] name:module.distilbert.transformer.layer.5.attention.q_lin.bias count_params:768\u001b[0m\n",
      "\u001b[34m[2021-06-16 08:15:47.817 algo-1:25 INFO hook.py:550] name:module.distilbert.transformer.layer.5.attention.k_lin.weight count_params:589824\u001b[0m\n",
      "\u001b[34m[2021-06-16 08:15:47.817 algo-1:25 INFO hook.py:550] name:module.distilbert.transformer.layer.5.attention.k_lin.bias count_params:768\u001b[0m\n",
      "\u001b[34m[2021-06-16 08:15:47.817 algo-1:25 INFO hook.py:550] name:module.distilbert.transformer.layer.5.attention.v_lin.weight count_params:589824\u001b[0m\n",
      "\u001b[34m[2021-06-16 08:15:47.817 algo-1:25 INFO hook.py:550] name:module.distilbert.transformer.layer.5.attention.v_lin.bias count_params:768\u001b[0m\n",
      "\u001b[34m[2021-06-16 08:15:47.817 algo-1:25 INFO hook.py:550] name:module.distilbert.transformer.layer.5.attention.out_lin.weight count_params:589824\u001b[0m\n",
      "\u001b[34m[2021-06-16 08:15:47.818 algo-1:25 INFO hook.py:550] name:module.distilbert.transformer.layer.5.attention.out_lin.bias count_params:768\u001b[0m\n",
      "\u001b[34m[2021-06-16 08:15:47.818 algo-1:25 INFO hook.py:550] name:module.distilbert.transformer.layer.5.sa_layer_norm.weight count_params:768\u001b[0m\n",
      "\u001b[34m[2021-06-16 08:15:47.818 algo-1:25 INFO hook.py:550] name:module.distilbert.transformer.layer.5.sa_layer_norm.bias count_params:768\u001b[0m\n",
      "\u001b[34m[2021-06-16 08:15:47.818 algo-1:25 INFO hook.py:550] name:module.distilbert.transformer.layer.5.ffn.lin1.weight count_params:2359296\u001b[0m\n",
      "\u001b[34m[2021-06-16 08:15:47.818 algo-1:25 INFO hook.py:550] name:module.distilbert.transformer.layer.5.ffn.lin1.bias count_params:3072\u001b[0m\n",
      "\u001b[34m[2021-06-16 08:15:47.818 algo-1:25 INFO hook.py:550] name:module.distilbert.transformer.layer.5.ffn.lin2.weight count_params:2359296\u001b[0m\n",
      "\u001b[34m[2021-06-16 08:15:47.818 algo-1:25 INFO hook.py:550] name:module.distilbert.transformer.layer.5.ffn.lin2.bias count_params:768\u001b[0m\n",
      "\u001b[34m[2021-06-16 08:15:47.818 algo-1:25 INFO hook.py:550] name:module.distilbert.transformer.layer.5.output_layer_norm.weight count_params:768\u001b[0m\n",
      "\u001b[34m[2021-06-16 08:15:47.818 algo-1:25 INFO hook.py:550] name:module.distilbert.transformer.layer.5.output_layer_norm.bias count_params:768\u001b[0m\n",
      "\u001b[34m[2021-06-16 08:15:47.818 algo-1:25 INFO hook.py:550] name:module.pre_classifier.weight count_params:589824\u001b[0m\n",
      "\u001b[34m[2021-06-16 08:15:47.818 algo-1:25 INFO hook.py:550] name:module.pre_classifier.bias count_params:768\u001b[0m\n",
      "\u001b[34m[2021-06-16 08:15:47.818 algo-1:25 INFO hook.py:550] name:module.classifier.weight count_params:1536\u001b[0m\n",
      "\u001b[34m[2021-06-16 08:15:47.818 algo-1:25 INFO hook.py:550] name:module.classifier.bias count_params:2\u001b[0m\n",
      "\u001b[34m[2021-06-16 08:15:47.818 algo-1:25 INFO hook.py:552] Total Trainable Params: 66955010\u001b[0m\n",
      "\u001b[34m[2021-06-16 08:15:47.819 algo-1:25 INFO hook.py:413] Monitoring the collections: losses\u001b[0m\n",
      "\u001b[34m[2021-06-16 08:15:47.821 algo-1:25 INFO hook.py:476] Hook is writing from the hook with pid: 25\n",
      "\u001b[0m\n",
      "\u001b[34mNCCL version 2.4.8+cuda11.0\u001b[0m\n",
      "\u001b[34m[2021-06-16 08:15:54.147 algo-1:25 WARNING hook.py:1033] var is not Tensor or list or tuple of Tensors, module_name:module.distilbert.transformer BaseModelOutput\u001b[0m\n",
      "\u001b[34m[2021-06-16 08:15:54.147 algo-1:25 WARNING hook.py:1033] var is not Tensor or list or tuple of Tensors, module_name:module.distilbert BaseModelOutput\u001b[0m\n",
      "\u001b[34m[2021-06-16 08:15:54.188 algo-1:25 WARNING hook.py:1033] var is not Tensor or list or tuple of Tensors, module_name:module SequenceClassifierOutput\u001b[0m\n",
      "\u001b[34m[2021-06-16 08:15:54.559 algo-1:25 WARNING hook.py:1033] var is not Tensor or list or tuple of Tensors, module_name:module.distilbert.transformer BaseModelOutput\u001b[0m\n",
      "\u001b[34m[2021-06-16 08:15:54.559 algo-1:25 WARNING hook.py:1033] var is not Tensor or list or tuple of Tensors, module_name:module.distilbert BaseModelOutput\u001b[0m\n",
      "\u001b[34m[2021-06-16 08:15:54.561 algo-1:25 WARNING hook.py:1033] var is not Tensor or list or tuple of Tensors, module_name:module SequenceClassifierOutput\u001b[0m\n",
      "\u001b[34m[2021-06-16 08:15:54.921 algo-1:25 WARNING hook.py:1033] var is not Tensor or list or tuple of Tensors, module_name:module.distilbert.transformer BaseModelOutput\u001b[0m\n",
      "\u001b[34m[2021-06-16 08:15:54.921 algo-1:25 WARNING hook.py:1033] var is not Tensor or list or tuple of Tensors, module_name:module.distilbert BaseModelOutput\u001b[0m\n",
      "\u001b[34m[2021-06-16 08:15:54.925 algo-1:25 WARNING hook.py:1033] var is not Tensor or list or tuple of Tensors, module_name:module SequenceClassifierOutput\u001b[0m\n",
      "\u001b[34m[2021-06-16 08:15:55.028 algo-1:25 WARNING hook.py:1033] var is not Tensor or list or tuple of Tensors, module_name:module.distilbert.transformer BaseModelOutput\u001b[0m\n",
      "\u001b[34m[2021-06-16 08:15:55.028 algo-1:25 WARNING hook.py:1033] var is not Tensor or list or tuple of Tensors, module_name:module.distilbert BaseModelOutput\u001b[0m\n",
      "\u001b[34m[2021-06-16 08:15:55.031 algo-1:25 WARNING hook.py:1033] var is not Tensor or list or tuple of Tensors, module_name:module SequenceClassifierOutput\u001b[0m\n",
      "\u001b[34m[2021-06-16 08:15:55.034 algo-1:25 WARNING hook.py:1033] var is not Tensor or list or tuple of Tensors, module_name:DataParallel SequenceClassifierOutput\u001b[0m\n",
      "\u001b[34m{'loss': 0.2618, 'learning_rate': 2.737556561085973e-05, 'epoch': 0.45}\u001b[0m\n",
      "\u001b[34m[2021-06-16 08:20:46.621 algo-1:25 WARNING hook.py:1033] var is not Tensor or list or tuple of Tensors, module_name:module.distilbert.transformer BaseModelOutput\u001b[0m\n",
      "\u001b[34m[2021-06-16 08:20:46.621 algo-1:25 WARNING hook.py:1033] var is not Tensor or list or tuple of Tensors, module_name:module.distilbert BaseModelOutput\u001b[0m\n",
      "\u001b[34m[2021-06-16 08:20:46.623 algo-1:25 WARNING hook.py:1033] var is not Tensor or list or tuple of Tensors, module_name:module SequenceClassifierOutput\u001b[0m\n",
      "\u001b[34m[2021-06-16 08:20:46.625 algo-1:25 WARNING hook.py:1033] var is not Tensor or list or tuple of Tensors, module_name:module.distilbert.transformer BaseModelOutput\u001b[0m\n",
      "\u001b[34m[2021-06-16 08:20:46.625 algo-1:25 WARNING hook.py:1033] var is not Tensor or list or tuple of Tensors, module_name:module.distilbert BaseModelOutput\u001b[0m\n",
      "\u001b[34m[2021-06-16 08:20:46.627 algo-1:25 WARNING hook.py:1033] var is not Tensor or list or tuple of Tensors, module_name:module.distilbert.transformer BaseModelOutput\u001b[0m\n",
      "\u001b[34m[2021-06-16 08:20:46.627 algo-1:25 WARNING hook.py:1033] var is not Tensor or list or tuple of Tensors, module_name:module.distilbert BaseModelOutput\u001b[0m\n",
      "\u001b[34m[2021-06-16 08:20:46.627 algo-1:25 WARNING hook.py:1033] var is not Tensor or list or tuple of Tensors, module_name:module SequenceClassifierOutput\u001b[0m\n",
      "\u001b[34m[2021-06-16 08:20:46.629 algo-1:25 WARNING hook.py:1033] var is not Tensor or list or tuple of Tensors, module_name:module SequenceClassifierOutput\u001b[0m\n",
      "\u001b[34m[2021-06-16 08:20:46.630 algo-1:25 WARNING hook.py:1033] var is not Tensor or list or tuple of Tensors, module_name:module.distilbert.transformer BaseModelOutput\u001b[0m\n",
      "\u001b[34m[2021-06-16 08:20:46.630 algo-1:25 WARNING hook.py:1033] var is not Tensor or list or tuple of Tensors, module_name:module.distilbert BaseModelOutput\u001b[0m\n",
      "\u001b[34m[2021-06-16 08:20:46.631 algo-1:25 WARNING hook.py:1033] var is not Tensor or list or tuple of Tensors, module_name:module SequenceClassifierOutput\u001b[0m\n",
      "\u001b[34m[2021-06-16 08:20:46.633 algo-1:25 WARNING hook.py:1033] var is not Tensor or list or tuple of Tensors, module_name:DataParallel SequenceClassifierOutput\u001b[0m\n",
      "\u001b[34m{'loss': 0.2216, 'learning_rate': 4.751131221719457e-06, 'epoch': 0.9}\u001b[0m\n",
      "\u001b[34m[2021-06-16 08:25:38.221 algo-1:25 WARNING hook.py:1033] var is not Tensor or list or tuple of Tensors, module_name:module.distilbert.transformer BaseModelOutput\u001b[0m\n",
      "\u001b[34m[2021-06-16 08:25:38.221 algo-1:25 WARNING hook.py:1033] var is not Tensor or list or tuple of Tensors, module_name:module.distilbert BaseModelOutput\u001b[0m\n",
      "\u001b[34m[2021-06-16 08:25:38.223 algo-1:25 WARNING hook.py:1033] var is not Tensor or list or tuple of Tensors, module_name:module.distilbert.transformer BaseModelOutput\u001b[0m\n",
      "\u001b[34m[2021-06-16 08:25:38.224 algo-1:25 WARNING hook.py:1033] var is not Tensor or list or tuple of Tensors, module_name:module.distilbert BaseModelOutput\u001b[0m\n",
      "\u001b[34m[2021-06-16 08:25:38.224 algo-1:25 WARNING hook.py:1033] var is not Tensor or list or tuple of Tensors, module_name:module SequenceClassifierOutput\u001b[0m\n",
      "\u001b[34m[2021-06-16 08:25:38.224 algo-1:25 WARNING hook.py:1033] var is not Tensor or list or tuple of Tensors, module_name:module.distilbert.transformer BaseModelOutput\u001b[0m\n",
      "\u001b[34m[2021-06-16 08:25:38.225 algo-1:25 WARNING hook.py:1033] var is not Tensor or list or tuple of Tensors, module_name:module.distilbert BaseModelOutput\u001b[0m\n",
      "\u001b[34m[2021-06-16 08:25:38.225 algo-1:25 WARNING hook.py:1033] var is not Tensor or list or tuple of Tensors, module_name:module.distilbert.transformer BaseModelOutput\u001b[0m\n",
      "\u001b[34m[2021-06-16 08:25:38.225 algo-1:25 WARNING hook.py:1033] var is not Tensor or list or tuple of Tensors, module_name:module.distilbert BaseModelOutput\u001b[0m\n",
      "\u001b[34m[2021-06-16 08:25:38.227 algo-1:25 WARNING hook.py:1033] var is not Tensor or list or tuple of Tensors, module_name:module SequenceClassifierOutput\u001b[0m\n",
      "\u001b[34m[2021-06-16 08:25:38.228 algo-1:25 WARNING hook.py:1033] var is not Tensor or list or tuple of Tensors, module_name:module SequenceClassifierOutput\u001b[0m\n",
      "\u001b[34m[2021-06-16 08:25:38.228 algo-1:25 WARNING hook.py:1033] var is not Tensor or list or tuple of Tensors, module_name:module SequenceClassifierOutput\u001b[0m\n",
      "\u001b[34m[2021-06-16 08:25:38.229 algo-1:25 WARNING hook.py:1033] var is not Tensor or list or tuple of Tensors, module_name:DataParallel SequenceClassifierOutput\u001b[0m\n",
      "\u001b[34m{'eval_loss': 0.20987235009670258, 'eval_accuracy': 0.9131652661064426, 'eval_f1': 0.86438655796381, 'eval_precision': 0.8790697674418605, 'eval_recall': 0.8501858008996676, 'eval_runtime': 18.7369, 'eval_samples_per_second': 838.347, 'epoch': 1.0}\u001b[0m\n",
      "\u001b[34m{'train_runtime': 670.6308, 'train_samples_per_second': 1.648, 'epoch': 1.0}\u001b[0m\n",
      "\u001b[34m***** Eval results *****\u001b[0m\n",
      "\u001b[34m#015Downloading:   0%|          | 0.00/442 [00:00<?, ?B/s]#015Downloading: 100%|██████████| 442/442 [00:00<00:00, 540kB/s]\u001b[0m\n",
      "\u001b[34m#015Downloading:   0%|          | 0.00/268M [00:00<?, ?B/s]#015Downloading:   1%|          | 2.82M/268M [00:00<00:09, 28.0MB/s]#015Downloading:   2%|▏         | 5.57M/268M [00:00<00:09, 27.8MB/s]#015Downloading:   3%|▎         | 8.13M/268M [00:00<00:09, 27.1MB/s]#015Downloading:   4%|▍         | 10.9M/268M [00:00<00:09, 27.2MB/s]#015Downloading:   5%|▌         | 13.6M/268M [00:00<00:09, 27.2MB/s]#015Downloading:   6%|▌         | 16.4M/268M [00:00<00:09, 27.5MB/s]#015Downloading:   7%|▋         | 19.1M/268M [00:00<00:09, 27.1MB/s]#015Downloading:   8%|▊         | 21.9M/268M [00:00<00:09, 27.3MB/s]#015Downloading:   9%|▉         | 24.7M/268M [00:00<00:08, 27.6MB/s]#015Downloading:  10%|█         | 27.5M/268M [00:01<00:08, 27.6MB/s]#015Downloading:  11%|█▏        | 30.3M/268M [00:01<00:08, 27.9MB/s]#015Downloading:  12%|█▏        | 33.1M/268M [00:01<00:08, 27.9MB/s]#015Downloading:  13%|█▎        | 35.9M/268M [00:01<00:08, 27.9MB/s]#015Downloading:  14%|█▍        | 38.7M/268M [00:01<00:08, 27.9MB/s]#015Downloading:  16%|█▌        | 41.6M/268M [00:01<00:08, 28.2MB/s]#015Downloading:  17%|█▋        | 44.4M/268M [00:01<00:08, 27.3MB/s]#015Downloading:  18%|█▊        | 47.2M/268M [00:01<00:08, 26.8MB/s]#015Downloading:  19%|█▊        | 50.0M/268M [00:01<00:07, 27.3MB/s]#015Downloading:  20%|█▉        | 52.8M/268M [00:01<00:07, 27.4MB/s]#015Downloading:  21%|██        | 55.6M/268M [00:02<00:07, 27.6MB/s]#015Downloading:  22%|██▏       | 58.5M/268M [00:02<00:07, 27.8MB/s]#015Downloading:  23%|██▎       | 61.2M/268M [00:02<00:07, 26.9MB/s]#015Downloading:  24%|██▍       | 64.0M/268M [00:02<00:07, 27.0MB/s]#015Downloading:  25%|██▍       | 66.8M/268M [00:02<00:07, 27.3MB/s]#015Downloading:  26%|██▌       | 69.6M/268M [00:02<00:07, 27.4MB/s]#015Downloading:  27%|██▋       | 72.4M/268M [00:02<00:07, 27.5MB/s]#015Downloading:  28%|██▊       | 75.1M/268M [00:02<00:07, 27.1MB/s]#015Downloading:  29%|██▉       | 78.0M/268M [00:02<00:06, 27.7MB/s]#015Downloading:  30%|███       | 80.8M/268M [00:02<00:06, 27.6MB/s]#015Downloading:  31%|███       | 83.7M/268M [00:03<00:06, 28.0MB/s]#015Downloading:  32%|███▏      | 86.5M/268M [00:03<00:06, 27.7MB/s]#015Downloading:  33%|███▎      | 89.3M/268M [00:03<00:06, 27.6MB/s]#015Downloading:  34%|███▍      | 92.1M/268M [00:03<00:06, 27.9MB/s]#015Downloading:  35%|███▌      | 94.9M/268M [00:03<00:06, 27.4MB/s]#015Downloading:  36%|███▋      | 97.7M/268M [00:03<00:06, 27.5MB/s]#015Downloading:  37%|███▋      | 100M/268M [00:03<00:07, 23.2MB/s] #015Downloading:  38%|███▊      | 103M/268M [00:03<00:06, 23.8MB/s]#015Downloading:  40%|███▉      | 106M/268M [00:03<00:06, 25.0MB/s]#015Downloading:  40%|████      | 108M/268M [00:04<00:06, 24.7MB/s]#015Downloading:  41%|████▏     | 111M/268M [00:04<00:06, 25.4MB/s]#015Downloading:  43%|████▎     | 114M/268M [00:04<00:05, 25.9MB/s]#015Downloading:  44%|████▎     | 117M/268M [00:04<00:05, 26.5MB/s]#015Downloading:  45%|████▍     | 120M/268M [00:04<00:05, 26.9MB/s]#015Downloading:  46%|████▌     | 122M/268M [00:04<00:05, 27.0MB/s]#015Downloading:  47%|████▋     | 125M/268M [00:04<00:05, 26.7MB/s]#015Downloading:  48%|████▊     | 128M/268M [00:04<00:05, 27.1MB/s]#015Downloading:  49%|████▊     | 131M/268M [00:04<00:05, 26.5MB/s]#015Downloading:  50%|████▉     | 133M/268M [00:04<00:05, 24.6MB/s]#015Downloading:  51%|█████     | 136M/268M [00:05<00:05, 25.5MB/s]#015Downloading:  52%|█████▏    | 139M/268M [00:05<00:04, 26.1MB/s]#015Downloading:  53%|█████▎    | 142M/268M [00:05<00:04, 26.6MB/s]#015Downloading:  54%|█████▍    | 144M/268M [00:05<00:04, 26.4MB/s]#015Downloading:  55%|█████▍    | 147M/268M [00:05<00:05, 21.1MB/s]#015Downloading:  56%|█████▌    | 149M/268M [00:05<00:06, 17.7MB/s]#015Downloading:  57%|█████▋    | 152M/268M [00:05<00:05, 19.6MB/s]#015Downloading:  57%|█████▋    | 154M/268M [00:06<00:06, 17.1MB/s]#015Downloading:  58%|█████▊    | 156M/268M [00:06<00:06, 17.6MB/s]#015Downloading:  59%|█████▉    | 158M/268M [00:06<00:05, 19.1MB/s]#015Downloading:  60%|██████    | 161M/268M [00:06<00:05, 20.9MB/s]#015Downloading:  61%|██████    | 164M/268M [00:06<00:04, 22.8MB/s]#015Downloading:  62%|██████▏   | 167M/268M [00:06<00:04, 24.1MB/s]#015Downloading:  63%|██████▎   | 169M/268M [00:06<00:03, 24.8MB/s]#015Downloading:  64%|██████▍   | 172M/268M [00:06<00:03, 25.8MB/s]#015Downloading:  65%|██████▌   | 175M/268M [00:06<00:03, 26.6MB/s]#015Downloading:  66%|██████▋   | 178M/268M [00:06<00:03, 25.9MB/s]#015Downloading:  67%|██████▋   | 181M/268M [00:07<00:03, 25.8MB/s]#015Downloading:  68%|██████▊   | 183M/268M [00:07<00:03, 26.2MB/s]#015Downloading:  69%|██████▉   | 186M/268M [00:07<00:03, 26.5MB/s]#015Downloading:  70%|███████   | 189M/268M [00:07<00:02, 27.3MB/s]#015Downloading:  72%|███████▏  | 192M/268M [00:07<00:02, 27.3MB/s]#015Downloading:  73%|███████▎  | 194M/268M [00:07<00:02, 27.5MB/s]#015Downloading:  74%|███████▎  | 197M/268M [00:07<00:02, 27.8MB/s]#015Downloading:  75%|███████▍  | 200M/268M [00:07<00:02, 27.6MB/s]#015Downloading:  76%|███████▌  | 203M/268M [00:07<00:02, 27.6MB/s]#015Downloading:  77%|███████▋  | 206M/268M [00:07<00:02, 23.6MB/s]#015Downloading:  78%|███████▊  | 208M/268M [00:08<00:02, 24.4MB/s]#015Downloading:  79%|███████▉  | 211M/268M [00:08<00:02, 25.5MB/s]#015Downloading:  80%|███████▉  | 214M/268M [00:08<00:02, 26.1MB/s]#015Downloading:  81%|████████  | 217M/268M [00:08<00:01, 26.8MB/s]#015Downloading:  82%|████████▏ | 220M/268M [00:08<00:01, 27.0MB/s]#015Downloading:  83%|████████▎ | 222M/268M [00:08<00:01, 27.5MB/s]#015Downloading:  84%|████████▍ | 225M/268M [00:08<00:01, 22.1MB/s]#015Downloading:  85%|████████▍ | 228M/268M [00:08<00:01, 22.6MB/s]#015Downloading:  86%|████████▌ | 230M/268M [00:08<00:01, 23.7MB/s]#015Downloading:  87%|████████▋ | 233M/268M [00:09<00:01, 24.8MB/s]#015Downloading:  88%|████████▊ | 236M/268M [00:09<00:01, 25.6MB/s]#015Downloading:  89%|████████▉ | 239M/268M [00:09<00:01, 26.2MB/s]#015Downloading:  90%|█████████ | 241M/268M [00:09<00:01, 22.2MB/s]#015Downloading:  91%|█████████ | 244M/268M [00:09<00:00, 24.1MB/s]#015Downloading:  92%|█████████▏| 247M/268M [00:09<00:00, 25.1MB/s]#015Downloading:  93%|█████████▎| 250M/268M [00:09<00:00, 26.0MB/s]#015Downloading:  94%|█████████▍| 253M/268M [00:09<00:00, 25.6MB/s]#015Downloading:  95%|█████████▌| 255M/268M [00:09<00:00, 25.7MB/s]#015Downloading:  96%|█████████▋| 258M/268M [00:10<00:00, 26.6MB/s]#015Downloading:  97%|█████████▋| 261M/268M [00:10<00:00, 25.9MB/s]#015Downloading:  98%|█████████▊| 263M/268M [00:10<00:00, 26.0MB/s]#015Downloading:  99%|█████████▉| 266M/268M [00:10<00:00, 26.6MB/s]#015Downloading: 100%|██████████| 268M/268M [00:10<00:00, 25.7MB/s]\u001b[0m\n",
      "\u001b[34mSome weights of the model checkpoint at distilbert-base-uncased were not used when initializing DistilBertForSequenceClassification: ['vocab_transform.weight', 'vocab_transform.bias', 'vocab_layer_norm.weight', 'vocab_layer_norm.bias', 'vocab_projector.weight', 'vocab_projector.bias']\u001b[0m\n",
      "\u001b[34m- This IS expected if you are initializing DistilBertForSequenceClassification from the checkpoint of a model trained on another task or with another architecture (e.g. initializing a BertForSequenceClassification model from a BertForPreTraining model).\u001b[0m\n",
      "\u001b[34m- This IS NOT expected if you are initializing DistilBertForSequenceClassification from the checkpoint of a model that you expect to be exactly identical (initializing a BertForSequenceClassification model from a BertForSequenceClassification model).\u001b[0m\n",
      "\u001b[34mSome weights of DistilBertForSequenceClassification were not initialized from the model checkpoint at distilbert-base-uncased and are newly initialized: ['pre_classifier.weight', 'pre_classifier.bias', 'classifier.weight', 'classifier.bias']\u001b[0m\n",
      "\u001b[34mYou should probably TRAIN this model on a down-stream task to be able to use it for predictions and inference.\u001b[0m\n",
      "\u001b[34m#015  0%|          | 0/1105 [00:00<?, ?it/s]/opt/conda/lib/python3.6/site-packages/torch/nn/parallel/_functions.py:61: UserWarning: Was asked to gather along dimension 0, but all input tensors were scalars; will instead unsqueeze and return a vector.\n",
      "  warnings.warn('Was asked to gather along dimension 0, but all '\u001b[0m\n",
      "\u001b[34m#015  0%|          | 1/1105 [00:08<2:32:27,  8.29s/it]#015  0%|          | 2/1105 [00:08<1:50:08,  5.99s/it]#015  0%|          | 3/1105 [00:09<1:20:20,  4.37s/it]#015  0%|          | 4/1105 [00:10<59:29,  3.24s/it]  #015  0%|          | 5/1105 [00:10<45:00,  2.46s/it]#015  1%|          | 6/1105 [00:11<34:51,  1.90s/it]#015  1%|          | 7/1105 [00:11<27:42,  1.51s/it]#015  1%|          | 8/1105 [00:12<22:42,  1.24s/it]#015  1%|          | 9/1105 [00:13<19:09,  1.05s/it]#015  1%|          | 10/1105 [00:13<16:41,  1.09it/s]#015  1%|          | 11/1105 [00:14<14:55,  1.22it/s]#015  1%|          | 12/1105 [00:14<13:40,  1.33it/s]#015  1%|          | 13/1105 [00:15<12:49,  1.42it/s]#015  1%|▏         | 14/1105 [00:16<12:10,  1.49it/s]#015  1%|▏         | 15/1105 [00:16<11:42,  1.55it/s]#015  1%|▏         | 16/1105 [00:17<11:28,  1.58it/s]#015  2%|▏         | 17/1105 [00:17<11:14,  1.61it/s]#015  2%|▏         | 18/1105 [00:18<11:05,  1.63it/s]#015  2%|▏         | 19/1105 [00:19<10:57,  1.65it/s]#015  2%|▏         | 20/1105 [00:19<10:50,  1.67it/s]#015  2%|▏         | 21/1105 [00:20<10:46,  1.68it/s]#015  2%|▏         | 22/1105 [00:20<10:41,  1.69it/s]#015  2%|▏         | 23/1105 [00:21<10:37,  1.70it/s]#015  2%|▏         | 24/1105 [00:22<10:34,  1.70it/s]#015  2%|▏         | 25/1105 [00:22<10:32,  1.71it/s]#015  2%|▏         | 26/1105 [00:23<10:33,  1.70it/s]#015  2%|▏         | 27/1105 [00:23<10:33,  1.70it/s]#015  3%|▎         | 28/1105 [00:24<10:30,  1.71it/s]#015  3%|▎         | 29/1105 [00:24<10:27,  1.71it/s]#015  3%|▎         | 30/1105 [00:25<10:26,  1.72it/s]#015  3%|▎         | 31/1105 [00:26<10:24,  1.72it/s]#015  3%|▎         | 32/1105 [00:26<10:22,  1.72it/s]#015  3%|▎         | 33/1105 [00:27<10:21,  1.73it/s]#015  3%|▎         | 34/1105 [00:27<10:21,  1.72it/s]#015  3%|▎         | 35/1105 [00:28<10:21,  1.72it/s]#015  3%|▎         | 36/1105 [00:29<10:37,  1.68it/s]#015  3%|▎         | 37/1105 [00:29<10:32,  1.69it/s]#015  3%|▎         | 38/1105 [00:30<10:27,  1.70it/s]#015  4%|▎         | 39/1105 [00:30<10:23,  1.71it/s]#015  4%|▎         | 40/1105 [00:31<10:20,  1.72it/s]#015  4%|▎         | 41/1105 [00:31<10:18,  1.72it/s]#015  4%|▍         | 42/1105 [00:32<10:17,  1.72it/s]#015  4%|▍         | 43/1105 [00:33<10:16,  1.72it/s]#015  4%|▍         | 44/1105 [00:33<10:14,  1.73it/s]#015  4%|▍         | 45/1105 [00:34<10:14,  1.72it/s]#015  4%|▍         | 46/1105 [00:34<10:15,  1.72it/s]#015  4%|▍         | 47/1105 [00:35<10:13,  1.72it/s]#015  4%|▍         | 48/1105 [00:36<10:12,  1.73it/s]#015  4%|▍         | 49/1105 [00:36<10:10,  1.73it/s]#015  5%|▍         | 50/1105 [00:37<10:09,  1.73it/s]#015  5%|▍         | 51/1105 [00:37<10:09,  1.73it/s]#015  5%|▍         | 52/1105 [00:38<10:09,  1.73it/s]#015  5%|▍         | 53/1105 [00:38<10:08,  1.73it/s]#015  5%|▍         | 54/1105 [00:39<10:07,  1.73it/s]#015  5%|▍         | 55/1105 [00:40<10:07,  1.73it/s]#015  5%|▌         | 56/1105 [00:40<10:06,  1.73it/s]#015  5%|▌         | 57/1105 [00:41<10:05,  1.73it/s]#015  5%|▌         | 58/1105 [00:41<10:04,  1.73it/s]#015  5%|▌         | 59/1105 [00:42<10:03,  1.73it/s]#015  5%|▌         | 60/1105 [00:42<10:03,  1.73it/s]#015  6%|▌         | 61/1105 [00:43<10:01,  1.73it/s]#015  6%|▌         | 62/1105 [00:44<10:01,  1.73it/s]#015  6%|▌         | 63/1105 [00:44<10:01,  1.73it/s]#015  6%|▌         | 64/1105 [00:45<10:01,  1.73it/s]#015  6%|▌         | 65/1105 [00:45<10:01,  1.73it/s]#015  6%|▌         | 66/1105 [00:46<10:00,  1.73it/s]#015  6%|▌         | 67/1105 [00:46<09:59,  1.73it/s]#015  6%|▌         | 68/1105 [00:47<09:59,  1.73it/s]#015  6%|▌         | 69/1105 [00:48<09:57,  1.73it/s]#015  6%|▋         | 70/1105 [00:48<09:57,  1.73it/s]#015  6%|▋         | 71/1105 [00:49<09:56,  1.73it/s]#015  7%|▋         | 72/1105 [00:49<09:56,  1.73it/s]#015  7%|▋         | 73/1105 [00:50<09:55,  1.73it/s]#015  7%|▋         | 74/1105 [00:51<09:53,  1.74it/s]#015  7%|▋         | 75/1105 [00:51<09:53,  1.74it/s]#015  7%|▋         | 76/1105 [00:52<09:54,  1.73it/s]#015  7%|▋         | 77/1105 [00:52<09:54,  1.73it/s]#015  7%|▋         | 78/1105 [00:53<09:54,  1.73it/s]#015  7%|▋         | 79/1105 [00:53<09:54,  1.73it/s]#015  7%|▋         | 80/1105 [00:54<09:53,  1.73it/s]#015  7%|▋         | 81/1105 [00:55<09:53,  1.72it/s]#015  7%|▋         | 82/1105 [00:55<09:51,  1.73it/s]#015  8%|▊         | 83/1105 [00:56<09:50,  1.73it/s]#015  8%|▊         | 84/1105 [00:56<09:49,  1.73it/s]#015  8%|▊         | 85/1105 [00:57<09:50,  1.73it/s]#015  8%|▊         | 86/1105 [00:58<10:01,  1.70it/s]#015  8%|▊         | 87/1105 [00:58<09:56,  1.71it/s]#015  8%|▊         | 88/1105 [00:59<09:52,  1.72it/s]#015  8%|▊         | 89/1105 [00:59<09:49,  1.72it/s]#015  8%|▊         | 90/1105 [01:00<09:48,  1.73it/s]#015  8%|▊         | 91/1105 [01:00<09:47,  1.73it/s]#015  8%|▊         | 92/1105 [01:01<09:46,  1.73it/s]#015  8%|▊         | 93/1105 [01:02<09:44,  1.73it/s]#015  9%|▊         | 94/1105 [01:02<09:43,  1.73it/s]#015  9%|▊         | 95/1105 [01:03<09:42,  1.73it/s]#015  9%|▊         | 96/1105 [01:03<09:41,  1.74it/s]#015  9%|▉         | 97/1105 [01:04<09:40,  1.73it/s]#015  9%|▉         | 98/1105 [01:04<09:41,  1.73it/s]#015  9%|▉         | 99/1105 [01:05<09:41,  1.73it/s]#015  9%|▉         | 100/1105 [01:06<09:40,  1.73it/s]#015  9%|▉         | 101/1105 [01:06<09:39,  1.73it/s]#015  9%|▉         | 102/1105 [01:07<09:39,  1.73it/s]#015  9%|▉         | 103/1105 [01:07<09:39,  1.73it/s]#015  9%|▉         | 104/1105 [01:08<09:37,  1.73it/s]#015 10%|▉         | 105/1105 [01:08<09:36,  1.73it/s]#015 10%|▉         | 106/1105 [01:09<09:36,  1.73it/s]#015 10%|▉         | 107/1105 [01:10<09:35,  1.73it/s]#015 10%|▉         | 108/1105 [01:10<09:34,  1.74it/s]#015 10%|▉         | 109/1105 [01:11<09:33,  1.74it/s]#015 10%|▉         | 110/1105 [01:11<09:33,  1.73it/s]#015 10%|█         | 111/1105 [01:12<09:33,  1.73it/s]#015 10%|█         | 112/1105 [01:13<09:33,  1.73it/s]#015 10%|█         | 113/1105 [01:13<09:35,  1.72it/s]#015 10%|█         | 114/1105 [01:14<09:35,  1.72it/s]#015 10%|█         | 115/1105 [01:14<09:45,  1.69it/s]#015 10%|█         | 116/1105 [01:15<09:42,  1.70it/s]#015 11%|█         | 117/1105 [01:15<09:38,  1.71it/s]#015 11%|█         | 118/1105 [01:16<09:37,  1.71it/s]#015 11%|█         | 119/1105 [01:17<09:35,  1.71it/s]#015 11%|█         | 120/1105 [01:17<09:34,  1.71it/s]#015 11%|█         | 121/1105 [01:18<09:39,  1.70it/s]#015 11%|█         | 122/1105 [01:18<09:41,  1.69it/s]#015 11%|█         | 123/1105 [01:19<09:38,  1.70it/s]#015 11%|█         | 124/1105 [01:20<09:35,  1.71it/s]#015 11%|█▏        | 125/1105 [01:20<09:32,  1.71it/s]#015 11%|█▏        | 126/1105 [01:21<09:30,  1.72it/s]#015 11%|█▏        | 127/1105 [01:21<09:28,  1.72it/s]#015 12%|█▏        | 128/1105 [01:22<09:26,  1.73it/s]#015 12%|█▏        | 129/1105 [01:22<09:25,  1.73it/s]#015 12%|█▏        | 130/1105 [01:23<09:24,  1.73it/s]#015 12%|█▏        | 131/1105 [01:24<09:24,  1.73it/s]#015 12%|█▏        | 132/1105 [01:24<09:24,  1.72it/s]#015 12%|█▏        | 133/1105 [01:25<09:23,  1.72it/s]#015 12%|█▏        | 134/1105 [01:25<09:22,  1.73it/s]#015 12%|█▏        | 135/1105 [01:26<09:21,  1.73it/s]#015 12%|█▏        | 136/1105 [01:27<09:20,  1.73it/s]#015 12%|█▏        | 137/1105 [01:27<09:19,  1.73it/s]#015 12%|█▏        | 138/1105 [01:28<09:18,  1.73it/s]#015 13%|█▎        | 139/1105 [01:28<09:30,  1.69it/s]#015 13%|█▎        | 140/1105 [01:29<09:26,  1.70it/s]#015 13%|█▎        | 141/1105 [01:29<09:23,  1.71it/s]#015 13%|█▎        | 142/1105 [01:30<09:21,  1.72it/s]#015 13%|█▎        | 143/1105 [01:31<09:19,  1.72it/s]#015 13%|█▎        | 144/1105 [01:31<09:17,  1.72it/s]#015 13%|█▎        | 145/1105 [01:32<09:17,  1.72it/s]#015 13%|█▎        | 146/1105 [01:32<09:16,  1.72it/s]#015 13%|█▎        | 147/1105 [01:33<09:15,  1.72it/s]#015 13%|█▎        | 148/1105 [01:33<09:14,  1.73it/s]#015 13%|█▎        | 149/1105 [01:34<09:13,  1.73it/s]#015 14%|█▎        | 150/1105 [01:35<09:12,  1.73it/s]#015 14%|█▎        | 151/1105 [01:35<09:12,  1.73it/s]#015 14%|█▍        | 152/1105 [01:36<09:13,  1.72it/s]#015 14%|█▍        | 153/1105 [01:36<09:12,  1.72it/s]#015 14%|█▍        | 154/1105 [01:37<09:11,  1.72it/s]#015 14%|█▍        | 155/1105 [01:38<09:09,  1.73it/s]#015 14%|█▍        | 156/1105 [01:38<09:08,  1.73it/s]#015 14%|█▍        | 157/1105 [01:39<09:07,  1.73it/s]#015 14%|█▍        | 158/1105 [01:39<09:07,  1.73it/s]#015 14%|█▍        | 159/1105 [01:40<09:06,  1.73it/s]#015 14%|█▍        | 160/1105 [01:40<09:07,  1.73it/s]#015 15%|█▍        | 161/1105 [01:41<09:06,  1.73it/s]#015 15%|█▍        | 162/1105 [01:42<09:05,  1.73it/s]#015 15%|█▍        | 163/1105 [01:42<09:05,  1.73it/s]#015 15%|█▍        | 164/1105 [01:43<09:04,  1.73it/s]#015 15%|█▍        | 165/1105 [01:43<09:03,  1.73it/s]#015 15%|█▌        | 166/1105 [01:44<09:03,  1.73it/s]#015 15%|█▌        | 167/1105 [01:44<09:02,  1.73it/s]#015 15%|█▌        | 168/1105 [01:45<09:01,  1.73it/s]#015 15%|█▌        | 169/1105 [01:46<09:01,  1.73it/s]#015 15%|█▌        | 170/1105 [01:46<09:00,  1.73it/s]#015 15%|█▌        | 171/1105 [01:47<08:59,  1.73it/s]#015 16%|█▌        | 172/1105 [01:47<08:59,  1.73it/s]#015 16%|█▌        | 173/1105 [01:48<08:58,  1.73it/s]#015 16%|█▌        | 174/1105 [01:49<08:58,  1.73it/s]#015 16%|█▌        | 175/1105 [01:49<08:57,  1.73it/s]#015 16%|█▌        | 176/1105 [01:50<08:56,  1.73it/s]#015 16%|█▌        | 177/1105 [01:50<08:56,  1.73it/s]#015 16%|█▌        | 178/1105 [01:51<08:55,  1.73it/s]#015 16%|█▌        | 179/1105 [01:51<08:55,  1.73it/s]#015 16%|█▋        | 180/1105 [01:52<08:54,  1.73it/s]#015 16%|█▋        | 181/1105 [01:53<08:55,  1.73it/s]#015 16%|█▋        | 182/1105 [01:53<08:55,  1.72it/s]#015 17%|█▋        | 183/1105 [01:54<08:55,  1.72it/s]#015 17%|█▋        | 184/1105 [01:54<08:55,  1.72it/s]#015 17%|█▋        | 185/1105 [01:55<08:55,  1.72it/s]#015 17%|█▋        | 186/1105 [01:55<08:55,  1.72it/s]#015 17%|█▋        | 187/1105 [01:56<08:54,  1.72it/s]#015 17%|█▋        | 188/1105 [01:57<08:53,  1.72it/s]#015 17%|█▋        | 189/1105 [01:57<08:52,  1.72it/s]#015 17%|█▋        | 190/1105 [01:58<08:51,  1.72it/s]#015 17%|█▋        | 191/1105 [01:58<08:50,  1.72it/s]#015 17%|█▋        | 192/1105 [01:59<09:01,  1.69it/s]#015 17%|█▋        | 193/1105 [02:00<08:57,  1.70it/s]#015 18%|█▊        | 194/1105 [02:00<08:54,  1.70it/s]#015 18%|█▊        | 195/1105 [02:01<08:52,  1.71it/s]#015 18%|█▊        | 196/1105 [02:01<08:51,  1.71it/s]#015 18%|█▊        | 197/1105 [02:02<08:49,  1.71it/s]#015 18%|█▊        | 198/1105 [02:03<08:47,  1.72it/s]#015 18%|█▊        | 199/1105 [02:03<08:46,  1.72it/s]#015 18%|█▊        | 200/1105 [02:04<08:46,  1.72it/s]#015 18%|█▊        | 201/1105 [02:04<08:45,  1.72it/s]#015 18%|█▊        | 202/1105 [02:05<08:45,  1.72it/s]#015 18%|█▊        | 203/1105 [02:05<08:45,  1.72it/s]#015 18%|█▊        | 204/1105 [02:06<08:44,  1.72it/s]#015 19%|█▊        | 205/1105 [02:07<08:43,  1.72it/s]#015 19%|█▊        | 206/1105 [02:07<08:42,  1.72it/s]#015 19%|█▊        | 207/1105 [02:08<08:41,  1.72it/s]#015 19%|█▉        | 208/1105 [02:08<08:41,  1.72it/s]#015 19%|█▉        | 209/1105 [02:09<08:41,  1.72it/s]#015 19%|█▉        | 210/1105 [02:09<08:40,  1.72it/s]#015 19%|█▉        | 211/1105 [02:10<08:39,  1.72it/s]#015 19%|█▉        | 212/1105 [02:11<08:39,  1.72it/s]#015 19%|█▉        | 213/1105 [02:11<08:39,  1.72it/s]#015 19%|█▉        | 214/1105 [02:12<08:38,  1.72it/s]#015 19%|█▉        | 215/1105 [02:12<08:37,  1.72it/s]#015 20%|█▉        | 216/1105 [02:13<08:36,  1.72it/s]#015 20%|█▉        | 217/1105 [02:14<08:37,  1.72it/s]#015 20%|█▉        | 218/1105 [02:14<08:37,  1.71it/s]#015 20%|█▉        | 219/1105 [02:15<08:36,  1.71it/s]#015 20%|█▉        | 220/1105 [02:15<08:35,  1.72it/s]#015 20%|██        | 221/1105 [02:16<08:35,  1.71it/s]#015 20%|██        | 222/1105 [02:16<08:34,  1.72it/s]#015 20%|██        | 223/1105 [02:17<08:34,  1.71it/s]#015 20%|██        | 224/1105 [02:18<08:35,  1.71it/s]#015 20%|██        | 225/1105 [02:18<08:34,  1.71it/s]#015 20%|██        | 226/1105 [02:19<08:33,  1.71it/s]#015 21%|██        | 227/1105 [02:19<08:33,  1.71it/s]#015 21%|██        | 228/1105 [02:20<08:31,  1.71it/s]#015 21%|██        | 229/1105 [02:21<08:30,  1.71it/s]#015 21%|██        | 230/1105 [02:21<08:30,  1.71it/s]#015 21%|██        | 231/1105 [02:22<08:29,  1.71it/s]#015 21%|██        | 232/1105 [02:22<08:28,  1.72it/s]#015 21%|██        | 233/1105 [02:23<08:28,  1.71it/s]#015 21%|██        | 234/1105 [02:23<08:27,  1.72it/s]#015 21%|██▏       | 235/1105 [02:24<08:26,  1.72it/s]#015 21%|██▏       | 236/1105 [02:25<08:25,  1.72it/s]#015 21%|██▏       | 237/1105 [02:25<08:26,  1.71it/s]#015 22%|██▏       | 238/1105 [02:26<08:25,  1.71it/s]#015 22%|██▏       | 239/1105 [02:26<08:25,  1.71it/s]#015 22%|██▏       | 240/1105 [02:27<08:24,  1.72it/s]#015 22%|██▏       | 241/1105 [02:28<08:23,  1.72it/s]#015 22%|██▏       | 242/1105 [02:28<08:23,  1.71it/s]#015 22%|██▏       | 243/1105 [02:29<08:23,  1.71it/s]#015 22%|██▏       | 244/1105 [02:29<08:22,  1.71it/s]#015 22%|██▏       | 245/1105 [02:30<08:33,  1.68it/s]#015 22%|██▏       | 246/1105 [02:31<08:29,  1.69it/s]#015 22%|██▏       | 247/1105 [02:31<08:26,  1.70it/s]#015 22%|██▏       | 248/1105 [02:32<08:23,  1.70it/s]#015 23%|██▎       | 249/1105 [02:32<08:21,  1.71it/s]#015 23%|██▎       | 250/1105 [02:33<08:20,  1.71it/s]#015 23%|██▎       | 251/1105 [02:33<08:19,  1.71it/s]#015 23%|██▎       | 252/1105 [02:34<08:17,  1.71it/s]#015 23%|██▎       | 253/1105 [02:35<08:16,  1.71it/s]#015 23%|██▎       | 254/1105 [02:35<08:15,  1.72it/s]#015 23%|██▎       | 255/1105 [02:36<08:14,  1.72it/s]#015 23%|██▎       | 256/1105 [02:36<08:14,  1.72it/s]#015 23%|██▎       | 257/1105 [02:37<08:14,  1.71it/s]#015 23%|██▎       | 258/1105 [02:38<08:14,  1.71it/s]#015 23%|██▎       | 259/1105 [02:38<08:13,  1.71it/s]#015 24%|██▎       | 260/1105 [02:39<08:12,  1.72it/s]#015 24%|██▎       | 261/1105 [02:39<08:11,  1.72it/s]#015 24%|██▎       | 262/1105 [02:40<08:11,  1.72it/s]#015 24%|██▍       | 263/1105 [02:40<08:10,  1.72it/s]#015 24%|██▍       | 264/1105 [02:41<08:09,  1.72it/s]#015 24%|██▍       | 265/1105 [02:42<08:09,  1.72it/s]#015 24%|██▍       | 266/1105 [02:42<08:08,  1.72it/s]#015 24%|██▍       | 267/1105 [02:43<08:08,  1.72it/s]#015 24%|██▍       | 268/1105 [02:43<08:08,  1.71it/s]#015 24%|██▍       | 269/1105 [02:44<08:07,  1.71it/s]#015 24%|██▍       | 270/1105 [02:45<08:07,  1.71it/s]#015 25%|██▍       | 271/1105 [02:45<08:07,  1.71it/s]#015 25%|██▍       | 272/1105 [02:46<08:06,  1.71it/s]#015 25%|██▍       | 273/1105 [02:46<08:05,  1.71it/s]#015 25%|██▍       | 274/1105 [02:47<08:04,  1.71it/s]#015 25%|██▍       | 275/1105 [02:47<08:04,  1.71it/s]#015 25%|██▍       | 276/1105 [02:48<08:04,  1.71it/s]#015 25%|██▌       | 277/1105 [02:49<08:03,  1.71it/s]#015 25%|██▌       | 278/1105 [02:49<08:02,  1.71it/s]#015 25%|██▌       | 279/1105 [02:50<08:01,  1.71it/s]#015 25%|██▌       | 280/1105 [02:50<08:00,  1.72it/s]#015 25%|██▌       | 281/1105 [02:51<08:00,  1.72it/s]#015 26%|██▌       | 282/1105 [02:52<07:59,  1.72it/s]#015 26%|██▌       | 283/1105 [02:52<07:59,  1.71it/s]#015 26%|██▌       | 284/1105 [02:53<07:58,  1.71it/s]#015 26%|██▌       | 285/1105 [02:53<07:58,  1.71it/s]#015 26%|██▌       | 286/1105 [02:54<07:57,  1.71it/s]#015 26%|██▌       | 287/1105 [02:54<07:57,  1.71it/s]#015 26%|██▌       | 288/1105 [02:55<07:56,  1.71it/s]#015 26%|██▌       | 289/1105 [02:56<07:56,  1.71it/s]#015 26%|██▌       | 290/1105 [02:56<07:55,  1.72it/s]#015 26%|██▋       | 291/1105 [02:57<07:55,  1.71it/s]#015 26%|██▋       | 292/1105 [02:57<07:54,  1.72it/s]#015 27%|██▋       | 293/1105 [02:58<07:52,  1.72it/s]#015 27%|██▋       | 294/1105 [02:59<07:52,  1.72it/s]#015 27%|██▋       | 295/1105 [02:59<07:52,  1.72it/s]#015 27%|██▋       | 296/1105 [03:00<07:51,  1.72it/s]#015 27%|██▋       | 297/1105 [03:00<07:50,  1.72it/s]#015 27%|██▋       | 298/1105 [03:01<08:00,  1.68it/s]#015 27%|██▋       | 299/1105 [03:01<07:57,  1.69it/s]#015 27%|██▋       | 300/1105 [03:02<07:55,  1.69it/s]#015 27%|██▋       | 301/1105 [03:03<07:52,  1.70it/s]#015 27%|██▋       | 302/1105 [03:03<07:51,  1.70it/s]#015 27%|██\u001b[0m\n",
      "\u001b[34m▋       | 303/1105 [03:04<07:49,  1.71it/s]#015 28%|██▊       | 304/1105 [03:04<07:47,  1.71it/s]#015 28%|██▊       | 305/1105 [03:05<07:46,  1.72it/s]#015 28%|██▊       | 306/1105 [03:06<07:45,  1.72it/s]#015 28%|██▊       | 307/1105 [03:06<07:44,  1.72it/s]#015 28%|██▊       | 308/1105 [03:07<07:43,  1.72it/s]#015 28%|██▊       | 309/1105 [03:07<07:43,  1.72it/s]#015 28%|██▊       | 310/1105 [03:08<07:42,  1.72it/s]#015 28%|██▊       | 311/1105 [03:08<07:41,  1.72it/s]#015 28%|██▊       | 312/1105 [03:09<07:40,  1.72it/s]#015 28%|██▊       | 313/1105 [03:10<07:39,  1.72it/s]#015 28%|██▊       | 314/1105 [03:10<07:38,  1.72it/s]#015 29%|██▊       | 315/1105 [03:11<07:38,  1.72it/s]#015 29%|██▊       | 316/1105 [03:11<07:37,  1.72it/s]#015 29%|██▊       | 317/1105 [03:12<07:37,  1.72it/s]#015 29%|██▉       | 318/1105 [03:13<07:37,  1.72it/s]#015 29%|██▉       | 319/1105 [03:13<07:36,  1.72it/s]#015 29%|██▉       | 320/1105 [03:14<07:36,  1.72it/s]#015 29%|██▉       | 321/1105 [03:14<07:38,  1.71it/s]#015 29%|██▉       | 322/1105 [03:15<07:37,  1.71it/s]#015 29%|██▉       | 323/1105 [03:15<07:36,  1.71it/s]#015 29%|██▉       | 324/1105 [03:16<07:35,  1.72it/s]#015 29%|██▉       | 325/1105 [03:17<07:34,  1.71it/s]#015 30%|██▉       | 326/1105 [03:17<07:35,  1.71it/s]#015 30%|██▉       | 327/1105 [03:18<07:35,  1.71it/s]#015 30%|██▉       | 328/1105 [03:18<07:35,  1.71it/s]#015 30%|██▉       | 329/1105 [03:19<07:34,  1.71it/s]#015 30%|██▉       | 330/1105 [03:20<07:32,  1.71it/s]#015 30%|██▉       | 331/1105 [03:20<07:30,  1.72it/s]#015 30%|███       | 332/1105 [03:21<07:29,  1.72it/s]#015 30%|███       | 333/1105 [03:21<07:28,  1.72it/s]#015 30%|███       | 334/1105 [03:22<07:27,  1.72it/s]#015 30%|███       | 335/1105 [03:22<07:27,  1.72it/s]#015 30%|███       | 336/1105 [03:23<07:26,  1.72it/s]#015 30%|███       | 337/1105 [03:24<07:25,  1.72it/s]#015 31%|███       | 338/1105 [03:24<07:24,  1.72it/s]#015 31%|███       | 339/1105 [03:25<07:23,  1.73it/s]#015 31%|███       | 340/1105 [03:25<07:23,  1.72it/s]#015 31%|███       | 341/1105 [03:26<07:24,  1.72it/s]#015 31%|███       | 342/1105 [03:26<07:24,  1.72it/s]#015 31%|███       | 343/1105 [03:27<07:23,  1.72it/s]#015 31%|███       | 344/1105 [03:28<07:22,  1.72it/s]#015 31%|███       | 345/1105 [03:28<07:21,  1.72it/s]#015 31%|███▏      | 346/1105 [03:29<07:20,  1.72it/s]#015 31%|███▏      | 347/1105 [03:29<07:19,  1.72it/s]#015 31%|███▏      | 348/1105 [03:30<07:19,  1.72it/s]#015 32%|███▏      | 349/1105 [03:31<07:18,  1.72it/s]#015 32%|███▏      | 350/1105 [03:31<07:17,  1.73it/s]#015 32%|███▏      | 351/1105 [03:32<07:26,  1.69it/s]#015 32%|███▏      | 352/1105 [03:32<07:23,  1.70it/s]#015 32%|███▏      | 353/1105 [03:33<07:20,  1.71it/s]#015 32%|███▏      | 354/1105 [03:33<07:18,  1.71it/s]#015 32%|███▏      | 355/1105 [03:34<07:17,  1.71it/s]#015 32%|███▏      | 356/1105 [03:35<07:16,  1.72it/s]#015 32%|███▏      | 357/1105 [03:35<07:14,  1.72it/s]#015 32%|███▏      | 358/1105 [03:36<07:14,  1.72it/s]#015 32%|███▏      | 359/1105 [03:36<07:13,  1.72it/s]#015 33%|███▎      | 360/1105 [03:37<07:13,  1.72it/s]#015 33%|███▎      | 361/1105 [03:38<07:13,  1.72it/s]#015 33%|███▎      | 362/1105 [03:38<07:13,  1.72it/s]#015 33%|███▎      | 363/1105 [03:39<07:13,  1.71it/s]#015 33%|███▎      | 364/1105 [03:39<07:13,  1.71it/s]#015 33%|███▎      | 365/1105 [03:40<07:12,  1.71it/s]#015 33%|███▎      | 366/1105 [03:40<07:11,  1.71it/s]#015 33%|███▎      | 367/1105 [03:41<07:11,  1.71it/s]#015 33%|███▎      | 368/1105 [03:42<07:09,  1.71it/s]#015 33%|███▎      | 369/1105 [03:42<07:09,  1.71it/s]#015 33%|███▎      | 370/1105 [03:43<07:09,  1.71it/s]#015 34%|███▎      | 371/1105 [03:43<07:09,  1.71it/s]#015 34%|███▎      | 372/1105 [03:44<07:09,  1.71it/s]#015 34%|███▍      | 373/1105 [03:45<07:09,  1.70it/s]#015 34%|███▍      | 374/1105 [03:45<07:08,  1.70it/s]#015 34%|███▍      | 375/1105 [03:46<07:07,  1.71it/s]#015 34%|███▍      | 376/1105 [03:46<07:06,  1.71it/s]#015 34%|███▍      | 377/1105 [03:47<07:05,  1.71it/s]#015 34%|███▍      | 378/1105 [03:48<07:04,  1.71it/s]#015 34%|███▍      | 379/1105 [03:48<07:02,  1.72it/s]#015 34%|███▍      | 380/1105 [03:49<07:02,  1.72it/s]#015 34%|███▍      | 381/1105 [03:49<07:02,  1.72it/s]#015 35%|███▍      | 382/1105 [03:50<07:01,  1.72it/s]#015 35%|███▍      | 383/1105 [03:50<07:00,  1.72it/s]#015 35%|███▍      | 384/1105 [03:51<06:59,  1.72it/s]#015 35%|███▍      | 385/1105 [03:52<06:59,  1.72it/s]#015 35%|███▍      | 386/1105 [03:52<06:58,  1.72it/s]#015 35%|███▌      | 387/1105 [03:53<06:58,  1.72it/s]#015 35%|███▌      | 388/1105 [03:53<06:57,  1.72it/s]#015 35%|███▌      | 389/1105 [03:54<06:57,  1.72it/s]#015 35%|███▌      | 390/1105 [03:54<06:57,  1.71it/s]#015 35%|███▌      | 391/1105 [03:55<06:57,  1.71it/s]#015 35%|███▌      | 392/1105 [03:56<06:57,  1.71it/s]#015 36%|███▌      | 393/1105 [03:56<06:56,  1.71it/s]#015 36%|███▌      | 394/1105 [03:57<06:56,  1.71it/s]#015 36%|███▌      | 395/1105 [03:57<06:55,  1.71it/s]#015 36%|███▌      | 396/1105 [03:58<06:54,  1.71it/s]#015 36%|███▌      | 397/1105 [03:59<06:53,  1.71it/s]#015 36%|███▌      | 398/1105 [03:59<06:52,  1.71it/s]#015 36%|███▌      | 399/1105 [04:00<06:51,  1.72it/s]#015 36%|███▌      | 400/1105 [04:00<06:51,  1.72it/s]#015 36%|███▋      | 401/1105 [04:01<06:50,  1.72it/s]#015 36%|███▋      | 402/1105 [04:02<06:49,  1.72it/s]#015 36%|███▋      | 403/1105 [04:02<06:49,  1.71it/s]#015 37%|███▋      | 404/1105 [04:03<06:58,  1.67it/s]#015 37%|███▋      | 405/1105 [04:03<06:54,  1.69it/s]#015 37%|███▋      | 406/1105 [04:04<06:52,  1.70it/s]#015 37%|███▋      | 407/1105 [04:04<06:50,  1.70it/s]#015 37%|███▋      | 408/1105 [04:05<06:48,  1.71it/s]#015 37%|███▋      | 409/1105 [04:06<06:47,  1.71it/s]#015 37%|███▋      | 410/1105 [04:06<06:46,  1.71it/s]#015 37%|███▋      | 411/1105 [04:07<06:45,  1.71it/s]#015 37%|███▋      | 412/1105 [04:07<06:44,  1.71it/s]#015 37%|███▋      | 413/1105 [04:08<06:43,  1.71it/s]#015 37%|███▋      | 414/1105 [04:09<06:42,  1.71it/s]#015 38%|███▊      | 415/1105 [04:09<06:41,  1.72it/s]#015 38%|███▊      | 416/1105 [04:10<06:40,  1.72it/s]#015 38%|███▊      | 417/1105 [04:10<06:40,  1.72it/s]#015 38%|███▊      | 418/1105 [04:11<06:40,  1.71it/s]#015 38%|███▊      | 419/1105 [04:11<06:40,  1.71it/s]#015 38%|███▊      | 420/1105 [04:12<06:40,  1.71it/s]#015 38%|███▊      | 421/1105 [04:13<06:39,  1.71it/s]#015 38%|███▊      | 422/1105 [04:13<06:39,  1.71it/s]#015 38%|███▊      | 423/1105 [04:14<06:38,  1.71it/s]#015 38%|███▊      | 424/1105 [04:14<06:39,  1.71it/s]#015 38%|███▊      | 425/1105 [04:15<06:38,  1.71it/s]#015 39%|███▊      | 426/1105 [04:16<06:37,  1.71it/s]#015 39%|███▊      | 427/1105 [04:16<06:36,  1.71it/s]#015 39%|███▊      | 428/1105 [04:17<06:35,  1.71it/s]#015 39%|███▉      | 429/1105 [04:17<06:35,  1.71it/s]#015 39%|███▉      | 430/1105 [04:18<06:35,  1.71it/s]#015 39%|███▉      | 431/1105 [04:18<06:35,  1.70it/s]#015 39%|███▉      | 432/1105 [04:19<06:34,  1.70it/s]#015 39%|███▉      | 433/1105 [04:20<06:34,  1.70it/s]#015 39%|███▉      | 434/1105 [04:20<06:33,  1.71it/s]#015 39%|███▉      | 435/1105 [04:21<06:31,  1.71it/s]#015 39%|███▉      | 436/1105 [04:21<06:30,  1.71it/s]#015 40%|███▉      | 437/1105 [04:22<06:30,  1.71it/s]#015 40%|███▉      | 438/1105 [04:23<06:29,  1.71it/s]#015 40%|███▉      | 439/1105 [04:23<06:29,  1.71it/s]#015 40%|███▉      | 440/1105 [04:24<06:28,  1.71it/s]#015 40%|███▉      | 441/1105 [04:24<06:27,  1.71it/s]#015 40%|████      | 442/1105 [04:25<06:27,  1.71it/s]#015 40%|████      | 443/1105 [04:25<06:26,  1.71it/s]#015 40%|████      | 444/1105 [04:26<06:25,  1.71it/s]#015 40%|████      | 445/1105 [04:27<06:24,  1.71it/s]#015 40%|████      | 446/1105 [04:27<06:25,  1.71it/s]#015 40%|████      | 447/1105 [04:28<06:25,  1.71it/s]#015 41%|████      | 448/1105 [04:28<06:24,  1.71it/s]#015 41%|████      | 449/1105 [04:29<06:24,  1.71it/s]#015 41%|████      | 450/1105 [04:30<06:23,  1.71it/s]#015 41%|████      | 451/1105 [04:30<06:22,  1.71it/s]#015 41%|████      | 452/1105 [04:31<06:21,  1.71it/s]#015 41%|████      | 453/1105 [04:31<06:21,  1.71it/s]#015 41%|████      | 454/1105 [04:32<06:20,  1.71it/s]#015 41%|████      | 455/1105 [04:33<06:19,  1.71it/s]#015 41%|████▏     | 456/1105 [04:33<06:18,  1.71it/s]#015 41%|████▏     | 457/1105 [04:34<06:26,  1.67it/s]#015 41%|████▏     | 458/1105 [04:34<06:23,  1.69it/s]#015 42%|████▏     | 459/1105 [04:35<06:21,  1.69it/s]#015 42%|████▏     | 460/1105 [04:35<06:19,  1.70it/s]#015 42%|████▏     | 461/1105 [04:36<06:17,  1.70it/s]#015 42%|████▏     | 462/1105 [04:37<06:16,  1.71it/s]#015 42%|████▏     | 463/1105 [04:37<06:15,  1.71it/s]#015 42%|████▏     | 464/1105 [04:38<06:14,  1.71it/s]#015 42%|████▏     | 465/1105 [04:38<06:15,  1.70it/s]#015 42%|████▏     | 466/1105 [04:39<06:14,  1.71it/s]#015 42%|████▏     | 467/1105 [04:40<06:13,  1.71it/s]#015 42%|████▏     | 468/1105 [04:40<06:12,  1.71it/s]#015 42%|████▏     | 469/1105 [04:41<06:11,  1.71it/s]#015 43%|████▎     | 470/1105 [04:41<06:10,  1.71it/s]#015 43%|████▎     | 471/1105 [04:42<06:09,  1.71it/s]#015 43%|████▎     | 472/1105 [04:42<06:09,  1.71it/s]#015 43%|████▎     | 473/1105 [04:43<06:09,  1.71it/s]#015 43%|████▎     | 474/1105 [04:44<06:08,  1.71it/s]#015 43%|████▎     | 475/1105 [04:44<06:08,  1.71it/s]#015 43%|████▎     | 476/1105 [04:45<06:07,  1.71it/s]#015 43%|████▎     | 477/1105 [04:45<06:06,  1.71it/s]#015 43%|████▎     | 478/1105 [04:46<06:05,  1.72it/s]#015 43%|████▎     | 479/1105 [04:47<06:04,  1.72it/s]#015 43%|████▎     | 480/1105 [04:47<06:04,  1.71it/s]#015 44%|████▎     | 481/1105 [04:48<06:04,  1.71it/s]#015 44%|████▎     | 482/1105 [04:48<06:04,  1.71it/s]#015 44%|████▎     | 483/1105 [04:49<06:03,  1.71it/s]#015 44%|████▍     | 484/1105 [04:49<06:02,  1.71it/s]#015 44%|████▍     | 485/1105 [04:50<06:02,  1.71it/s]#015 44%|████▍     | 486/1105 [04:51<06:01,  1.71it/s]#015 44%|████▍     | 487/1105 [04:51<06:00,  1.71it/s]#015 44%|████▍     | 488/1105 [04:52<06:00,  1.71it/s]#015 44%|████▍     | 489/1105 [04:52<05:59,  1.71it/s]#015 44%|████▍     | 490/1105 [04:53<05:58,  1.71it/s]#015 44%|████▍     | 491/1105 [04:54<05:58,  1.71it/s]#015 45%|████▍     | 492/1105 [04:54<05:58,  1.71it/s]#015 45%|████▍     | 493/1105 [04:55<05:57,  1.71it/s]#015 45%|████▍     | 494/1105 [04:55<05:56,  1.71it/s]#015 45%|████▍     | 495/1105 [04:56<05:55,  1.71it/s]#015 45%|████▍     | 496/1105 [04:57<05:55,  1.71it/s]#015 45%|████▍     | 497/1105 [04:57<05:54,  1.71it/s]#015 45%|████▌     | 498/1105 [04:58<05:54,  1.71it/s]#015 45%|████▌     | 499/1105 [04:58<05:54,  1.71it/s]#015 45%|████▌     | 500/1105 [04:59<05:53,  1.71it/s]#015                                                  #015#015 45%|████▌     | 500/1105 [04:59<05:53,  1.71it/s]#015 45%|████▌     | 501/1105 [04:59<05:53,  1.71it/s]#015 45%|████▌     | 502/1105 [05:00<05:51,  1.71it/s]#015 46%|████▌     | 503/1105 [05:01<05:50,  1.72it/s]#015 46%|████▌     | 504/1105 [05:01<05:49,  1.72it/s]#015 46%|████▌     | 505/1105 [05:02<05:48,  1.72it/s]#015 46%|████▌     | 506/1105 [05:02<05:47,  1.72it/s]#015 46%|████▌     | 507/1105 [05:03<05:46,  1.72it/s]#015 46%|████▌     | 508/1105 [05:03<05:46,  1.72it/s]#015 46%|████▌     | 509/1105 [05:04<05:46,  1.72it/s]#015 46%|████▌     | 510/1105 [05:05<05:52,  1.69it/s]#015 46%|████▌     | 511/1105 [05:05<05:49,  1.70it/s]#015 46%|████▋     | 512/1105 [05:06<05:48,  1.70it/s]#015 46%|████▋     | 513/1105 [05:06<05:46,  1.71it/s]#015 47%|████▋     | 514/1105 [05:07<05:44,  1.71it/s]#015 47%|████▋     | 515/1105 [05:08<05:44,  1.71it/s]#015 47%|████▋     | 516/1105 [05:08<05:43,  1.72it/s]#015 47%|████▋     | 517/1105 [05:09<05:42,  1.71it/s]#015 47%|████▋     | 518/1105 [05:09<05:42,  1.72it/s]#015 47%|████▋     | 519/1105 [05:10<05:41,  1.72it/s]#015 47%|████▋     | 520/1105 [05:11<05:40,  1.72it/s]#015 47%|████▋     | 521/1105 [05:11<05:39,  1.72it/s]#015 47%|████▋     | 522/1105 [05:12<05:38,  1.72it/s]#015 47%|████▋     | 523/1105 [05:12<05:37,  1.72it/s]#015 47%|████▋     | 524/1105 [05:13<05:37,  1.72it/s]#015 48%|████▊     | 525/1105 [05:13<05:37,  1.72it/s]#015 48%|████▊     | 526/1105 [05:14<05:37,  1.72it/s]#015 48%|████▊     | 527/1105 [05:15<05:36,  1.72it/s]#015 48%|████▊     | 528/1105 [05:15<05:36,  1.72it/s]#015 48%|████▊     | 529/1105 [05:16<05:35,  1.72it/s]#015 48%|████▊     | 530/1105 [05:16<05:35,  1.72it/s]#015 48%|████▊     | 531/1105 [05:17<05:35,  1.71it/s]#015 48%|████▊     | 532/1105 [05:17<05:35,  1.71it/s]#015 48%|████▊     | 533/1105 [05:18<05:35,  1.71it/s]#015 48%|████▊     | 534/1105 [05:19<05:35,  1.70it/s]#015 48%|████▊     | 535/1105 [05:19<05:34,  1.71it/s]#015 49%|████▊     | 536/1105 [05:20<05:32,  1.71it/s]#015 49%|████▊     | 537/1105 [05:20<05:31,  1.71it/s]#015 49%|████▊     | 538/1105 [05:21<05:30,  1.72it/s]#015 49%|████▉     | 539/1105 [05:22<05:29,  1.72it/s]#015 49%|████▉     | 540/1105 [05:22<05:28,  1.72it/s]#015 49%|████▉     | 541/1105 [05:23<05:28,  1.72it/s]#015 49%|████▉     | 542/1105 [05:23<05:27,  1.72it/s]#015 49%|████▉     | 543/1105 [05:24<05:27,  1.72it/s]#015 49%|████▉     | 544/1105 [05:24<05:26,  1.72it/s]#015 49%|████▉     | 545/1105 [05:25<05:25,  1.72it/s]#015 49%|████▉     | 546/1105 [05:26<05:24,  1.72it/s]#015 50%|████▉     | 547/1105 [05:26<05:23,  1.72it/s]#015 50%|████▉     | 548/1105 [05:27<05:23,  1.72it/s]#015 50%|████▉     | 549/1105 [05:27<05:23,  1.72it/s]#015 50%|████▉     | 550/1105 [05:28<05:22,  1.72it/s]#015 50%|████▉     | 551/1105 [05:29<05:22,  1.72it/s]#015 50%|████▉     | 552/1105 [05:29<05:22,  1.72it/s]#015 50%|█████     | 553/1105 [05:30<05:21,  1.72it/s]#015 50%|█████     | 554/1105 [05:30<05:20,  1.72it/s]#015 50%|█████     | 555/1105 [05:31<05:20,  1.72it/s]#015 50%|█████     | 556/1105 [05:31<05:19,  1.72it/s]#015 50%|█████     | 557/1105 [05:32<05:18,  1.72it/s]#015 50%|█████     | 558/1105 [05:33<05:18,  1.72it/s]#015 51%|█████     | 559/1105 [05:33<05:18,  1.72it/s]#015 51%|█████     | 560/1105 [05:34<05:17,  1.72it/s]#015 51%|█████     | 561/1105 [05:34<05:16,  1.72it/s]#015 51%|█████     | 562/1105 [05:35<05:16,  1.72it/s]#015 51%|█████     | 563/1105 [05:36<05:22,  1.68it/s]#015 51%|█████     | 564/1105 [05:36<05:19,  1.69it/s]#015 51%|█████     | 565/1105 [05:37<05:17,  1.70it/s]#015 51%|█████     | 566/1105 [05:37<05:15,  1.71it/s]#015 51%|█████▏    | 567/1105 [05:38<05:14,  1.71it/s]#015 51%|█████▏    | 568/1105 [05:38<05:13,  1.71it/s]#015 51%|█████▏    | 569/1105 [05:39<05:12,  1.71it/s]#015 52%|█████▏    | 570/1105 [05:40<05:12,  1.71it/s]#015 52%|█████▏    | 571/1105 [05:40<05:11,  1.71it/s]#015 52%|█████▏    | 572/1105 [05:41<05:11,  1.71it/s]#015 52%|█████▏    | 573/1105 [05:41<05:10,  1.71it/s]#015 52%|█████▏    | 574/1105 [05:42<05:09,  1.71it/s]#015 52%|█████▏    | 575/1105 [05:43<05:08,  1.72it/s]#015 52\u001b[0m\n",
      "\u001b[34m%|█████▏    | 576/1105 [05:43<05:08,  1.72it/s]#015 52%|█████▏    | 577/1105 [05:44<05:07,  1.72it/s]#015 52%|█████▏    | 578/1105 [05:44<05:07,  1.71it/s]#015 52%|█████▏    | 579/1105 [05:45<05:06,  1.72it/s]#015 52%|█████▏    | 580/1105 [05:45<05:05,  1.72it/s]#015 53%|█████▎    | 581/1105 [05:46<05:05,  1.72it/s]#015 53%|█████▎    | 582/1105 [05:47<05:04,  1.72it/s]#015 53%|█████▎    | 583/1105 [05:47<05:03,  1.72it/s]#015 53%|█████▎    | 584/1105 [05:48<05:03,  1.72it/s]#015 53%|█████▎    | 585/1105 [05:48<05:02,  1.72it/s]#015 53%|█████▎    | 586/1105 [05:49<05:02,  1.72it/s]#015 53%|█████▎    | 587/1105 [05:50<05:01,  1.72it/s]#015 53%|█████▎    | 588/1105 [05:50<05:01,  1.72it/s]#015 53%|█████▎    | 589/1105 [05:51<05:00,  1.72it/s]#015 53%|█████▎    | 590/1105 [05:51<04:59,  1.72it/s]#015 53%|█████▎    | 591/1105 [05:52<04:59,  1.72it/s]#015 54%|█████▎    | 592/1105 [05:52<04:58,  1.72it/s]#015 54%|█████▎    | 593/1105 [05:53<04:58,  1.71it/s]#015 54%|█████▍    | 594/1105 [05:54<04:58,  1.71it/s]#015 54%|█████▍    | 595/1105 [05:54<04:57,  1.72it/s]#015 54%|█████▍    | 596/1105 [05:55<04:56,  1.72it/s]#015 54%|█████▍    | 597/1105 [05:55<04:55,  1.72it/s]#015 54%|█████▍    | 598/1105 [05:56<04:55,  1.72it/s]#015 54%|█████▍    | 599/1105 [05:57<04:54,  1.72it/s]#015 54%|█████▍    | 600/1105 [05:57<04:53,  1.72it/s]#015 54%|█████▍    | 601/1105 [05:58<04:53,  1.72it/s]#015 54%|█████▍    | 602/1105 [05:58<04:53,  1.72it/s]#015 55%|█████▍    | 603/1105 [05:59<04:53,  1.71it/s]#015 55%|█████▍    | 604/1105 [05:59<04:52,  1.71it/s]#015 55%|█████▍    | 605/1105 [06:00<04:51,  1.71it/s]#015 55%|█████▍    | 606/1105 [06:01<04:50,  1.72it/s]#015 55%|█████▍    | 607/1105 [06:01<04:50,  1.72it/s]#015 55%|█████▌    | 608/1105 [06:02<04:49,  1.72it/s]#015 55%|█████▌    | 609/1105 [06:02<04:48,  1.72it/s]#015 55%|█████▌    | 610/1105 [06:03<04:47,  1.72it/s]#015 55%|█████▌    | 611/1105 [06:04<04:47,  1.72it/s]#015 55%|█████▌    | 612/1105 [06:04<04:47,  1.72it/s]#015 55%|█████▌    | 613/1105 [06:05<04:46,  1.72it/s]#015 56%|█████▌    | 614/1105 [06:05<04:45,  1.72it/s]#015 56%|█████▌    | 615/1105 [06:06<04:45,  1.72it/s]#015 56%|█████▌    | 616/1105 [06:06<04:50,  1.68it/s]#015 56%|█████▌    | 617/1105 [06:07<04:48,  1.69it/s]#015 56%|█████▌    | 618/1105 [06:08<04:46,  1.70it/s]#015 56%|█████▌    | 619/1105 [06:08<04:45,  1.70it/s]#015 56%|█████▌    | 620/1105 [06:09<04:44,  1.71it/s]#015 56%|█████▌    | 621/1105 [06:09<04:43,  1.71it/s]#015 56%|█████▋    | 622/1105 [06:10<04:43,  1.70it/s]#015 56%|█████▋    | 623/1105 [06:11<04:42,  1.70it/s]#015 56%|█████▋    | 624/1105 [06:11<04:41,  1.71it/s]#015 57%|█████▋    | 625/1105 [06:12<04:41,  1.71it/s]#015 57%|█████▋    | 626/1105 [06:12<04:40,  1.71it/s]#015 57%|█████▋    | 627/1105 [06:13<04:39,  1.71it/s]#015 57%|█████▋    | 628/1105 [06:14<04:39,  1.71it/s]#015 57%|█████▋    | 629/1105 [06:14<04:39,  1.70it/s]#015 57%|█████▋    | 630/1105 [06:15<04:38,  1.71it/s]#015 57%|█████▋    | 631/1105 [06:15<04:38,  1.70it/s]#015 57%|█████▋    | 632/1105 [06:16<04:37,  1.71it/s]#015 57%|█████▋    | 633/1105 [06:16<04:36,  1.70it/s]#015 57%|█████▋    | 634/1105 [06:17<04:36,  1.71it/s]#015 57%|█████▋    | 635/1105 [06:18<04:35,  1.70it/s]#015 58%|█████▊    | 636/1105 [06:18<04:35,  1.70it/s]#015 58%|█████▊    | 637/1105 [06:19<04:34,  1.70it/s]#015 58%|█████▊    | 638/1105 [06:19<04:33,  1.70it/s]#015 58%|█████▊    | 639/1105 [06:20<04:32,  1.71it/s]#015 58%|█████▊    | 640/1105 [06:21<04:31,  1.71it/s]#015 58%|█████▊    | 641/1105 [06:21<04:30,  1.71it/s]#015 58%|█████▊    | 642/1105 [06:22<04:29,  1.72it/s]#015 58%|█████▊    | 643/1105 [06:22<04:29,  1.72it/s]#015 58%|█████▊    | 644/1105 [06:23<04:28,  1.72it/s]#015 58%|█████▊    | 645/1105 [06:23<04:28,  1.71it/s]#015 58%|█████▊    | 646/1105 [06:24<04:27,  1.72it/s]#015 59%|█████▊    | 647/1105 [06:25<04:27,  1.71it/s]#015 59%|█████▊    | 648/1105 [06:25<04:26,  1.72it/s]#015 59%|█████▊    | 649/1105 [06:26<04:25,  1.72it/s]#015 59%|█████▉    | 650/1105 [06:26<04:25,  1.71it/s]#015 59%|█████▉    | 651/1105 [06:27<04:24,  1.71it/s]#015 59%|█████▉    | 652/1105 [06:28<04:24,  1.71it/s]#015 59%|█████▉    | 653/1105 [06:28<04:24,  1.71it/s]#015 59%|█████▉    | 654/1105 [06:29<04:23,  1.71it/s]#015 59%|█████▉    | 655/1105 [06:29<04:23,  1.71it/s]#015 59%|█████▉    | 656/1105 [06:30<04:22,  1.71it/s]#015 59%|█████▉    | 657/1105 [06:30<04:22,  1.71it/s]#015 60%|█████▉    | 658/1105 [06:31<04:21,  1.71it/s]#015 60%|█████▉    | 659/1105 [06:32<04:20,  1.71it/s]#015 60%|█████▉    | 660/1105 [06:32<04:19,  1.71it/s]#015 60%|█████▉    | 661/1105 [06:33<04:18,  1.72it/s]#015 60%|█████▉    | 662/1105 [06:33<04:18,  1.72it/s]#015 60%|██████    | 663/1105 [06:34<04:17,  1.72it/s]#015 60%|██████    | 664/1105 [06:35<04:17,  1.71it/s]#015 60%|██████    | 665/1105 [06:35<04:16,  1.71it/s]#015 60%|██████    | 666/1105 [06:36<04:15,  1.72it/s]#015 60%|██████    | 667/1105 [06:36<04:14,  1.72it/s]#015 60%|██████    | 668/1105 [06:37<04:13,  1.72it/s]#015 61%|██████    | 669/1105 [06:38<04:18,  1.69it/s]#015 61%|██████    | 670/1105 [06:38<04:16,  1.69it/s]#015 61%|██████    | 671/1105 [06:39<04:15,  1.70it/s]#015 61%|██████    | 672/1105 [06:39<04:13,  1.71it/s]#015 61%|██████    | 673/1105 [06:40<04:12,  1.71it/s]#015 61%|██████    | 674/1105 [06:40<04:11,  1.71it/s]#015 61%|██████    | 675/1105 [06:41<04:11,  1.71it/s]#015 61%|██████    | 676/1105 [06:42<04:10,  1.71it/s]#015 61%|██████▏   | 677/1105 [06:42<04:09,  1.72it/s]#015 61%|██████▏   | 678/1105 [06:43<04:08,  1.72it/s]#015 61%|██████▏   | 679/1105 [06:43<04:08,  1.71it/s]#015 62%|██████▏   | 680/1105 [06:44<04:07,  1.71it/s]#015 62%|██████▏   | 681/1105 [06:44<04:07,  1.71it/s]#015 62%|██████▏   | 682/1105 [06:45<04:06,  1.72it/s]#015 62%|██████▏   | 683/1105 [06:46<04:05,  1.72it/s]#015 62%|██████▏   | 684/1105 [06:46<04:05,  1.72it/s]#015 62%|██████▏   | 685/1105 [06:47<04:04,  1.72it/s]#015 62%|██████▏   | 686/1105 [06:47<04:03,  1.72it/s]#015 62%|██████▏   | 687/1105 [06:48<04:03,  1.72it/s]#015 62%|██████▏   | 688/1105 [06:49<04:02,  1.72it/s]#015 62%|██████▏   | 689/1105 [06:49<04:01,  1.72it/s]#015 62%|██████▏   | 690/1105 [06:50<04:01,  1.72it/s]#015 63%|██████▎   | 691/1105 [06:50<04:01,  1.72it/s]#015 63%|██████▎   | 692/1105 [06:51<04:00,  1.72it/s]#015 63%|██████▎   | 693/1105 [06:51<03:59,  1.72it/s]#015 63%|██████▎   | 694/1105 [06:52<03:59,  1.72it/s]#015 63%|██████▎   | 695/1105 [06:53<03:58,  1.72it/s]#015 63%|██████▎   | 696/1105 [06:53<03:57,  1.72it/s]#015 63%|██████▎   | 697/1105 [06:54<03:57,  1.72it/s]#015 63%|██████▎   | 698/1105 [06:54<03:56,  1.72it/s]#015 63%|██████▎   | 699/1105 [06:55<03:55,  1.72it/s]#015 63%|██████▎   | 700/1105 [06:56<03:55,  1.72it/s]#015 63%|██████▎   | 701/1105 [06:56<03:54,  1.72it/s]#015 64%|██████▎   | 702/1105 [06:57<03:53,  1.72it/s]#015 64%|██████▎   | 703/1105 [06:57<03:53,  1.72it/s]#015 64%|██████▎   | 704/1105 [06:58<03:52,  1.72it/s]#015 64%|██████▍   | 705/1105 [06:58<03:52,  1.72it/s]#015 64%|██████▍   | 706/1105 [06:59<03:52,  1.72it/s]#015 64%|██████▍   | 707/1105 [07:00<03:52,  1.71it/s]#015 64%|██████▍   | 708/1105 [07:00<03:51,  1.71it/s]#015 64%|██████▍   | 709/1105 [07:01<03:50,  1.72it/s]#015 64%|██████▍   | 710/1105 [07:01<03:49,  1.72it/s]#015 64%|██████▍   | 711/1105 [07:02<03:49,  1.72it/s]#015 64%|██████▍   | 712/1105 [07:03<03:48,  1.72it/s]#015 65%|██████▍   | 713/1105 [07:03<03:47,  1.72it/s]#015 65%|██████▍   | 714/1105 [07:04<03:47,  1.72it/s]#015 65%|██████▍   | 715/1105 [07:04<03:46,  1.72it/s]#015 65%|██████▍   | 716/1105 [07:05<03:45,  1.72it/s]#015 65%|██████▍   | 717/1105 [07:05<03:45,  1.72it/s]#015 65%|██████▍   | 718/1105 [07:06<03:44,  1.72it/s]#015 65%|██████▌   | 719/1105 [07:07<03:44,  1.72it/s]#015 65%|██████▌   | 720/1105 [07:07<03:43,  1.72it/s]#015 65%|██████▌   | 721/1105 [07:08<03:42,  1.72it/s]#015 65%|██████▌   | 722/1105 [07:08<03:47,  1.69it/s]#015 65%|██████▌   | 723/1105 [07:09<03:45,  1.70it/s]#015 66%|██████▌   | 724/1105 [07:10<03:43,  1.70it/s]#015 66%|██████▌   | 725/1105 [07:10<03:42,  1.70it/s]#015 66%|██████▌   | 726/1105 [07:11<03:41,  1.71it/s]#015 66%|██████▌   | 727/1105 [07:11<03:40,  1.71it/s]#015 66%|██████▌   | 728/1105 [07:12<03:39,  1.71it/s]#015 66%|██████▌   | 729/1105 [07:12<03:39,  1.72it/s]#015 66%|██████▌   | 730/1105 [07:13<03:38,  1.72it/s]#015 66%|██████▌   | 731/1105 [07:14<03:38,  1.71it/s]#015 66%|██████▌   | 732/1105 [07:14<03:37,  1.71it/s]#015 66%|██████▋   | 733/1105 [07:15<03:37,  1.71it/s]#015 66%|██████▋   | 734/1105 [07:15<03:36,  1.71it/s]#015 67%|██████▋   | 735/1105 [07:16<03:36,  1.71it/s]#015 67%|██████▋   | 736/1105 [07:17<03:35,  1.71it/s]#015 67%|██████▋   | 737/1105 [07:17<03:35,  1.71it/s]#015 67%|██████▋   | 738/1105 [07:18<03:34,  1.71it/s]#015 67%|██████▋   | 739/1105 [07:18<03:34,  1.70it/s]#015 67%|██████▋   | 740/1105 [07:19<03:34,  1.70it/s]#015 67%|██████▋   | 741/1105 [07:19<03:33,  1.71it/s]#015 67%|██████▋   | 742/1105 [07:20<03:32,  1.71it/s]#015 67%|██████▋   | 743/1105 [07:21<03:31,  1.71it/s]#015 67%|██████▋   | 744/1105 [07:21<03:31,  1.71it/s]#015 67%|██████▋   | 745/1105 [07:22<03:30,  1.71it/s]#015 68%|██████▊   | 746/1105 [07:22<03:29,  1.71it/s]#015 68%|██████▊   | 747/1105 [07:23<03:29,  1.71it/s]#015 68%|██████▊   | 748/1105 [07:24<03:28,  1.71it/s]#015 68%|██████▊   | 749/1105 [07:24<03:28,  1.71it/s]#015 68%|██████▊   | 750/1105 [07:25<03:27,  1.71it/s]#015 68%|██████▊   | 751/1105 [07:25<03:27,  1.71it/s]#015 68%|██████▊   | 752/1105 [07:26<03:26,  1.71it/s]#015 68%|██████▊   | 753/1105 [07:26<03:25,  1.71it/s]#015 68%|██████▊   | 754/1105 [07:27<03:25,  1.71it/s]#015 68%|██████▊   | 755/1105 [07:28<03:24,  1.71it/s]#015 68%|██████▊   | 756/1105 [07:28<03:23,  1.71it/s]#015 69%|██████▊   | 757/1105 [07:29<03:23,  1.71it/s]#015 69%|██████▊   | 758/1105 [07:29<03:23,  1.71it/s]#015 69%|██████▊   | 759/1105 [07:30<03:22,  1.71it/s]#015 69%|██████▉   | 760/1105 [07:31<03:22,  1.70it/s]#015 69%|██████▉   | 761/1105 [07:31<03:21,  1.70it/s]#015 69%|██████▉   | 762/1105 [07:32<03:20,  1.71it/s]#015 69%|██████▉   | 763/1105 [07:32<03:20,  1.71it/s]#015 69%|██████▉   | 764/1105 [07:33<03:19,  1.71it/s]#015 69%|██████▉   | 765/1105 [07:34<03:19,  1.71it/s]#015 69%|██████▉   | 766/1105 [07:34<03:19,  1.70it/s]#015 69%|██████▉   | 767/1105 [07:35<03:18,  1.70it/s]#015 70%|██████▉   | 768/1105 [07:35<03:17,  1.70it/s]#015 70%|██████▉   | 769/1105 [07:36<03:16,  1.71it/s]#015 70%|██████▉   | 770/1105 [07:36<03:16,  1.71it/s]#015 70%|██████▉   | 771/1105 [07:37<03:15,  1.71it/s]#015 70%|██████▉   | 772/1105 [07:38<03:14,  1.71it/s]#015 70%|██████▉   | 773/1105 [07:38<03:13,  1.71it/s]#015 70%|███████   | 774/1105 [07:39<03:13,  1.71it/s]#015 70%|███████   | 775/1105 [07:39<03:16,  1.68it/s]#015 70%|███████   | 776/1105 [07:40<03:15,  1.69it/s]#015 70%|███████   | 777/1105 [07:41<03:13,  1.69it/s]#015 70%|███████   | 778/1105 [07:41<03:12,  1.70it/s]#015 70%|███████   | 779/1105 [07:42<03:11,  1.71it/s]#015 71%|███████   | 780/1105 [07:42<03:10,  1.71it/s]#015 71%|███████   | 781/1105 [07:43<03:09,  1.71it/s]#015 71%|███████   | 782/1105 [07:43<03:08,  1.71it/s]#015 71%|███████   | 783/1105 [07:44<03:08,  1.71it/s]#015 71%|███████   | 784/1105 [07:45<03:07,  1.71it/s]#015 71%|███████   | 785/1105 [07:45<03:07,  1.71it/s]#015 71%|███████   | 786/1105 [07:46<03:07,  1.71it/s]#015 71%|███████   | 787/1105 [07:46<03:06,  1.71it/s]#015 71%|███████▏  | 788/1105 [07:47<03:05,  1.71it/s]#015 71%|███████▏  | 789/1105 [07:48<03:04,  1.71it/s]#015 71%|███████▏  | 790/1105 [07:48<03:03,  1.71it/s]#015 72%|███████▏  | 791/1105 [07:49<03:03,  1.71it/s]#015 72%|███████▏  | 792/1105 [07:49<03:02,  1.71it/s]#015 72%|███████▏  | 793/1105 [07:50<03:02,  1.71it/s]#015 72%|███████▏  | 794/1105 [07:51<03:01,  1.71it/s]#015 72%|███████▏  | 795/1105 [07:51<03:00,  1.72it/s]#015 72%|███████▏  | 796/1105 [07:52<03:00,  1.71it/s]#015 72%|███████▏  | 797/1105 [07:52<02:59,  1.72it/s]#015 72%|███████▏  | 798/1105 [07:53<02:58,  1.72it/s]#015 72%|███████▏  | 799/1105 [07:53<02:57,  1.72it/s]#015 72%|███████▏  | 800/1105 [07:54<02:57,  1.72it/s]#015 72%|███████▏  | 801/1105 [07:55<02:56,  1.72it/s]#015 73%|███████▎  | 802/1105 [07:55<02:55,  1.72it/s]#015 73%|███████▎  | 803/1105 [07:56<02:55,  1.72it/s]#015 73%|███████▎  | 804/1105 [07:56<02:55,  1.72it/s]#015 73%|███████▎  | 805/1105 [07:57<02:54,  1.72it/s]#015 73%|███████▎  | 806/1105 [07:57<02:53,  1.72it/s]#015 73%|███████▎  | 807/1105 [07:58<02:52,  1.72it/s]#015 73%|███████▎  | 808/1105 [07:59<02:52,  1.73it/s]#015 73%|███████▎  | 809/1105 [07:59<02:51,  1.72it/s]#015 73%|███████▎  | 810/1105 [08:00<02:51,  1.72it/s]#015 73%|███████▎  | 811/1105 [08:00<02:50,  1.72it/s]#015 73%|███████▎  | 812/1105 [08:01<02:50,  1.72it/s]#015 74%|███████▎  | 813/1105 [08:02<02:49,  1.72it/s]#015 74%|███████▎  | 814/1105 [08:02<02:48,  1.72it/s]#015 74%|███████▍  | 815/1105 [08:03<02:48,  1.72it/s]#015 74%|███████▍  | 816/1105 [08:03<02:47,  1.72it/s]#015 74%|███████▍  | 817/1105 [08:04<02:47,  1.72it/s]#015 74%|███████▍  | 818/1105 [08:04<02:46,  1.72it/s]#015 74%|███████▍  | 819/1105 [08:05<02:45,  1.73it/s]#015 74%|███████▍  | 820/1105 [08:06<02:45,  1.73it/s]#015 74%|███████▍  | 821/1105 [08:06<02:46,  1.71it/s]#015 74%|███████▍  | 822/1105 [08:07<02:45,  1.71it/s]#015 74%|███████▍  | 823/1105 [08:07<02:44,  1.72it/s]#015 75%|███████▍  | 824/1105 [08:08<02:43,  1.72it/s]#015 75%|███████▍  | 825/1105 [08:09<02:42,  1.72it/s]#015 75%|███████▍  | 826/1105 [08:09<02:41,  1.72it/s]#015 75%|███████▍  | 827/1105 [08:10<02:41,  1.72it/s]#015 75%|███████▍  | 828/1105 [08:10<02:44,  1.68it/s]#015 75%|███████▌  | 829/1105 [08:11<02:42,  1.69i\u001b[0m\n",
      "\u001b[34mt/s]#015 75%|███████▌  | 830/1105 [08:11<02:41,  1.70it/s]#015 75%|███████▌  | 831/1105 [08:12<02:40,  1.71it/s]#015 75%|███████▌  | 832/1105 [08:13<02:39,  1.72it/s]#015 75%|███████▌  | 833/1105 [08:13<02:38,  1.72it/s]#015 75%|███████▌  | 834/1105 [08:14<02:37,  1.72it/s]#015 76%|███████▌  | 835/1105 [08:14<02:37,  1.72it/s]#015 76%|███████▌  | 836/1105 [08:15<02:36,  1.71it/s]#015 76%|███████▌  | 837/1105 [08:16<02:36,  1.72it/s]#015 76%|███████▌  | 838/1105 [08:16<02:35,  1.72it/s]#015 76%|███████▌  | 839/1105 [08:17<02:34,  1.72it/s]#015 76%|███████▌  | 840/1105 [08:17<02:34,  1.72it/s]#015 76%|███████▌  | 841/1105 [08:18<02:33,  1.71it/s]#015 76%|███████▌  | 842/1105 [08:18<02:33,  1.71it/s]#015 76%|███████▋  | 843/1105 [08:19<02:33,  1.71it/s]#015 76%|███████▋  | 844/1105 [08:20<02:32,  1.71it/s]#015 76%|███████▋  | 845/1105 [08:20<02:31,  1.71it/s]#015 77%|███████▋  | 846/1105 [08:21<02:30,  1.72it/s]#015 77%|███████▋  | 847/1105 [08:21<02:30,  1.72it/s]#015 77%|███████▋  | 848/1105 [08:22<02:29,  1.72it/s]#015 77%|███████▋  | 849/1105 [08:23<02:28,  1.72it/s]#015 77%|███████▋  | 850/1105 [08:23<02:28,  1.72it/s]#015 77%|███████▋  | 851/1105 [08:24<02:27,  1.72it/s]#015 77%|███████▋  | 852/1105 [08:24<02:26,  1.72it/s]#015 77%|███████▋  | 853/1105 [08:25<02:26,  1.72it/s]#015 77%|███████▋  | 854/1105 [08:25<02:25,  1.72it/s]#015 77%|███████▋  | 855/1105 [08:26<02:25,  1.72it/s]#015 77%|███████▋  | 856/1105 [08:27<02:24,  1.72it/s]#015 78%|███████▊  | 857/1105 [08:27<02:23,  1.72it/s]#015 78%|███████▊  | 858/1105 [08:28<02:23,  1.73it/s]#015 78%|███████▊  | 859/1105 [08:28<02:22,  1.72it/s]#015 78%|███████▊  | 860/1105 [08:29<02:21,  1.73it/s]#015 78%|███████▊  | 861/1105 [08:29<02:21,  1.73it/s]#015 78%|███████▊  | 862/1105 [08:30<02:20,  1.73it/s]#015 78%|███████▊  | 863/1105 [08:31<02:20,  1.72it/s]#015 78%|███████▊  | 864/1105 [08:31<02:20,  1.72it/s]#015 78%|███████▊  | 865/1105 [08:32<02:19,  1.72it/s]#015 78%|███████▊  | 866/1105 [08:32<02:18,  1.72it/s]#015 78%|███████▊  | 867/1105 [08:33<02:18,  1.72it/s]#015 79%|███████▊  | 868/1105 [08:34<02:17,  1.72it/s]#015 79%|███████▊  | 869/1105 [08:34<02:17,  1.72it/s]#015 79%|███████▊  | 870/1105 [08:35<02:16,  1.72it/s]#015 79%|███████▉  | 871/1105 [08:35<02:16,  1.72it/s]#015 79%|███████▉  | 872/1105 [08:36<02:15,  1.72it/s]#015 79%|███████▉  | 873/1105 [08:36<02:14,  1.72it/s]#015 79%|███████▉  | 874/1105 [08:37<02:14,  1.72it/s]#015 79%|███████▉  | 875/1105 [08:38<02:14,  1.72it/s]#015 79%|███████▉  | 876/1105 [08:38<02:13,  1.72it/s]#015 79%|███████▉  | 877/1105 [08:39<02:12,  1.72it/s]#015 79%|███████▉  | 878/1105 [08:39<02:11,  1.72it/s]#015 80%|███████▉  | 879/1105 [08:40<02:11,  1.72it/s]#015 80%|███████▉  | 880/1105 [08:41<02:10,  1.72it/s]#015 80%|███████▉  | 881/1105 [08:41<02:12,  1.68it/s]#015 80%|███████▉  | 882/1105 [08:42<02:11,  1.70it/s]#015 80%|███████▉  | 883/1105 [08:42<02:10,  1.70it/s]#015 80%|████████  | 884/1105 [08:43<02:09,  1.71it/s]#015 80%|████████  | 885/1105 [08:43<02:08,  1.71it/s]#015 80%|████████  | 886/1105 [08:44<02:07,  1.72it/s]#015 80%|████████  | 887/1105 [08:45<02:06,  1.72it/s]#015 80%|████████  | 888/1105 [08:45<02:06,  1.72it/s]#015 80%|████████  | 889/1105 [08:46<02:05,  1.72it/s]#015 81%|████████  | 890/1105 [08:46<02:04,  1.72it/s]#015 81%|████████  | 891/1105 [08:47<02:04,  1.72it/s]#015 81%|████████  | 892/1105 [08:48<02:03,  1.72it/s]#015 81%|████████  | 893/1105 [08:48<02:02,  1.72it/s]#015 81%|████████  | 894/1105 [08:49<02:02,  1.72it/s]#015 81%|████████  | 895/1105 [08:49<02:01,  1.72it/s]#015 81%|████████  | 896/1105 [08:50<02:01,  1.72it/s]#015 81%|████████  | 897/1105 [08:50<02:00,  1.72it/s]#015 81%|████████▏ | 898/1105 [08:51<02:00,  1.72it/s]#015 81%|████████▏ | 899/1105 [08:52<01:59,  1.72it/s]#015 81%|████████▏ | 900/1105 [08:52<01:59,  1.72it/s]#015 82%|████████▏ | 901/1105 [08:53<01:58,  1.72it/s]#015 82%|████████▏ | 902/1105 [08:53<01:57,  1.72it/s]#015 82%|████████▏ | 903/1105 [08:54<01:57,  1.72it/s]#015 82%|████████▏ | 904/1105 [08:55<01:56,  1.72it/s]#015 82%|████████▏ | 905/1105 [08:55<01:56,  1.72it/s]#015 82%|████████▏ | 906/1105 [08:56<01:55,  1.73it/s]#015 82%|████████▏ | 907/1105 [08:56<01:54,  1.73it/s]#015 82%|████████▏ | 908/1105 [08:57<01:54,  1.73it/s]#015 82%|████████▏ | 909/1105 [08:57<01:53,  1.73it/s]#015 82%|████████▏ | 910/1105 [08:58<01:52,  1.73it/s]#015 82%|████████▏ | 911/1105 [08:59<01:52,  1.73it/s]#015 83%|████████▎ | 912/1105 [08:59<01:51,  1.72it/s]#015 83%|████████▎ | 913/1105 [09:00<01:51,  1.72it/s]#015 83%|████████▎ | 914/1105 [09:00<01:50,  1.72it/s]#015 83%|████████▎ | 915/1105 [09:01<01:50,  1.72it/s]#015 83%|████████▎ | 916/1105 [09:01<01:49,  1.72it/s]#015 83%|████████▎ | 917/1105 [09:02<01:49,  1.72it/s]#015 83%|████████▎ | 918/1105 [09:03<01:48,  1.72it/s]#015 83%|████████▎ | 919/1105 [09:03<01:48,  1.72it/s]#015 83%|████████▎ | 920/1105 [09:04<01:47,  1.72it/s]#015 83%|████████▎ | 921/1105 [09:04<01:46,  1.72it/s]#015 83%|████████▎ | 922/1105 [09:05<01:46,  1.72it/s]#015 84%|████████▎ | 923/1105 [09:06<01:45,  1.72it/s]#015 84%|████████▎ | 924/1105 [09:06<01:45,  1.72it/s]#015 84%|████████▎ | 925/1105 [09:07<01:44,  1.72it/s]#015 84%|████████▍ | 926/1105 [09:07<01:43,  1.72it/s]#015 84%|████████▍ | 927/1105 [09:08<01:43,  1.72it/s]#015 84%|████████▍ | 928/1105 [09:08<01:42,  1.72it/s]#015 84%|████████▍ | 929/1105 [09:09<01:42,  1.72it/s]#015 84%|████████▍ | 930/1105 [09:10<01:41,  1.73it/s]#015 84%|████████▍ | 931/1105 [09:10<01:40,  1.73it/s]#015 84%|████████▍ | 932/1105 [09:11<01:40,  1.73it/s]#015 84%|████████▍ | 933/1105 [09:11<01:39,  1.72it/s]#015 85%|████████▍ | 934/1105 [09:12<01:41,  1.68it/s]#015 85%|████████▍ | 935/1105 [09:13<01:40,  1.69it/s]#015 85%|████████▍ | 936/1105 [09:13<01:39,  1.70it/s]#015 85%|████████▍ | 937/1105 [09:14<01:38,  1.71it/s]#015 85%|████████▍ | 938/1105 [09:14<01:37,  1.71it/s]#015 85%|████████▍ | 939/1105 [09:15<01:37,  1.71it/s]#015 85%|████████▌ | 940/1105 [09:15<01:36,  1.71it/s]#015 85%|████████▌ | 941/1105 [09:16<01:35,  1.71it/s]#015 85%|████████▌ | 942/1105 [09:17<01:35,  1.71it/s]#015 85%|████████▌ | 943/1105 [09:17<01:34,  1.71it/s]#015 85%|████████▌ | 944/1105 [09:18<01:34,  1.70it/s]#015 86%|████████▌ | 945/1105 [09:18<01:34,  1.70it/s]#015 86%|████████▌ | 946/1105 [09:19<01:33,  1.70it/s]#015 86%|████████▌ | 947/1105 [09:20<01:32,  1.70it/s]#015 86%|████████▌ | 948/1105 [09:20<01:32,  1.71it/s]#015 86%|████████▌ | 949/1105 [09:21<01:31,  1.71it/s]#015 86%|████████▌ | 950/1105 [09:21<01:30,  1.71it/s]#015 86%|████████▌ | 951/1105 [09:22<01:29,  1.72it/s]#015 86%|████████▌ | 952/1105 [09:22<01:29,  1.72it/s]#015 86%|████████▌ | 953/1105 [09:23<01:28,  1.72it/s]#015 86%|████████▋ | 954/1105 [09:24<01:27,  1.72it/s]#015 86%|████████▋ | 955/1105 [09:24<01:27,  1.72it/s]#015 87%|████████▋ | 956/1105 [09:25<01:26,  1.72it/s]#015 87%|████████▋ | 957/1105 [09:25<01:26,  1.72it/s]#015 87%|████████▋ | 958/1105 [09:26<01:25,  1.72it/s]#015 87%|████████▋ | 959/1105 [09:27<01:25,  1.72it/s]#015 87%|████████▋ | 960/1105 [09:27<01:24,  1.72it/s]#015 87%|████████▋ | 961/1105 [09:28<01:23,  1.72it/s]#015 87%|████████▋ | 962/1105 [09:28<01:23,  1.72it/s]#015 87%|████████▋ | 963/1105 [09:29<01:22,  1.72it/s]#015 87%|████████▋ | 964/1105 [09:29<01:21,  1.72it/s]#015 87%|████████▋ | 965/1105 [09:30<01:21,  1.72it/s]#015 87%|████████▋ | 966/1105 [09:31<01:20,  1.72it/s]#015 88%|████████▊ | 967/1105 [09:31<01:20,  1.72it/s]#015 88%|████████▊ | 968/1105 [09:32<01:19,  1.72it/s]#015 88%|████████▊ | 969/1105 [09:32<01:19,  1.72it/s]#015 88%|████████▊ | 970/1105 [09:33<01:18,  1.72it/s]#015 88%|████████▊ | 971/1105 [09:34<01:18,  1.72it/s]#015 88%|████████▊ | 972/1105 [09:34<01:17,  1.72it/s]#015 88%|████████▊ | 973/1105 [09:35<01:16,  1.72it/s]#015 88%|████████▊ | 974/1105 [09:35<01:16,  1.71it/s]#015 88%|████████▊ | 975/1105 [09:36<01:15,  1.71it/s]#015 88%|████████▊ | 976/1105 [09:36<01:15,  1.71it/s]#015 88%|████████▊ | 977/1105 [09:37<01:14,  1.72it/s]#015 89%|████████▊ | 978/1105 [09:38<01:13,  1.72it/s]#015 89%|████████▊ | 979/1105 [09:38<01:13,  1.72it/s]#015 89%|████████▊ | 980/1105 [09:39<01:12,  1.72it/s]#015 89%|████████▉ | 981/1105 [09:39<01:12,  1.72it/s]#015 89%|████████▉ | 982/1105 [09:40<01:11,  1.72it/s]#015 89%|████████▉ | 983/1105 [09:41<01:10,  1.72it/s]#015 89%|████████▉ | 984/1105 [09:41<01:10,  1.72it/s]#015 89%|████████▉ | 985/1105 [09:42<01:09,  1.72it/s]#015 89%|████████▉ | 986/1105 [09:42<01:09,  1.72it/s]#015 89%|████████▉ | 987/1105 [09:43<01:10,  1.68it/s]#015 89%|████████▉ | 988/1105 [09:43<01:09,  1.69it/s]#015 90%|████████▉ | 989/1105 [09:44<01:08,  1.70it/s]#015 90%|████████▉ | 990/1105 [09:45<01:07,  1.70it/s]#015 90%|████████▉ | 991/1105 [09:45<01:06,  1.71it/s]#015 90%|████████▉ | 992/1105 [09:46<01:06,  1.71it/s]#015 90%|████████▉ | 993/1105 [09:46<01:05,  1.71it/s]#015 90%|████████▉ | 994/1105 [09:47<01:04,  1.72it/s]#015 90%|█████████ | 995/1105 [09:48<01:04,  1.72it/s]#015 90%|█████████ | 996/1105 [09:48<01:03,  1.72it/s]#015 90%|█████████ | 997/1105 [09:49<01:02,  1.72it/s]#015 90%|█████████ | 998/1105 [09:49<01:02,  1.72it/s]#015 90%|█████████ | 999/1105 [09:50<01:01,  1.72it/s]#015 90%|█████████ | 1000/1105 [09:50<01:00,  1.72it/s]#015                                                   #015#015 90%|█████████ | 1000/1105 [09:50<01:00,  1.72it/s]#015 91%|█████████ | 1001/1105 [09:51<01:00,  1.72it/s]#015 91%|█████████ | 1002/1105 [09:52<00:59,  1.73it/s]#015 91%|█████████ | 1003/1105 [09:52<00:59,  1.72it/s]#015 91%|█████████ | 1004/1105 [09:53<00:58,  1.72it/s]#015 91%|█████████ | 1005/1105 [09:53<00:58,  1.72it/s]#015 91%|█████████ | 1006/1105 [09:54<00:57,  1.72it/s]#015 91%|█████████ | 1007/1105 [09:55<00:56,  1.72it/s]#015 91%|█████████ | 1008/1105 [09:55<00:56,  1.72it/s]#015 91%|█████████▏| 1009/1105 [09:56<00:55,  1.73it/s]#015 91%|█████████▏| 1010/1105 [09:56<00:55,  1.73it/s]#015 91%|█████████▏| 1011/1105 [09:57<00:54,  1.72it/s]#015 92%|█████████▏| 1012/1105 [09:57<00:54,  1.72it/s]#015 92%|█████████▏| 1013/1105 [09:58<00:53,  1.72it/s]#015 92%|█████████▏| 1014/1105 [09:59<00:52,  1.72it/s]#015 92%|█████████▏| 1015/1105 [09:59<00:52,  1.72it/s]#015 92%|█████████▏| 1016/1105 [10:00<00:51,  1.72it/s]#015 92%|█████████▏| 1017/1105 [10:00<00:51,  1.73it/s]#015 92%|█████████▏| 1018/1105 [10:01<00:50,  1.73it/s]#015 92%|█████████▏| 1019/1105 [10:01<00:49,  1.72it/s]#015 92%|█████████▏| 1020/1105 [10:02<00:49,  1.72it/s]#015 92%|█████████▏| 1021/1105 [10:03<00:48,  1.72it/s]#015 92%|█████████▏| 1022/1105 [10:03<00:48,  1.72it/s]#015 93%|█████████▎| 1023/1105 [10:04<00:47,  1.72it/s]#015 93%|█████████▎| 1024/1105 [10:04<00:47,  1.72it/s]#015 93%|█████████▎| 1025/1105 [10:05<00:46,  1.72it/s]#015 93%|█████████▎| 1026/1105 [10:06<00:45,  1.72it/s]#015 93%|█████████▎| 1027/1105 [10:06<00:45,  1.72it/s]#015 93%|█████████▎| 1028/1105 [10:07<00:44,  1.72it/s]#015 93%|█████████▎| 1029/1105 [10:07<00:44,  1.73it/s]#015 93%|█████████▎| 1030/1105 [10:08<00:43,  1.72it/s]#015 93%|█████████▎| 1031/1105 [10:08<00:42,  1.72it/s]#015 93%|█████████▎| 1032/1105 [10:09<00:42,  1.72it/s]#015 93%|█████████▎| 1033/1105 [10:10<00:42,  1.71it/s]#015 94%|█████████▎| 1034/1105 [10:10<00:41,  1.71it/s]#015 94%|█████████▎| 1035/1105 [10:11<00:40,  1.72it/s]#015 94%|█████████▍| 1036/1105 [10:11<00:40,  1.71it/s]#015 94%|█████████▍| 1037/1105 [10:12<00:39,  1.71it/s]#015 94%|█████████▍| 1038/1105 [10:13<00:39,  1.71it/s]#015 94%|█████████▍| 1039/1105 [10:13<00:38,  1.71it/s]#015 94%|█████████▍| 1040/1105 [10:14<00:38,  1.67it/s]#015 94%|█████████▍| 1041/1105 [10:14<00:38,  1.68it/s]#015 94%|█████████▍| 1042/1105 [10:15<00:37,  1.69it/s]#015 94%|█████████▍| 1043/1105 [10:15<00:36,  1.70it/s]#015 94%|█████████▍| 1044/1105 [10:16<00:35,  1.70it/s]#015 95%|█████████▍| 1045/1105 [10:17<00:35,  1.70it/s]#015 95%|█████████▍| 1046/1105 [10:17<00:34,  1.70it/s]#015 95%|█████████▍| 1047/1105 [10:18<00:34,  1.70it/s]#015 95%|█████████▍| 1048/1105 [10:18<00:33,  1.70it/s]#015 95%|█████████▍| 1049/1105 [10:19<00:32,  1.70it/s]#015 95%|█████████▌| 1050/1105 [10:20<00:32,  1.70it/s]#015 95%|█████████▌| 1051/1105 [10:20<00:31,  1.71it/s]#015 95%|█████████▌| 1052/1105 [10:21<00:31,  1.71it/s]#015 95%|█████████▌| 1053/1105 [10:21<00:30,  1.71it/s]#015 95%|█████████▌| 1054/1105 [10:22<00:29,  1.71it/s]#015 95%|█████████▌| 1055/1105 [10:23<00:29,  1.71it/s]#015 96%|█████████▌| 1056/1105 [10:23<00:28,  1.71it/s]#015 96%|█████████▌| 1057/1105 [10:24<00:27,  1.72it/s]#015 96%|█████████▌| 1058/1105 [10:24<00:27,  1.72it/s]#015 96%|█████████▌| 1059/1105 [10:25<00:26,  1.72it/s]#015 96%|█████████▌| 1060/1105 [10:25<00:26,  1.72it/s]#015 96%|█████████▌| 1061/1105 [10:26<00:25,  1.72it/s]#015 96%|█████████▌| 1062/1105 [10:27<00:25,  1.72it/s]#015 96%|█████████▌| 1063/1105 [10:27<00:24,  1.72it/s]#015 96%|█████████▋| 1064/1105 [10:28<00:23,  1.72it/s]#015\n",
      " 96%|█████████▋| 1065/1105 [10:28<00:23,  1.72it/s]#015 96%|█████████▋| 1066/1105 [10:29<00:22,  1.72it/s]#015 97%|█████████▋| 1067/1105 [10:29<00:22,  1.72it/s]#015 97%|█████████▋| 1068/1105 [10:30<00:21,  1.72it/s]#015 97%|█████████▋| 1069/1105 [10:31<00:20,  1.72it/s]#015 97%|█████████▋| 1070/1105 [10:31<00:20,  1.72it/s]#015 97%|█████████▋| 1071/1105 [10:32<00:19,  1.72it/s]#015 97%|█████████▋| 1072/1105 [10:32<00:19,  1.72it/s]#015 97%|█████████▋| 1073/1105 [10:33<00:18,  1.72it/s]#015 97%|█████████▋| 1074/1105 [10:34<00:18,  1.71it/s]#015 97%|█████████▋| 1075/1105 [10:34<00:17,  1.72it/s]#015 97%|█████████▋| 1076/1105 [10:35<00:16,  1.72it/s]#015 97%|█████████▋| 1077/1105 [10:35<00:16,  1.72it/s]#015 98%|█████████▊| 1078/1105 [10:36<00:15,  1.72it/s]#015 98%|█████████▊| 1079/1105 [10:36<00:15,  1.72it/s]#015 98%|█████████▊| 1080/1105 [10:37<00:14,  1.72it/s]#015 98%|█████████▊| 1081/1105 [10:38<00:13,  1.72it/s]#015 98%|█████████▊| 1082/1105 [10:38<00:13,  1.72it/s]#015 98%|█████████▊| 1083/1105 [10:39<00:12,  1.72it/s]#015 98%|█████████▊| 1084/1105 [10:39<00:12,  1.72it/s]#015 98%|█████████▊| 1085/1105 [10:40<00:11,  1.72it/s]#015 98%|█████████▊| 1086/1105 [10:41<00:11,  1.72it/s]#015 98%|█████████▊| 1087/1105 [10:41<00:10,  1.72it/s]#015 98%|█████████▊| 1088/1105 [10:42<00:09,  1.72it/s]#015 99%|█████████▊| 1089/1105 [10:42<00:09,  1.72it/s]#015 99%|█████████▊| 1090/1105 [10:43<00:08,  1.72it/s]#015 99%|█████████▊| 1091/1105 [10:43<00:08,  1.71it/s]#015 99%|█████████▉| 1092/1105 [10:44<00:07,  1.71it/s]#015 99%|█████████▉| 1093/1105 [10:45<00:07,  1.68it/s]#015 99%|█████████▉| 1094/1105 [10:45<00:06,  1.69it/s]#015 99%|█████████▉| 1095/1105 [10:46<00:05,  1.70it/s]#015 99%|█████████▉| 1096/1105 [10:46<00:05,  1.70it/s]#015 99%|█████████▉| 1097/1105 [10:47<00:04,  1.71it/s]#015 99%|█████████▉| 1098/1105 [10:48<00:04,  1.71it/s]#015 99%|█████████▉| 1099/1105 [10:48<00:03,  1.71it/s]#015100%|█████████▉| 1100/1105 [10:49<00:02,  1.71it/s]#015100%|█████████▉| 1101/1105 [10:49<00:02,  1.71it/s]#015100%|█████████▉| 1102/1105 [10:50<00:01,  1.71it/s]#015100%|█████████▉| 1103/1105 [10:50<00:01,  1.72it/s]#015100%|█████████▉| 1104/1105 [10:51<00:00,  1.72it/s]#015100%|██████████| 1105/1105 [10:51<00:00,  1.99it/s]\u001b[0m\n",
      "\u001b[34m#015  0%|          | 0/62 [00:00<?, ?it/s]#033[A\u001b[0m\n",
      "\u001b[34m#015  3%|▎         | 2/62 [00:00<00:08,  6.82it/s]#033[A\u001b[0m\n",
      "\u001b[34m#015  5%|▍         | 3/62 [00:00<00:11,  5.18it/s]#033[A\u001b[0m\n",
      "\u001b[34m#015  6%|▋         | 4/62 [00:00<00:13,  4.43it/s]#033[A\u001b[0m\n",
      "\u001b[34m#015  8%|▊         | 5/62 [00:01<00:14,  4.02it/s]#033[A\u001b[0m\n",
      "\u001b[34m#015 10%|▉         | 6/62 [00:01<00:14,  3.78it/s]#033[A\u001b[0m\n",
      "\u001b[34m#015 11%|█▏        | 7/62 [00:01<00:15,  3.63it/s]#033[A\u001b[0m\n",
      "\u001b[34m#015 13%|█▎        | 8/62 [00:02<00:15,  3.52it/s]#033[A\u001b[0m\n",
      "\u001b[34m#015 15%|█▍        | 9/62 [00:02<00:15,  3.46it/s]#033[A\u001b[0m\n",
      "\u001b[34m#015 16%|█▌        | 10/62 [00:02<00:15,  3.42it/s]#033[A\u001b[0m\n",
      "\u001b[34m#015 18%|█▊        | 11/62 [00:03<00:15,  3.39it/s]#033[A\u001b[0m\n",
      "\u001b[34m#015 19%|█▉        | 12/62 [00:03<00:14,  3.36it/s]#033[A\u001b[0m\n",
      "\u001b[34m#015 21%|██        | 13/62 [00:03<00:14,  3.34it/s]#033[A\u001b[0m\n",
      "\u001b[34m#015 23%|██▎       | 14/62 [00:03<00:14,  3.34it/s]#033[A\u001b[0m\n",
      "\u001b[34m#015 24%|██▍       | 15/62 [00:04<00:14,  3.32it/s]#033[A\u001b[0m\n",
      "\u001b[34m#015 26%|██▌       | 16/62 [00:04<00:13,  3.33it/s]#033[A\u001b[0m\n",
      "\u001b[34m#015 27%|██▋       | 17/62 [00:04<00:13,  3.32it/s]#033[A\u001b[0m\n",
      "\u001b[34m#015 29%|██▉       | 18/62 [00:05<00:13,  3.32it/s]#033[A\u001b[0m\n",
      "\u001b[34m#015 31%|███       | 19/62 [00:05<00:12,  3.32it/s]#033[A\u001b[0m\n",
      "\u001b[34m#015 32%|███▏      | 20/62 [00:05<00:12,  3.32it/s]#033[A\u001b[0m\n",
      "\u001b[34m#015 34%|███▍      | 21/62 [00:06<00:12,  3.32it/s]#033[A\u001b[0m\n",
      "\u001b[34m#015 35%|███▌      | 22/62 [00:06<00:12,  3.30it/s]#033[A\u001b[0m\n",
      "\u001b[34m#015 37%|███▋      | 23/62 [00:06<00:11,  3.30it/s]#033[A\u001b[0m\n",
      "\u001b[34m#015 39%|███▊      | 24/62 [00:06<00:12,  3.16it/s]#033[A\u001b[0m\n",
      "\u001b[34m#015 40%|████      | 25/62 [00:07<00:11,  3.35it/s]#033[A\u001b[0m\n",
      "\u001b[34m#015 42%|████▏     | 26/62 [00:07<00:10,  3.34it/s]#033[A\u001b[0m\n",
      "\u001b[34m2021-06-16 08:27:19,198 sagemaker-training-toolkit INFO     Reporting training SUCCESS\u001b[0m\n",
      "\u001b[34m#015 44%|████▎     | 27/62 [00:07<00:10,  3.33it/s]#033[A\u001b[0m\n",
      "\u001b[34m#015 45%|████▌     | 28/62 [00:08<00:10,  3.32it/s]#033[A\u001b[0m\n",
      "\u001b[34m#015 47%|████▋     | 29/62 [00:08<00:09,  3.32it/s]#033[A\u001b[0m\n",
      "\u001b[34m#015 48%|████▊     | 30/62 [00:08<00:09,  3.32it/s]#033[A\u001b[0m\n",
      "\u001b[34m#015 50%|█████     | 31/62 [00:09<00:09,  3.32it/s]#033[A\u001b[0m\n",
      "\u001b[34m#015 52%|█████▏    | 32/62 [00:09<00:09,  3.32it/s]#033[A\u001b[0m\n",
      "\u001b[34m#015 53%|█████▎    | 33/62 [00:09<00:08,  3.31it/s]#033[A\u001b[0m\n",
      "\u001b[34m#015 55%|█████▍    | 34/62 [00:09<00:08,  3.30it/s]#033[A\u001b[0m\n",
      "\u001b[34m#015 56%|█████▋    | 35/62 [00:10<00:08,  3.31it/s]#033[A\u001b[0m\n",
      "\u001b[34m#015 58%|█████▊    | 36/62 [00:10<00:07,  3.31it/s]#033[A\u001b[0m\n",
      "\u001b[34m#015 60%|█████▉    | 37/62 [00:10<00:07,  3.30it/s]#033[A\u001b[0m\n",
      "\u001b[34m#015 61%|██████▏   | 38/62 [00:11<00:07,  3.30it/s]#033[A\u001b[0m\n",
      "\u001b[34m#015 63%|██████▎   | 39/62 [00:11<00:06,  3.31it/s]#033[A\u001b[0m\n",
      "\u001b[34m#015 65%|██████▍   | 40/62 [00:11<00:06,  3.31it/s]#033[A\u001b[0m\n",
      "\u001b[34m#015 66%|██████▌   | 41/62 [00:12<00:06,  3.31it/s]#033[A\u001b[0m\n",
      "\u001b[34m#015 68%|██████▊   | 42/62 [00:12<00:06,  3.31it/s]#033[A\u001b[0m\n",
      "\u001b[34m#015 69%|██████▉   | 43/62 [00:12<00:05,  3.31it/s]#033[A\u001b[0m\n",
      "\u001b[34m#015 71%|███████   | 44/62 [00:12<00:05,  3.31it/s]#033[A\u001b[0m\n",
      "\u001b[34m#015 73%|███████▎  | 45/62 [00:13<00:05,  3.31it/s]#033[A\u001b[0m\n",
      "\u001b[34m#015 74%|███████▍  | 46/62 [00:13<00:04,  3.31it/s]#033[A\u001b[0m\n",
      "\u001b[34m#015 76%|███████▌  | 47/62 [00:13<00:04,  3.31it/s]#033[A\u001b[0m\n",
      "\u001b[34m#015 77%|███████▋  | 48/62 [00:14<00:04,  3.31it/s]#033[A\u001b[0m\n",
      "\u001b[34m#015 79%|███████▉  | 49/62 [00:14<00:03,  3.32it/s]#033[A\u001b[0m\n",
      "\u001b[34m#015 81%|████████  | 50/62 [00:14<00:03,  3.30it/s]#033[A\u001b[0m\n",
      "\u001b[34m#015 82%|████████▏ | 51/62 [00:15<00:03,  3.32it/s]#033[A\u001b[0m\n",
      "\u001b[34m#015 84%|████████▍ | 52/62 [00:15<00:03,  3.32it/s]#033[A\u001b[0m\n",
      "\u001b[34m#015 85%|████████▌ | 53/62 [00:15<00:02,  3.31it/s]#033[A\u001b[0m\n",
      "\u001b[34m#015 87%|████████▋ | 54/62 [00:15<00:02,  3.32it/s]#033[A\u001b[0m\n",
      "\u001b[34m#015 89%|████████▊ | 55/62 [00:16<00:02,  3.31it/s]#033[A\u001b[0m\n",
      "\u001b[34m#015 90%|█████████ | 56/62 [00:16<00:01,  3.32it/s]#033[A\u001b[0m\n",
      "\u001b[34m#015 92%|█████████▏| 57/62 [00:16<00:01,  3.32it/s]#033[A\u001b[0m\n",
      "\u001b[34m#015 94%|█████████▎| 58/62 [00:17<00:01,  3.16it/s]#033[A\u001b[0m\n",
      "\u001b[34m#015 95%|█████████▌| 59/62 [00:17<00:00,  3.33it/s]#033[A\u001b[0m\n",
      "\u001b[34m#015 97%|█████████▋| 60/62 [00:17<00:00,  3.33it/s]#033[A\u001b[0m\n",
      "\u001b[34m#015 98%|█████████▊| 61/62 [00:18<00:00,  3.33it/s]#033[A\u001b[0m\n",
      "\u001b[34m#015100%|██████████| 62/62 [00:18<00:00,  3.33it/s]#033[A#015                                                   #015\u001b[0m\n",
      "\u001b[34m#015                                               #015#033[A#015100%|██████████| 1105/1105 [11:10<00:00,  1.99it/s]\u001b[0m\n",
      "\u001b[34m#015100%|██████████| 62/62 [00:18<00:00,  3.33it/s]#033[A\u001b[0m\n",
      "\u001b[34m#015                                               #033[A#015                                                   #015#015100%|██████████| 1105/1105 [11:10<00:00,  1.99it/s]#015100%|██████████| 1105/1105 [11:10<00:00,  1.65it/s]\u001b[0m\n",
      "\u001b[34m#015  0%|          | 0/62 [00:00<?, ?it/s]#015  3%|▎         | 2/62 [00:00<00:08,  6.96it/s]#015  5%|▍         | 3/62 [00:00<00:11,  5.26it/s]#015  6%|▋         | 4/62 [00:00<00:12,  4.48it/s]#015  8%|▊         | 5/62 [00:01<00:14,  4.06it/s]#015 10%|▉         | 6/62 [00:01<00:14,  3.82it/s]#015 11%|█▏        | 7/62 [00:01<00:15,  3.66it/s]#015 13%|█▎        | 8/62 [00:02<00:15,  3.56it/s]#015 15%|█▍        | 9/62 [00:02<00:15,  3.49it/s]#015 16%|█▌        | 10/62 [00:02<00:15,  3.45it/s]#015 18%|█▊        | 11/62 [00:02<00:14,  3.41it/s]#015 19%|█▉        | 12/62 [00:03<00:14,  3.35it/s]#015 21%|██        | 13/62 [00:03<00:14,  3.38it/s]#015 23%|██▎       | 14/62 [00:03<00:14,  3.37it/s]#015 24%|██▍       | 15/62 [00:04<00:13,  3.36it/s]#015 26%|██▌       | 16/62 [00:04<00:13,  3.36it/s]#015 27%|██▋       | 17/62 [00:04<00:13,  3.36it/s]#015 29%|██▉       | 18/62 [00:05<00:13,  3.34it/s]#015 31%|███       | 19/62 [00:05<00:12,  3.33it/s]#015 32%|███▏      | 20/62 [00:05<00:12,  3.32it/s]#015 34%|███▍      | 21/62 [00:05<00:12,  3.33it/s]#015 35%|███▌      | 22/62 [00:06<00:11,  3.34it/s]#015 37%|███▋      | 23/62 [00:06<00:11,  3.33it/s]#015 39%|███▊      | 24/62 [00:06<00:11,  3.33it/s]#015 40%|████      | 25/62 [00:07<00:11,  3.33it/s]#015 42%|████▏     | 26/62 [00:07<00:10,  3.32it/s]#015 44%|████▎     | 27/62 [00:07<00:10,  3.33it/s]#015 45%|████▌     | 28/62 [00:08<00:10,  3.32it/s]#015 47%|████▋     | 29/62 [00:08<00:09,  3.33it/s]#015 48%|████▊     | 30/62 [00:08<00:09,  3.33it/s]#015 50%|█████     | 31/62 [00:08<00:09,  3.34it/s]#015 52%|█████▏    | 32/62 [00:09<00:09,  3.32it/s]#015 53%|█████▎    | 33/62 [00:09<00:08,  3.35it/s]#015 55%|█████▍    | 34/62 [00:09<00:08,  3.35it/s]#015 56%|█████▋    | 35/62 [00:10<00:08,  3.35it/s]#015 58%|█████▊    | 36/62 [00:10<00:07,  3.35it/s]#015 60%|█████▉    | 37/62 [00:10<00:07,  3.34it/s]#015 61%|██████▏   | 38/62 [00:11<00:07,  3.34it/s]#015 63%|██████▎   | 39/62 [00:11<00:07,  3.15it/s]#015 65%|██████▍   | 40/62 [00:11<00:06,  3.21it/s]#015 66%|██████▌   | 41/62 [00:12<00:06,  3.24it/s]#015 68%|██████▊   | 42/62 [00:12<00:06,  3.27it/s]#015 69%|██████▉   | 43/62 [00:12<00:05,  3.30it/s]#015 71%|███████   | 44/62 [00:12<00:05,  3.31it/s]#015 73%|███████▎  | 45/62 [00:13<00:05,  3.32it/s]#015 74%|███████▍  | 46/62 [00:13<00:04,  3.33it/s]#015 76%|███████▌  | 47/62 [00:13<00:04,  3.33it/s]#015 77%|███████▋  | 48/62 [00:14<00:04,  3.33it/s]#015 79%|███████▉  | 49/62 [00:14<00:03,  3.34it/s]#015 81%|████████  | 50/62 [00:14<00:03,  3.35it/s]#015 82%|████████▏ | 51/62 [00:15<00:03,  3.35it/s]#015 84%|████████▍ | 52/62 [00:15<00:02,  3.34it/s]#015 85%|████████▌ | 53/62 [00:15<00:02,  3.35it/s]#015 87%|████████▋ | 54/62 [00:15<00:02,  3.35it/s]#015 89%|████████▊ | 55/62 [00:16<00:02,  3.35it/s]#015 90%|█████████ | 56/62 [00:16<00:01,  3.35it/s]#015 92%|█████████▏| 57/62 [00:16<00:01,  3.34it/s]#015 94%|█████████▎| 58/62 [00:17<00:01,  3.34it/s]#015 95%|█████████▌| 59/62 [00:17<00:00,  3.34it/s]#015 97%|█████████▋| 60/62 [00:17<00:00,  3.34it/s]#015 98%|█████████▊| 61/62 [00:18<00:00,  3.34it/s]#015100%|██████████| 62/62 [00:18<00:00,  3.34it/s]#015100%|██████████| 62/62 [00:18<00:00,  3.38it/s]\n",
      "\u001b[0m\n",
      "\n",
      "2021-06-16 08:27:35 Uploading - Uploading generated training model\n",
      "2021-06-16 08:27:59 Completed - Training job completed\n",
      "Training seconds: 906\n",
      "Billable seconds: 906\n"
     ]
    }
   ],
   "source": [
    "huggingface_estimator.fit({'train': train_input_path, 'valid': valid_input_path})"
   ]
  },
  {
   "cell_type": "code",
   "execution_count": 8,
   "metadata": {},
   "outputs": [
    {
     "data": {
      "text/plain": [
       "'s3://sagemaker-eu-west-1-613904931467/huggingface-pytorch-training-2021-06-16-08-09-27-826/output/model.tar.gz'"
      ]
     },
     "execution_count": 8,
     "metadata": {},
     "output_type": "execute_result"
    }
   ],
   "source": [
    "huggingface_estimator.model_data"
   ]
  },
  {
   "cell_type": "markdown",
   "metadata": {},
   "source": [
    "# Retrieve model"
   ]
  },
  {
   "cell_type": "code",
   "execution_count": 9,
   "metadata": {},
   "outputs": [
    {
     "name": "stdout",
     "output_type": "stream",
     "text": [
      "download: s3://sagemaker-eu-west-1-613904931467/huggingface-pytorch-training-2021-06-16-08-09-27-826/output/model.tar.gz to ./model.tar.gz\n",
      "training_args.bin\n",
      "config.json\n",
      "pytorch_model.bin\n"
     ]
    }
   ],
   "source": [
    "%%sh -s $huggingface_estimator.model_data\n",
    "aws s3 cp $1 .\n",
    "mkdir -p model\n",
    "tar -xvzf model.tar.gz -C model"
   ]
  },
  {
   "cell_type": "markdown",
   "metadata": {},
   "source": [
    "## Deploy the Hugging Face model with PyTorch on SageMaker"
   ]
  },
  {
   "cell_type": "code",
   "execution_count": 19,
   "metadata": {},
   "outputs": [
    {
     "name": "stdout",
     "output_type": "stream",
     "text": [
      "\u001b[34mimport\u001b[39;49;00m \u001b[04m\u001b[36mjson\u001b[39;49;00m\n",
      "\u001b[34mimport\u001b[39;49;00m \u001b[04m\u001b[36mtorch\u001b[39;49;00m\n",
      "\u001b[34mfrom\u001b[39;49;00m \u001b[04m\u001b[36mtransformers\u001b[39;49;00m \u001b[34mimport\u001b[39;49;00m AutoConfig, AutoTokenizer, DistilBertForSequenceClassification\n",
      "\n",
      "JSON_CONTENT_TYPE = \u001b[33m'\u001b[39;49;00m\u001b[33mapplication/json\u001b[39;49;00m\u001b[33m'\u001b[39;49;00m\n",
      "CLASS_NAMES = [\u001b[33m'\u001b[39;49;00m\u001b[33mnegative\u001b[39;49;00m\u001b[33m'\u001b[39;49;00m, \u001b[33m'\u001b[39;49;00m\u001b[33mpositive\u001b[39;49;00m\u001b[33m'\u001b[39;49;00m]\n",
      "\n",
      "\u001b[34mdef\u001b[39;49;00m \u001b[32mmodel_fn\u001b[39;49;00m(model_dir):\n",
      "    config_path = \u001b[33m'\u001b[39;49;00m\u001b[33m{}\u001b[39;49;00m\u001b[33m/config.json\u001b[39;49;00m\u001b[33m'\u001b[39;49;00m.format(model_dir)\n",
      "    model_path =  \u001b[33m'\u001b[39;49;00m\u001b[33m{}\u001b[39;49;00m\u001b[33m/pytorch_model.bin\u001b[39;49;00m\u001b[33m'\u001b[39;49;00m.format(model_dir)\n",
      "    config = AutoConfig.from_pretrained(config_path)\n",
      "    model = DistilBertForSequenceClassification.from_pretrained(model_path, config=config)\n",
      "    \u001b[36mprint\u001b[39;49;00m(config)\n",
      "    \u001b[34mreturn\u001b[39;49;00m model\n",
      "\n",
      "tokenizer = AutoTokenizer.from_pretrained(\u001b[33m'\u001b[39;49;00m\u001b[33mdistilbert-base-uncased\u001b[39;49;00m\u001b[33m'\u001b[39;49;00m)\n",
      "\n",
      "\u001b[34mdef\u001b[39;49;00m \u001b[32mpredict_fn\u001b[39;49;00m(input_data, model):\n",
      "    inputs = tokenizer(input_data[\u001b[33m'\u001b[39;49;00m\u001b[33mtext\u001b[39;49;00m\u001b[33m'\u001b[39;49;00m], return_tensors=\u001b[33m'\u001b[39;49;00m\u001b[33mpt\u001b[39;49;00m\u001b[33m'\u001b[39;49;00m)\n",
      "    outputs = model(**inputs)\n",
      "    logits = outputs.logits\n",
      "    _, prediction = torch.max(logits, dim=\u001b[34m1\u001b[39;49;00m)\n",
      "    \u001b[34mreturn\u001b[39;49;00m CLASS_NAMES[prediction]\n",
      "\n",
      "\u001b[34mdef\u001b[39;49;00m \u001b[32minput_fn\u001b[39;49;00m(serialized_input_data, content_type=JSON_CONTENT_TYPE):  \n",
      "    \u001b[34mif\u001b[39;49;00m content_type == JSON_CONTENT_TYPE:\n",
      "        input_data = json.loads(serialized_input_data)\n",
      "        \u001b[34mreturn\u001b[39;49;00m input_data\n",
      "    \u001b[34melse\u001b[39;49;00m:\n",
      "        \u001b[34mraise\u001b[39;49;00m \u001b[36mException\u001b[39;49;00m(\u001b[33m'\u001b[39;49;00m\u001b[33mUnsupported input type: \u001b[39;49;00m\u001b[33m'\u001b[39;49;00m + content_type)\n",
      "\n",
      "\u001b[34mdef\u001b[39;49;00m \u001b[32moutput_fn\u001b[39;49;00m(prediction_output, accept=JSON_CONTENT_TYPE):\n",
      "    \u001b[34mif\u001b[39;49;00m accept == JSON_CONTENT_TYPE:\n",
      "        \u001b[34mreturn\u001b[39;49;00m json.dumps(prediction_output), accept\n",
      "    \u001b[34melse\u001b[39;49;00m:\n",
      "        \u001b[34mraise\u001b[39;49;00m \u001b[36mException\u001b[39;49;00m(\u001b[33m'\u001b[39;49;00m\u001b[33mUnsupported output type: \u001b[39;49;00m\u001b[33m'\u001b[39;49;00m + accept)\n"
     ]
    }
   ],
   "source": [
    "!pygmentize src/torchserve-predictor.py"
   ]
  },
  {
   "cell_type": "code",
   "execution_count": 20,
   "metadata": {},
   "outputs": [],
   "source": [
    "from sagemaker.pytorch import PyTorchModel\n",
    "\n",
    "model = PyTorchModel(\n",
    "    model_data=huggingface_estimator.model_data,\n",
    "    role=sagemaker.get_execution_role(), \n",
    "    entry_point='torchserve-predictor.py',\n",
    "    source_dir='src',\n",
    "    framework_version='1.6.0',\n",
    "    py_version='py36')"
   ]
  },
  {
   "cell_type": "code",
   "execution_count": 21,
   "metadata": {},
   "outputs": [
    {
     "name": "stderr",
     "output_type": "stream",
     "text": [
      "INFO:sagemaker:Creating model with name: pytorch-inference-2021-06-16-08-33-12-939\n",
      "INFO:sagemaker:Creating endpoint with name pytorch-inference-2021-06-16-08-33-13-259\n"
     ]
    },
    {
     "name": "stdout",
     "output_type": "stream",
     "text": [
      "-------------!"
     ]
    }
   ],
   "source": [
    "predictor = model.deploy(\n",
    "    initial_instance_count=1,\n",
    "    instance_type='ml.m5.xlarge')"
   ]
  },
  {
   "cell_type": "code",
   "execution_count": 22,
   "metadata": {},
   "outputs": [],
   "source": [
    "test_data = {'text': \"This is a very nice camera, I'm super happy with it.\"}"
   ]
  },
  {
   "cell_type": "code",
   "execution_count": 25,
   "metadata": {},
   "outputs": [
    {
     "name": "stdout",
     "output_type": "stream",
     "text": [
      "positive\n"
     ]
    }
   ],
   "source": [
    "predictor.serializer = sagemaker.serializers.JSONSerializer()\n",
    "predictor.deserializer = sagemaker.deserializers.JSONDeserializer()\n",
    "\n",
    "prediction = predictor.predict(test_data)\n",
    "\n",
    "print(prediction)"
   ]
  },
  {
   "cell_type": "code",
   "execution_count": 26,
   "metadata": {},
   "outputs": [],
   "source": [
    "test_data = {'text': \"Terrible purchase, I want my money back!\"}"
   ]
  },
  {
   "cell_type": "code",
   "execution_count": 27,
   "metadata": {},
   "outputs": [
    {
     "name": "stdout",
     "output_type": "stream",
     "text": [
      "negative\n"
     ]
    }
   ],
   "source": [
    "prediction = predictor.predict(test_data)\n",
    "print(prediction)"
   ]
  },
  {
   "cell_type": "code",
   "execution_count": null,
   "metadata": {},
   "outputs": [],
   "source": [
    "#predictor.delete_endpoint()"
   ]
  },
  {
   "cell_type": "code",
   "execution_count": null,
   "metadata": {},
   "outputs": [],
   "source": []
  }
 ],
 "metadata": {
  "instance_type": "ml.c5.large",
  "kernelspec": {
   "display_name": "Python 3 (PyTorch 1.6 Python 3.6 CPU Optimized)",
   "language": "python",
   "name": "python3__SAGEMAKER_INTERNAL__arn:aws:sagemaker:eu-west-1:470317259841:image/pytorch-1.6-cpu-py36-ubuntu16.04-v1"
  },
  "language_info": {
   "codemirror_mode": {
    "name": "ipython",
    "version": 3
   },
   "file_extension": ".py",
   "mimetype": "text/x-python",
   "name": "python",
   "nbconvert_exporter": "python",
   "pygments_lexer": "ipython3",
   "version": "3.6.13"
  }
 },
 "nbformat": 4,
 "nbformat_minor": 4
}
