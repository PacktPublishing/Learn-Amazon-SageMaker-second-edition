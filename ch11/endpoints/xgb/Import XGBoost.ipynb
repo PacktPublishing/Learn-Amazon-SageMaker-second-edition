{
 "cells": [
  {
   "cell_type": "markdown",
   "metadata": {},
   "source": [
    "# Import an XGBoost model to SageMaker"
   ]
  },
  {
   "cell_type": "code",
   "execution_count": null,
   "metadata": {},
   "outputs": [],
   "source": [
    "%%sh\n",
    "wget -N https://sagemaker-sample-data-us-west-2.s3-us-west-2.amazonaws.com/autopilot/direct_marketing/bank-additional.zip\n",
    "unzip -o bank-additional.zip"
   ]
  },
  {
   "cell_type": "code",
   "execution_count": null,
   "metadata": {},
   "outputs": [],
   "source": [
    "!pip install -q xgboost==1.3.1\n",
    "\n",
    "# Check which XGBoost versions are supported by SageMaker"
   ]
  },
  {
   "cell_type": "markdown",
   "metadata": {},
   "source": [
    "### Train a model locally"
   ]
  },
  {
   "cell_type": "code",
   "execution_count": null,
   "metadata": {},
   "outputs": [],
   "source": [
    "import pandas as pd\n",
    "import numpy as np\n",
    "from sklearn.model_selection import train_test_split\n",
    "\n",
    "data = pd.read_csv('./bank-additional/bank-additional-full.csv')\n",
    "\n",
    "# One-hot encode\n",
    "data = pd.get_dummies(data)\n",
    "\n",
    "# Move labels to first column, which is what XGBoost expects\n",
    "data = data.drop(['y_no'], axis=1)\n",
    "data = pd.concat([data['y_yes'], data.drop(['y_yes'], axis=1)], axis=1)\n",
    "\n",
    "# Shuffle and split into training and validation (95%/5%)\n",
    "data = data.sample(frac=1, random_state=123)\n",
    "train_data, val_data = train_test_split(data, test_size=0.05)"
   ]
  },
  {
   "cell_type": "code",
   "execution_count": null,
   "metadata": {},
   "outputs": [],
   "source": [
    "x_train = train_data.drop(['y_yes'], axis=1)\n",
    "y_train = train_data['y_yes']\n",
    "\n",
    "x_val = val_data.drop(['y_yes'], axis=1)\n",
    "y_val = val_data['y_yes']"
   ]
  },
  {
   "cell_type": "code",
   "execution_count": null,
   "metadata": {},
   "outputs": [],
   "source": [
    "import xgboost as xgb\n",
    "\n",
    "print('XGBoost', xgb.__version__)\n",
    "\n",
    "cls = xgb.XGBClassifier(\n",
    "    objective='binary:logistic',\n",
    "    eval_metric='auc',\n",
    "    max_depth=5)\n",
    "\n",
    "cls.fit(x_train, \n",
    "        y_train,\n",
    "        eval_set=[(x_val, y_val)],\n",
    "        early_stopping_rounds=10)"
   ]
  },
  {
   "cell_type": "code",
   "execution_count": null,
   "metadata": {},
   "outputs": [],
   "source": [
    "prefix = 'export-xgboost'"
   ]
  },
  {
   "cell_type": "code",
   "execution_count": null,
   "metadata": {},
   "outputs": [],
   "source": [
    "%%sh -s $prefix\n",
    "mkdir -p $1"
   ]
  },
  {
   "cell_type": "code",
   "execution_count": null,
   "metadata": {},
   "outputs": [],
   "source": [
    "cls.save_model(prefix+'/xgboost-model')\n",
    "# See https://xgboost.readthedocs.io/en/latest/tutorials/saving_model.html"
   ]
  },
  {
   "cell_type": "markdown",
   "metadata": {},
   "source": [
    "### Package model for SageMaker"
   ]
  },
  {
   "cell_type": "code",
   "execution_count": null,
   "metadata": {},
   "outputs": [],
   "source": [
    "import sagemaker\n",
    "\n",
    "sess = sagemaker.Session()\n",
    "bucket = sess.default_bucket()\n",
    "\n",
    "print(bucket)"
   ]
  },
  {
   "cell_type": "code",
   "execution_count": null,
   "metadata": {},
   "outputs": [],
   "source": [
    "%%sh -s $prefix\n",
    "cd $1\n",
    "tar cvfz model-xgb.tar.gz xgboost-model"
   ]
  },
  {
   "cell_type": "code",
   "execution_count": null,
   "metadata": {},
   "outputs": [],
   "source": [
    "model_path = sess.upload_data(path=prefix+'/model-xgb.tar.gz', key_prefix=prefix)\n",
    "\n",
    "print(model_path)"
   ]
  },
  {
   "cell_type": "markdown",
   "metadata": {},
   "source": [
    "### Deploy model on SageMaker"
   ]
  },
  {
   "cell_type": "code",
   "execution_count": null,
   "metadata": {},
   "outputs": [],
   "source": [
    "from sagemaker.xgboost.model import XGBoostModel\n",
    "\n",
    "xgb_model = XGBoostModel(\n",
    "    model_data=model_path,\n",
    "    entry_point='xgb-script.py',\n",
    "    framework_version='1.3-1',\n",
    "    role=sagemaker.get_execution_role())"
   ]
  },
  {
   "cell_type": "code",
   "execution_count": null,
   "metadata": {},
   "outputs": [],
   "source": [
    "from time import strftime,gmtime\n",
    "\n",
    "xgb_endpoint_name = 'xgb-{}-{}'.format(prefix, strftime(\"%Y-%m-%d-%H-%M-%S\", gmtime()))\n",
    "\n",
    "xgb_predictor = xgb_model.deploy(\n",
    "                     endpoint_name=xgb_endpoint_name,\n",
    "                     initial_instance_count=1, \n",
    "                     instance_type='ml.t2.medium')\n",
    "\n",
    "print(xgb_endpoint_name)"
   ]
  },
  {
   "cell_type": "markdown",
   "metadata": {},
   "source": [
    "### Predict with model"
   ]
  },
  {
   "cell_type": "code",
   "execution_count": null,
   "metadata": {},
   "outputs": [],
   "source": [
    "# Load some samples, drop labels, and one-hot encode\n",
    "payload = val_data[:10].drop(['y_yes'], axis=1)\n",
    "payload = payload.to_csv(header=False, index=False).rstrip('\\n')\n",
    "\n",
    "print(payload)"
   ]
  },
  {
   "cell_type": "code",
   "execution_count": null,
   "metadata": {},
   "outputs": [],
   "source": [
    "xgb_predictor.serializer = sagemaker.serializers.CSVSerializer()\n",
    "xgb_predictor.deserializer = sagemaker.deserializers.CSVDeserializer()\n",
    "\n",
    "response = xgb_predictor.predict(payload)\n",
    "\n",
    "print(response)"
   ]
  },
  {
   "cell_type": "code",
   "execution_count": null,
   "metadata": {},
   "outputs": [],
   "source": [
    "xgb_predictor.delete_endpoint()"
   ]
  },
  {
   "cell_type": "code",
   "execution_count": null,
   "metadata": {},
   "outputs": [],
   "source": []
  }
 ],
 "metadata": {
  "instance_type": "ml.t3.medium",
  "kernelspec": {
   "display_name": "Python 3 (Data Science)",
   "language": "python",
   "name": "python3__SAGEMAKER_INTERNAL__arn:aws:sagemaker:eu-west-1:470317259841:image/datascience-1.0"
  },
  "language_info": {
   "codemirror_mode": {
    "name": "ipython",
    "version": 3
   },
   "file_extension": ".py",
   "mimetype": "text/x-python",
   "name": "python",
   "nbconvert_exporter": "python",
   "pygments_lexer": "ipython3",
   "version": "3.7.10"
  }
 },
 "nbformat": 4,
 "nbformat_minor": 4
}
