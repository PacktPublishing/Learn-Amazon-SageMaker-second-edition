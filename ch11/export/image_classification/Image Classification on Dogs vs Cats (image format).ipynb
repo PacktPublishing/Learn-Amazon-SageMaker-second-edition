{
 "cells": [
  {
   "cell_type": "code",
   "execution_count": null,
   "metadata": {},
   "outputs": [],
   "source": [
    "import sagemaker\n",
    "\n",
    "print(sagemaker.__version__)\n",
    "\n",
    "sess = sagemaker.Session()\n",
    "bucket = sess.default_bucket()"
   ]
  },
  {
   "cell_type": "code",
   "execution_count": null,
   "metadata": {},
   "outputs": [],
   "source": [
    "print(bucket)"
   ]
  },
  {
   "cell_type": "code",
   "execution_count": null,
   "metadata": {},
   "outputs": [],
   "source": [
    "prefix = 'dogscats-images'\n",
    "\n",
    "s3_train_path = 's3://{}/{}/input/train/'.format(bucket, prefix)\n",
    "s3_val_path = 's3://{}/{}/input/val/'.format(bucket, prefix)\n",
    "s3_train_lst_path = 's3://{}/{}/input/train_lst/'.format(bucket, prefix)\n",
    "s3_val_lst_path = 's3://{}/{}/input/val_lst/'.format(bucket, prefix)\n",
    "\n",
    "s3_output = 's3://{}/{}/output/'.format(bucket, prefix)\n",
    "\n",
    "print(s3_train_path)\n",
    "print(s3_val_path)\n",
    "print(s3_train_lst_path)\n",
    "print(s3_val_lst_path)\n",
    "print(s3_output)"
   ]
  },
  {
   "cell_type": "markdown",
   "metadata": {},
   "source": [
    "### Get the name of the image classification algorithm in our region"
   ]
  },
  {
   "cell_type": "code",
   "execution_count": null,
   "metadata": {},
   "outputs": [],
   "source": [
    "from sagemaker.image_uris import retrieve\n",
    "\n",
    "region = sess.boto_session.region_name    \n",
    "container = retrieve('image-classification', region)\n",
    "print(container)"
   ]
  },
  {
   "cell_type": "markdown",
   "metadata": {},
   "source": [
    "### Configure the training job"
   ]
  },
  {
   "cell_type": "code",
   "execution_count": null,
   "metadata": {},
   "outputs": [],
   "source": [
    "ic = sagemaker.estimator.Estimator(\n",
    "    container,\n",
    "    sagemaker.get_execution_role(), \n",
    "    instance_count=1, \n",
    "    instance_type='ml.p3.2xlarge',\n",
    "    output_path=s3_output)"
   ]
  },
  {
   "cell_type": "markdown",
   "metadata": {},
   "source": [
    "### Set algorithm parameters"
   ]
  },
  {
   "cell_type": "code",
   "execution_count": null,
   "metadata": {},
   "outputs": [],
   "source": [
    "ic.set_hyperparameters(\n",
    "    num_layers=18,               # Train a Resnet-18 model\n",
    "    use_pretrained_model=0,      # Train from scratch\n",
    "    num_classes=2,               # Dogs and cats\n",
    "    num_training_samples=22500,  # Number of training samples\n",
    "    mini_batch_size=128,\n",
    "    resize=224,\n",
    "    epochs=10)                   # Learn the training set 10 times"
   ]
  },
  {
   "cell_type": "markdown",
   "metadata": {},
   "source": [
    "### Set dataset parameters"
   ]
  },
  {
   "cell_type": "code",
   "execution_count": null,
   "metadata": {},
   "outputs": [],
   "source": [
    "from sagemaker import TrainingInput\n",
    "\n",
    "train_data = TrainingInput(\n",
    "    s3_train_path, \n",
    "    content_type='application/x-image')\n",
    "\n",
    "val_data = TrainingInput(\n",
    "    s3_val_path, \n",
    "    content_type='application/x-image')\n",
    "\n",
    "train_lst_data = TrainingInput(\n",
    "    s3_train_lst_path, \n",
    "    content_type='application/x-image')\n",
    "\n",
    "val_lst_data = TrainingInput(\n",
    "    s3_val_lst_path, \n",
    "    content_type='application/x-image')\n",
    "\n",
    "s3_channels = {'train': train_data, 'validation': val_data, \n",
    "               'train_lst': train_lst_data, 'validation_lst': val_lst_data}"
   ]
  },
  {
   "cell_type": "markdown",
   "metadata": {},
   "source": [
    "### Train the model"
   ]
  },
  {
   "cell_type": "code",
   "execution_count": null,
   "metadata": {},
   "outputs": [],
   "source": [
    "ic.fit(inputs=s3_channels)"
   ]
  },
  {
   "cell_type": "code",
   "execution_count": null,
   "metadata": {},
   "outputs": [],
   "source": [
    "%%bash -s $ic.model_data\n",
    "aws s3 cp $1 .\n",
    "tar xvfz model.tar.gz"
   ]
  },
  {
   "cell_type": "code",
   "execution_count": null,
   "metadata": {},
   "outputs": [],
   "source": [
    "import mxnet as mx\n",
    "import json\n",
    "from mxnet import gluon\n",
    "\n",
    "sym_json = json.load(open('image-classification-symbol.json'))\n",
    "sym_json_string = json.dumps(sym_json)\n",
    "\n",
    "net = gluon.nn.SymbolBlock(\n",
    "    outputs=mx.sym.load_json(sym_json_string),\n",
    "    inputs=mx.sym.var('data'))\n",
    "\n",
    "net.load_parameters(\n",
    "    'image-classification-0008.params',  \n",
    "    allow_missing=True)\n",
    "\n",
    "net.collect_params().initialize()"
   ]
  },
  {
   "cell_type": "code",
   "execution_count": null,
   "metadata": {},
   "outputs": [],
   "source": [
    "test_sample = mx.ndarray.random.normal(shape=(1,3,300,300))\n",
    "response = net(test_sample)\n",
    "\n",
    "print(response)"
   ]
  },
  {
   "cell_type": "code",
   "execution_count": null,
   "metadata": {},
   "outputs": [],
   "source": []
  },
  {
   "cell_type": "code",
   "execution_count": null,
   "metadata": {},
   "outputs": [],
   "source": []
  },
  {
   "cell_type": "code",
   "execution_count": null,
   "metadata": {},
   "outputs": [],
   "source": []
  }
 ],
 "metadata": {
  "instance_type": "ml.t3.medium",
  "kernelspec": {
   "display_name": "Python 3 (MXNet 1.6 Python 3.6 CPU Optimized)",
   "language": "python",
   "name": "python3__SAGEMAKER_INTERNAL__arn:aws:sagemaker:eu-west-1:470317259841:image/mxnet-1.6-cpu-py36"
  },
  "language_info": {
   "codemirror_mode": {
    "name": "ipython",
    "version": 3
   },
   "file_extension": ".py",
   "mimetype": "text/x-python",
   "name": "python",
   "nbconvert_exporter": "python",
   "pygments_lexer": "ipython3",
   "version": "3.6.13"
  }
 },
 "nbformat": 4,
 "nbformat_minor": 4
}
