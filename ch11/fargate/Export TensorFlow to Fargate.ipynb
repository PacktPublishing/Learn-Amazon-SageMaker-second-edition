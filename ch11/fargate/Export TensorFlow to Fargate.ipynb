{
 "cells": [
  {
   "cell_type": "code",
   "execution_count": null,
   "metadata": {},
   "outputs": [],
   "source": [
    "model_data = 's3://...'"
   ]
  },
  {
   "cell_type": "markdown",
   "metadata": {},
   "source": [
    "## Get model artefact and push it to Git repository"
   ]
  },
  {
   "cell_type": "code",
   "execution_count": null,
   "metadata": {},
   "outputs": [],
   "source": [
    "!git clone https://gitlab.com/juliensimon/test-models.git"
   ]
  },
  {
   "cell_type": "code",
   "execution_count": null,
   "metadata": {},
   "outputs": [],
   "source": [
    "%%sh -s $model_data\n",
    "aws s3 cp $1 .\n",
    "tar xvfz model.tar.gz -C test-models/model "
   ]
  },
  {
   "cell_type": "code",
   "execution_count": null,
   "metadata": {},
   "outputs": [],
   "source": [
    "# cd test-models\n",
    "# git add model\n",
    "# git commit -m 'New model'\n",
    "# git push"
   ]
  },
  {
   "cell_type": "markdown",
   "metadata": {},
   "source": [
    "## Install ecs-cli"
   ]
  },
  {
   "cell_type": "code",
   "execution_count": null,
   "metadata": {},
   "outputs": [],
   "source": [
    "%%sh\n",
    "curl -o /usr/local/bin/ecs-cli https://amazon-ecs-cli.s3.amazonaws.com/ecs-cli-linux-amd64-latest\n",
    "chmod 755 /usr/local/bin/ecs-cli"
   ]
  },
  {
   "cell_type": "markdown",
   "metadata": {},
   "source": [
    "## Create cluster"
   ]
  },
  {
   "cell_type": "code",
   "execution_count": null,
   "metadata": {},
   "outputs": [],
   "source": [
    "%%sh \n",
    "\n",
    "# Make sure your IAM role includes ecs:CreateCluster\n",
    "aws ecs create-cluster --cluster-name fargate-demo\n",
    "# ecs-cli : https://github.com/aws/amazon-ecs-cli\n",
    "ecs-cli configure --cluster fargate-demo --region eu-west-1"
   ]
  },
  {
   "cell_type": "code",
   "execution_count": null,
   "metadata": {},
   "outputs": [],
   "source": [
    "%%sh\n",
    "\n",
    "ecs-cli ps --desired-status RUNNING"
   ]
  },
  {
   "cell_type": "markdown",
   "metadata": {},
   "source": [
    "## Create log group"
   ]
  },
  {
   "cell_type": "code",
   "execution_count": null,
   "metadata": {},
   "outputs": [],
   "source": [
    "%%sh\n",
    "# You only need to do this once\n",
    "aws logs create-log-group --log-group-name awslogs-tf-ecs"
   ]
  },
  {
   "cell_type": "markdown",
   "metadata": {},
   "source": [
    "## Run inference task"
   ]
  },
  {
   "cell_type": "markdown",
   "metadata": {},
   "source": [
    "https://github.com/aws/deep-learning-containers/blob/master/available_images.md"
   ]
  },
  {
   "cell_type": "code",
   "execution_count": null,
   "metadata": {},
   "outputs": [],
   "source": [
    "%%sh\n",
    "\n",
    "# You only need to do this when you create and update the task definition\n",
    "aws ecs register-task-definition --cli-input-json file://inference-fargate-tf230-sagemaker.json"
   ]
  },
  {
   "cell_type": "code",
   "execution_count": null,
   "metadata": {},
   "outputs": [],
   "source": [
    "%%sh\n",
    "\n",
    "# Update these with your own settings\n",
    "\n",
    "# https://eu-west-1.console.aws.amazon.com/ec2/v2/home?region=eu-west-1#SecurityGroup:groupId=sg-0504d9aef33f34caf\n",
    "export SECURITY_GROUP_ID=sg-0504d9aef33f34caf # SSH + Tensorflow Serving ports\n",
    "\n",
    "# https://eu-west-1.console.aws.amazon.com/vpc/home?region=eu-west-1#SubnetDetails:subnetId=subnet-cbf5bdbc\n",
    "export SUBNET_ID=subnet-cbf5bdbc              # Any public subnet in your default VPC will do\n",
    "\n",
    "aws ecs run-task --cluster fargate-demo --task-definition inference-fargate-tf230:2 --count 1 \\\n",
    "    --launch-type FARGATE \\\n",
    "    --network-configuration \"awsvpcConfiguration={subnets=[$SUBNET_ID], \\\n",
    "                            securityGroups=[$SECURITY_GROUP_ID], \\\n",
    "                            assignPublicIp=ENABLED}\""
   ]
  },
  {
   "cell_type": "code",
   "execution_count": null,
   "metadata": {},
   "outputs": [],
   "source": [
    "%%sh\n",
    "\n",
    "ecs-cli ps --desired-status RUNNING"
   ]
  },
  {
   "cell_type": "markdown",
   "metadata": {},
   "source": [
    "## Predict"
   ]
  },
  {
   "cell_type": "code",
   "execution_count": null,
   "metadata": {},
   "outputs": [],
   "source": [
    "inference_task_ip = '52.213.221.109'\n",
    "inference_url = 'http://'+inference_task_ip+':8501/v1/models/1:predict'"
   ]
  },
  {
   "cell_type": "code",
   "execution_count": null,
   "metadata": {},
   "outputs": [],
   "source": [
    "!pip -q install keras"
   ]
  },
  {
   "cell_type": "code",
   "execution_count": null,
   "metadata": {},
   "outputs": [],
   "source": [
    "import keras\n",
    "import random\n",
    "from keras.datasets import fashion_mnist\n",
    "\n",
    "(x_train, y_train), (x_val, y_val) = fashion_mnist.load_data()"
   ]
  },
  {
   "cell_type": "code",
   "execution_count": null,
   "metadata": {},
   "outputs": [],
   "source": [
    "num_samples = 10\n",
    "indices = random.sample(range(x_val.shape[0] - 1), num_samples)\n",
    "images = x_val[indices]/255\n",
    "labels = y_val[indices]\n",
    "\n",
    "data = images.reshape(num_samples, 28, 28, 1)"
   ]
  },
  {
   "cell_type": "code",
   "execution_count": null,
   "metadata": {},
   "outputs": [],
   "source": [
    "import json, requests\n",
    "import numpy as np\n",
    "\n",
    "headers = {\"content-type\": \"application/json\"}\n",
    "data    = json.dumps({\"signature_name\": \"serving_default\", \"instances\": data.tolist()})\n",
    "\n",
    "json_response = requests.post(inference_url, data=data, headers=headers)\n",
    "\n",
    "predictions = json.loads(json_response.text)['predictions']\n",
    "#print(predictions)\n",
    "predictions = np.array(predictions).argmax(axis=1)\n",
    "\n",
    "print(\"Labels     : \", labels)\n",
    "print(\"Predictions: \", predictions)"
   ]
  },
  {
   "cell_type": "code",
   "execution_count": null,
   "metadata": {},
   "outputs": [],
   "source": [
    "%%sh\n",
    "#aws ecs stop-task --cluster fargate-demo --task arn:aws:ecs:eu-west-1:<TASK_ID>"
   ]
  },
  {
   "cell_type": "code",
   "execution_count": null,
   "metadata": {},
   "outputs": [],
   "source": [
    "%%sh\n",
    "#ecs-cli down -f --cluster fargate-demo "
   ]
  },
  {
   "cell_type": "code",
   "execution_count": null,
   "metadata": {},
   "outputs": [],
   "source": []
  }
 ],
 "metadata": {
  "instance_type": "ml.t3.medium",
  "kernelspec": {
   "display_name": "Python 3 (TensorFlow 2.3 Python 3.7 CPU Optimized)",
   "language": "python",
   "name": "python3__SAGEMAKER_INTERNAL__arn:aws:sagemaker:eu-west-1:470317259841:image/tensorflow-2.3-cpu-py37-ubuntu18.04-v1"
  },
  "language_info": {
   "codemirror_mode": {
    "name": "ipython",
    "version": 3
   },
   "file_extension": ".py",
   "mimetype": "text/x-python",
   "name": "python",
   "nbconvert_exporter": "python",
   "pygments_lexer": "ipython3",
   "version": "3.7.10"
  }
 },
 "nbformat": 4,
 "nbformat_minor": 4
}
