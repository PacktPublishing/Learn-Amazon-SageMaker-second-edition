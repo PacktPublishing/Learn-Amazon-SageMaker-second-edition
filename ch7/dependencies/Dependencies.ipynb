{
 "cells": [
  {
   "cell_type": "code",
   "execution_count": null,
   "metadata": {},
   "outputs": [],
   "source": [
    "%%sh\n",
    "pip -q install pandas scikit-learn joblib"
   ]
  },
  {
   "cell_type": "code",
   "execution_count": null,
   "metadata": {},
   "outputs": [],
   "source": [
    "import sagemaker\n",
    "\n",
    "print(sagemaker.__version__)\n",
    "\n",
    "sess   = sagemaker.Session()\n",
    "bucket = sess.default_bucket()                     \n",
    "prefix = 'sklearn-boston-housing-dep'"
   ]
  },
  {
   "cell_type": "code",
   "execution_count": null,
   "metadata": {},
   "outputs": [],
   "source": [
    "training_path = sess.upload_data(path='housing.csv', key_prefix=prefix + \"/training\")\n",
    "output_path   = 's3://{}/{}/output/'.format(bucket,prefix)\n",
    "\n",
    "print(training_path)\n",
    "print(output_path)"
   ]
  },
  {
   "cell_type": "markdown",
   "metadata": {},
   "source": [
    "# Adding source files for training"
   ]
  },
  {
   "cell_type": "code",
   "execution_count": null,
   "metadata": {},
   "outputs": [],
   "source": [
    "import sagemaker\n",
    "from sagemaker.sklearn import SKLearn\n",
    "\n",
    "sk = SKLearn(entry_point='sklearn-boston-housing.py',\n",
    "             framework_version='0.23-1',\n",
    "             source_dir='src',\n",
    "             role=sagemaker.get_execution_role(),\n",
    "             instance_count=1, \n",
    "             instance_type='ml.m5.large',\n",
    "             output_path=output_path,\n",
    "             hyperparameters={\n",
    "                  'normalize': True,\n",
    "                  'test-size': 0.1\n",
    "              }\n",
    ")\n",
    "\n",
    "sk.fit({'training':training_path})"
   ]
  },
  {
   "cell_type": "markdown",
   "metadata": {},
   "source": [
    "# Adding libraries for training"
   ]
  },
  {
   "cell_type": "code",
   "execution_count": null,
   "metadata": {},
   "outputs": [],
   "source": [
    "%%sh\n",
    "mkdir -p lib\n",
    "pip install -q -t lib joblib"
   ]
  },
  {
   "cell_type": "code",
   "execution_count": null,
   "metadata": {},
   "outputs": [],
   "source": [
    "import sagemaker\n",
    "from sagemaker.sklearn import SKLearn\n",
    "\n",
    "sk = SKLearn(entry_point='sklearn-boston-housing-joblib.py',\n",
    "             framework_version='0.23-1',\n",
    "             source_dir='src',\n",
    "             dependencies=['lib/joblib'],\n",
    "             role=sagemaker.get_execution_role(),\n",
    "             instance_count=1, \n",
    "             instance_type='ml.m5.large',\n",
    "             output_path=output_path,\n",
    "             hyperparameters={\n",
    "                  'normalize': True,\n",
    "                  'test-size': 0.1\n",
    "              }\n",
    ")\n",
    "\n",
    "sk.fit({'training':training_path})"
   ]
  },
  {
   "cell_type": "code",
   "execution_count": null,
   "metadata": {},
   "outputs": [],
   "source": [
    "sk_predictor = sk.deploy(initial_instance_count=1, \n",
    "                         instance_type='ml.t2.medium')"
   ]
  },
  {
   "cell_type": "code",
   "execution_count": null,
   "metadata": {},
   "outputs": [],
   "source": [
    "import pandas as pd\n",
    "\n",
    "data = pd.read_csv('housing.csv')\n",
    "payload = data[:10].drop(['medv'], axis=1) \n",
    "payload = payload.to_csv(header=False, index=False)\n",
    "\n",
    "sk_predictor.serializer = sagemaker.serializers.CSVSerializer()\n",
    "sk_predictor.deserializer = sagemaker.deserializers.CSVDeserializer()\n",
    "\n",
    "response = sk_predictor.predict(payload)\n",
    "print(response)"
   ]
  },
  {
   "cell_type": "code",
   "execution_count": null,
   "metadata": {},
   "outputs": [],
   "source": [
    "sk_predictor.delete_endpoint()"
   ]
  },
  {
   "cell_type": "code",
   "execution_count": null,
   "metadata": {},
   "outputs": [],
   "source": []
  }
 ],
 "metadata": {
  "instance_type": "ml.t3.medium",
  "kernelspec": {
   "display_name": "Python 3 (Data Science)",
   "language": "python",
   "name": "python3__SAGEMAKER_INTERNAL__arn:aws:sagemaker:ap-northeast-2:806072073708:image/datascience-1.0"
  },
  "language_info": {
   "codemirror_mode": {
    "name": "ipython",
    "version": 3
   },
   "file_extension": ".py",
   "mimetype": "text/x-python",
   "name": "python",
   "nbconvert_exporter": "python",
   "pygments_lexer": "ipython3",
   "version": "3.7.10"
  }
 },
 "nbformat": 4,
 "nbformat_minor": 4
}
