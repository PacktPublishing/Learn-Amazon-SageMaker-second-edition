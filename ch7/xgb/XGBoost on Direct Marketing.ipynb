{
 "cells": [
  {
   "cell_type": "code",
   "execution_count": null,
   "metadata": {},
   "outputs": [],
   "source": [
    "%%sh\n",
    "wget -N https://sagemaker-sample-data-us-west-2.s3-us-west-2.amazonaws.com/autopilot/direct_marketing/bank-additional.zip\n",
    "unzip -o bank-additional.zip"
   ]
  },
  {
   "cell_type": "code",
   "execution_count": null,
   "metadata": {},
   "outputs": [],
   "source": [
    "import sagemaker\n",
    "\n",
    "print(sagemaker.__version__)\n",
    "\n",
    "sess   = sagemaker.Session()\n",
    "bucket = sess.default_bucket()                     \n",
    "prefix = 'xgboost-direct-marketing'"
   ]
  },
  {
   "cell_type": "code",
   "execution_count": null,
   "metadata": {},
   "outputs": [],
   "source": [
    "import pandas as pd\n",
    "import numpy as np\n",
    "from sklearn.model_selection import train_test_split\n",
    "\n",
    "data = pd.read_csv('./bank-additional/bank-additional-full.csv')\n",
    "\n",
    "# One-hot encode\n",
    "data = pd.get_dummies(data)\n",
    "\n",
    "# Move labels to first column, which is what XGBoost expects\n",
    "data = data.drop(['y_no'], axis=1)\n",
    "data = pd.concat([data['y_yes'], data.drop(['y_yes'], axis=1)], axis=1)\n",
    "\n",
    "# Shuffle and split into training and validation (95%/5%)\n",
    "data = data.sample(frac=1, random_state=123)\n",
    "train_data, val_data = train_test_split(data, test_size=0.05)\n",
    "\n",
    "# Save to CSV files\n",
    "train_data.to_csv('training.csv', index=False, header=False)\n",
    "val_data.to_csv('validation.csv', index=False, header=False)"
   ]
  },
  {
   "cell_type": "code",
   "execution_count": null,
   "metadata": {},
   "outputs": [],
   "source": [
    "# Use this cell for local mode\n",
    "training_path = 'file://training.csv'\n",
    "validation_path = 'file://validation.csv'\n",
    "output_path   = 'file:///tmp'\n",
    "\n",
    "train_instance_type = deploy_instance_type = 'local'"
   ]
  },
  {
   "cell_type": "code",
   "execution_count": null,
   "metadata": {},
   "outputs": [],
   "source": [
    "# Use this cell for managed mode\n",
    "training_path = sess.upload_data(path='training.csv', key_prefix=prefix + \"/training\")\n",
    "validation_path = sess.upload_data(path=\"validation.csv\", key_prefix=prefix + \"/validation\")\n",
    "output_path   = 's3://{}/{}/output/'.format(bucket,prefix)\n",
    "\n",
    "train_instance_type = 'ml.m5.large'\n",
    "deploy_instance_type = 'ml.t2.medium'"
   ]
  },
  {
   "cell_type": "code",
   "execution_count": null,
   "metadata": {},
   "outputs": [],
   "source": [
    "print(training_path)\n",
    "print(validation_path)\n",
    "print(output_path)"
   ]
  },
  {
   "cell_type": "code",
   "execution_count": null,
   "metadata": {},
   "outputs": [],
   "source": [
    "from sagemaker import TrainingInput\n",
    "\n",
    "train_input = TrainingInput(training_path, content_type='text/csv')\n",
    "val_input = TrainingInput(validation_path, content_type='text/csv')"
   ]
  },
  {
   "cell_type": "markdown",
   "metadata": {},
   "source": [
    "# Train and deploy on SageMaker"
   ]
  },
  {
   "cell_type": "code",
   "execution_count": null,
   "metadata": {},
   "outputs": [],
   "source": [
    "from sagemaker.xgboost import XGBoost\n",
    "\n",
    "#role = 'arn:aws:iam::0123456789012:role/Sagemaker-fullaccess'\n",
    "\n",
    "xgb_estimator = XGBoost(\n",
    "    entry_point='xgb-dm.py', \n",
    "    role=sagemaker.get_execution_role(),\n",
    "    instance_count=1, \n",
    "    instance_type=train_instance_type,\n",
    "    framework_version='1.2-2',\n",
    "    output_path=output_path,\n",
    "    hyperparameters={     # Details at https://xgboost.readthedocs.io/en/latest/parameter.html\n",
    "        'num-round': 100,\n",
    "        'early-stopping-rounds': 10,\n",
    "        'max-depth': 5,\n",
    "        'eval-metric': 'auc'\n",
    "    })"
   ]
  },
  {
   "cell_type": "code",
   "execution_count": null,
   "metadata": {},
   "outputs": [],
   "source": [
    "xgb_estimator.fit({'train':train_input, 'validation':val_input})"
   ]
  },
  {
   "cell_type": "code",
   "execution_count": null,
   "metadata": {},
   "outputs": [],
   "source": [
    "from time import strftime,gmtime\n",
    "\n",
    "xgb_endpoint_name = prefix+strftime('%Y-%m-%d-%H-%M-%S', gmtime())\n",
    "\n",
    "xgb_predictor = xgb_estimator.deploy(\n",
    "    endpoint_name=xgb_endpoint_name,\n",
    "    initial_instance_count=1, \n",
    "    instance_type=deploy_instance_type)\n",
    "\n",
    "print(xgb_endpoint_name)"
   ]
  },
  {
   "cell_type": "code",
   "execution_count": null,
   "metadata": {},
   "outputs": [],
   "source": [
    "# Load some samples, drop labels\n",
    "\n",
    "payload = val_data[:10].drop(['y_yes'], axis=1)\n",
    "payload = payload.to_csv(header=False, index=False).rstrip('\\n')\n",
    "print(payload)"
   ]
  },
  {
   "cell_type": "code",
   "execution_count": null,
   "metadata": {},
   "outputs": [],
   "source": [
    "xgb_predictor.serializer = sagemaker.serializers.CSVSerializer()\n",
    "xgb_predictor.deserializer = sagemaker.deserializers.CSVDeserializer()\n",
    "\n",
    "response = xgb_predictor.predict(payload)\n",
    "\n",
    "print(response)"
   ]
  },
  {
   "cell_type": "code",
   "execution_count": null,
   "metadata": {},
   "outputs": [],
   "source": [
    "xgb_predictor.delete_endpoint()"
   ]
  },
  {
   "cell_type": "code",
   "execution_count": null,
   "metadata": {},
   "outputs": [],
   "source": []
  },
  {
   "cell_type": "code",
   "execution_count": null,
   "metadata": {},
   "outputs": [],
   "source": []
  }
 ],
 "metadata": {
  "instance_type": "ml.t3.medium",
  "kernelspec": {
   "display_name": "Python 3 (Data Science)",
   "language": "python",
   "name": "python3__SAGEMAKER_INTERNAL__arn:aws:sagemaker:ap-northeast-2:806072073708:image/datascience-1.0"
  },
  "language_info": {
   "codemirror_mode": {
    "name": "ipython",
    "version": 3
   },
   "file_extension": ".py",
   "mimetype": "text/x-python",
   "name": "python",
   "nbconvert_exporter": "python",
   "pygments_lexer": "ipython3",
   "version": "3.7.10"
  }
 },
 "nbformat": 4,
 "nbformat_minor": 4
}
