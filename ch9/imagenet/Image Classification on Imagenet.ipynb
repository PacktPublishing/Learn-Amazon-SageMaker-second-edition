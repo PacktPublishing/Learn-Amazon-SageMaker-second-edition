{
 "cells": [
  {
   "cell_type": "code",
   "execution_count": null,
   "metadata": {},
   "outputs": [],
   "source": [
    "%%sh\n",
    "pip -q install sagemaker --upgrade"
   ]
  },
  {
   "cell_type": "code",
   "execution_count": null,
   "metadata": {},
   "outputs": [],
   "source": [
    "import sagemaker\n",
    "\n",
    "print(sagemaker.__version__)\n",
    "\n",
    "session = sagemaker.Session()\n",
    "bucket = session.default_bucket()"
   ]
  },
  {
   "cell_type": "markdown",
   "metadata": {},
   "source": [
    "### Define channels"
   ]
  },
  {
   "cell_type": "code",
   "execution_count": null,
   "metadata": {},
   "outputs": [],
   "source": [
    "prefix = 'imagenet-split'\n",
    "s3_train_path = 's3://{}/{}/input/training/'.format(bucket, prefix)\n",
    "s3_val_path   = 's3://{}/{}/input/validation/'.format(bucket, prefix)\n",
    "s3_output     = 's3://{}/{}/output/'.format(bucket, prefix)\n",
    "\n",
    "from sagemaker.inputs import ShuffleConfig\n",
    "\n",
    "train_data = sagemaker.TrainingInput(s3_train_path, \n",
    "                      shuffle_config=ShuffleConfig(59),\n",
    "                      content_type='application/x-recordio',\n",
    "                      input_mode='Pipe')\n",
    "\n",
    "validation_data = sagemaker.TrainingInput(s3_val_path, \n",
    "                           content_type='application/x-recordio', \n",
    "                           input_mode='Pipe')"
   ]
  },
  {
   "cell_type": "code",
   "execution_count": null,
   "metadata": {},
   "outputs": [],
   "source": [
    "print(s3_train_path)\n",
    "print(s3_val_path)\n",
    "print(s3_output)"
   ]
  },
  {
   "cell_type": "code",
   "execution_count": null,
   "metadata": {},
   "outputs": [],
   "source": [
    "s3_channels = {'train': train_data, 'validation': validation_data}"
   ]
  },
  {
   "cell_type": "markdown",
   "metadata": {},
   "source": [
    "### Get the name of the image classification algorithm in our region"
   ]
  },
  {
   "cell_type": "code",
   "execution_count": null,
   "metadata": {},
   "outputs": [],
   "source": [
    "region    = session.boto_session.region_name    \n",
    "container = sagemaker.image_uris.retrieve('image-classification', region)\n",
    "\n",
    "print(container)"
   ]
  },
  {
   "cell_type": "markdown",
   "metadata": {},
   "source": [
    "### Configure the training job"
   ]
  },
  {
   "cell_type": "code",
   "execution_count": null,
   "metadata": {},
   "outputs": [],
   "source": [
    "role = sagemaker.get_execution_role()\n",
    "\n",
    "ic = sagemaker.estimator.Estimator(\n",
    "    container,\n",
    "    role,\n",
    "    instance_count=1, \n",
    "    instance_type='ml.p3dn.24xlarge',   # 8 GPUs\n",
    "    output_path=s3_output,\n",
    "    volume_size=1\n",
    ")"
   ]
  },
  {
   "cell_type": "markdown",
   "metadata": {},
   "source": [
    "### Set algorithm parameters"
   ]
  },
  {
   "cell_type": "code",
   "execution_count": null,
   "metadata": {},
   "outputs": [],
   "source": [
    "ic.set_hyperparameters(\n",
    "    num_layers=50,                 # Train a Resnet-50 model\n",
    "    use_pretrained_model=0,        # Train from scratch\n",
    "    num_classes=1000,              # ImageNet has 1000 classes\n",
    "    num_training_samples=1281167,  # Number of training samples\n",
    "    mini_batch_size=512,          \n",
    "    epochs=2,\n",
    "    top_k=3,\n",
    "    kv_store='dist_sync',          # gradient updates are synchronized after each batch\n",
    ")"
   ]
  },
  {
   "cell_type": "code",
   "execution_count": null,
   "metadata": {},
   "outputs": [],
   "source": [
    "ic.fit(inputs=s3_channels)"
   ]
  },
  {
   "cell_type": "markdown",
   "metadata": {},
   "source": [
    "CloudWatch shows that total GPU memory utilization is only 300%, meaning 300/8=37.5% on each GPU. Let's bump batch size to (1024/0.375)=2730, rounded up to 2736 to be divisible by 8."
   ]
  },
  {
   "cell_type": "code",
   "execution_count": null,
   "metadata": {},
   "outputs": [],
   "source": [
    "ic = sagemaker.estimator.Estimator(\n",
    "    container,\n",
    "    role,\n",
    "    instance_count=1, \n",
    "    instance_type='ml.p3dn.24xlarge',\n",
    "    output_path=s3_output,\n",
    "    volume_size=1\n",
    ")"
   ]
  },
  {
   "cell_type": "code",
   "execution_count": null,
   "metadata": {},
   "outputs": [],
   "source": [
    "ic.set_hyperparameters(num_layers=50,                 \n",
    "                       use_pretrained_model=0,       \n",
    "                       num_classes=1000,             \n",
    "                       num_training_samples=1281167,\n",
    "                       mini_batch_size=2736,          # <-----\n",
    "                       learning_rate=0.4,\n",
    "                       epochs=2,\n",
    "                       kv_store='dist_sync',\n",
    "                       augmentation_type='crop',\n",
    "                       top_k=3)"
   ]
  },
  {
   "cell_type": "code",
   "execution_count": null,
   "metadata": {},
   "outputs": [],
   "source": [
    "ic.fit(inputs=s3_channels)"
   ]
  },
  {
   "cell_type": "code",
   "execution_count": null,
   "metadata": {},
   "outputs": [],
   "source": [
    "# Add Distributed Training\n",
    "\n",
    "ic = sagemaker.estimator.Estimator(\n",
    "    container,\n",
    "    role,\n",
    "    instance_count=2,                 # <--------\n",
    "    instance_type='ml.p3dn.24xlarge',\n",
    "    output_path=s3_output,\n",
    "    volume_size=1\n",
    ")"
   ]
  },
  {
   "cell_type": "code",
   "execution_count": null,
   "metadata": {},
   "outputs": [],
   "source": [
    "# Same as above\n",
    "\n",
    "ic.set_hyperparameters(num_layers=50,                 \n",
    "                       use_pretrained_model=0,        \n",
    "                       num_classes=1000,              \n",
    "                       num_training_samples=1281167,  \n",
    "                       mini_batch_size=2736,          \n",
    "                       learning_rate=0.4,\n",
    "                       epochs=2,\n",
    "                       kv_store='dist_sync',\n",
    "                       augmentation_type='crop',\n",
    "                       top_k=3\n",
    "                      )"
   ]
  },
  {
   "cell_type": "code",
   "execution_count": null,
   "metadata": {},
   "outputs": [],
   "source": [
    "ic.fit(inputs=s3_channels)"
   ]
  },
  {
   "cell_type": "code",
   "execution_count": null,
   "metadata": {},
   "outputs": [],
   "source": [
    "# Same job with 4 instances\n",
    "\n",
    "ic = sagemaker.estimator.Estimator(\n",
    "    container,\n",
    "    role,\n",
    "    instance_count=4,                 # <--------\n",
    "    instance_type='ml.p3dn.24xlarge',\n",
    "    output_path=s3_output,\n",
    "    volume_size=1                    \n",
    ")\n",
    "\n",
    "# Same as above\n",
    "\n",
    "ic.set_hyperparameters(num_layers=50,                 \n",
    "                       use_pretrained_model=0,        \n",
    "                       num_classes=1000,              \n",
    "                       num_training_samples=1281167,  \n",
    "                       mini_batch_size=2736,          \n",
    "                       learning_rate=0.4,\n",
    "                       epochs=2,\n",
    "                       kv_store='dist_sync',\n",
    "                       augmentation_type='crop',\n",
    "                       top_k=3)\n",
    "\n",
    "ic.fit(inputs=s3_channels)"
   ]
  },
  {
   "cell_type": "code",
   "execution_count": null,
   "metadata": {},
   "outputs": [],
   "source": [
    "# Same job with 8 instances\n",
    "\n",
    "ic = sagemaker.estimator.Estimator(\n",
    "    container,\n",
    "    role,\n",
    "    instance_count=8,                 # <-------- 64 GPUs\n",
    "                                      # 327K CUDA cores, 2TB of GPU RAM\n",
    "                                      # 8 Petaflops (!) for Fused Multiply Add matrix operations (A*B + C)\n",
    "    instance_type='ml.p3dn.24xlarge',\n",
    "    output_path=s3_output,\n",
    "    volume_size=1         \n",
    ")\n",
    "\n",
    "# Same as above\n",
    "\n",
    "ic.set_hyperparameters(num_layers=50,                \n",
    "                       use_pretrained_model=0,       \n",
    "                       num_classes=1000,             \n",
    "                       num_training_samples=1281167,  \n",
    "                       mini_batch_size=2000,          \n",
    "                       learning_rate=0.4,\n",
    "                       epochs=2,\n",
    "                       kv_store='dist_sync',\n",
    "                       augmentation_type='crop',\n",
    "                       top_k=3)\n",
    "\n",
    "ic.fit(inputs=s3_channels)"
   ]
  },
  {
   "cell_type": "markdown",
   "metadata": {},
   "source": [
    "Now let's train this for a little while."
   ]
  },
  {
   "cell_type": "code",
   "execution_count": null,
   "metadata": {},
   "outputs": [],
   "source": [
    "ic = sagemaker.estimator.Estimator(\n",
    "    container,\n",
    "    role,\n",
    "    instance_count=8, \n",
    "    instance_type='ml.p3dn.24xlarge',\n",
    "    output_path=s3_output,\n",
    "    volume_size=1\n",
    ")"
   ]
  },
  {
   "cell_type": "code",
   "execution_count": null,
   "metadata": {},
   "outputs": [],
   "source": [
    "# Increase epochs\n",
    "# Add early stopping\n",
    "\n",
    "ic.set_hyperparameters(\n",
    "    num_layers=50,                 \n",
    "    use_pretrained_model=0,        \n",
    "    num_classes=1000,              \n",
    "    num_training_samples=1281167,\n",
    "    augmentation_type='crop',\n",
    "    mini_batch_size=2000,\n",
    "    epochs=250,\n",
    "    #early_stopping=True,\n",
    "    #early_stopping_patience=30,\n",
    "    learning_rate=0.5,\n",
    "    lr_scheduler_factor=0.5,\n",
    "    lr_scheduler_step='10,20,30,40,50,60,70,80,90,100,110,120,130,140,150,160,170,180,190,200',\n",
    "    weight_decay='0.0005',\n",
    "    kv_store='dist_sync',\n",
    "    top_k=3)"
   ]
  },
  {
   "cell_type": "code",
   "execution_count": null,
   "metadata": {},
   "outputs": [],
   "source": [
    "ic.fit(inputs=s3_channels)"
   ]
  },
  {
   "cell_type": "code",
   "execution_count": null,
   "metadata": {},
   "outputs": [],
   "source": []
  }
 ],
 "metadata": {
  "instance_type": "ml.t3.medium",
  "kernelspec": {
   "display_name": "Python 3 (Data Science)",
   "language": "python",
   "name": "python3__SAGEMAKER_INTERNAL__arn:aws:sagemaker:us-west-2:236514542706:image/datascience-1.0"
  },
  "language_info": {
   "codemirror_mode": {
    "name": "ipython",
    "version": 3
   },
   "file_extension": ".py",
   "mimetype": "text/x-python",
   "name": "python",
   "nbconvert_exporter": "python",
   "pygments_lexer": "ipython3",
   "version": "3.7.10"
  }
 },
 "nbformat": 4,
 "nbformat_minor": 4
}
