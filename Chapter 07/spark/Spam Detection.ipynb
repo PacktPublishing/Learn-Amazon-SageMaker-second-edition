{
 "cells": [
  {
   "cell_type": "code",
   "execution_count": null,
   "metadata": {},
   "outputs": [],
   "source": [
    "import org.apache.spark.{SparkConf, SparkContext}\n",
    "import org.apache.spark.mllib.feature.HashingTF\n",
    "import org.apache.spark.mllib.regression.LabeledPoint\n",
    "import org.apache.spark.mllib.util.MLUtils \n",
    "\n",
    "import com.amazonaws.services.sagemaker.sparksdk.IAMRole\n",
    "import com.amazonaws.services.sagemaker.sparksdk.algorithms.XGBoostSageMakerEstimator\n",
    "import com.amazonaws.services.sagemaker.sparksdk.SageMakerResourceCleanup"
   ]
  },
  {
   "cell_type": "code",
   "execution_count": null,
   "metadata": {},
   "outputs": [],
   "source": [
    "// Load 2 types of emails from text files: spam and ham (non-spam).\n",
    "// Each line has text from one email.\n",
    "\n",
    "// Convert to lower case, remove punctuation and numbers, trim whitespace\n",
    "// This adds 0.6% accurary!\n",
    "\n",
    "val spam = sc.textFile(\"s3://sagemaker-eu-west-1-123456789012/spam\").map(l => l.toLowerCase()).map(l => l.replaceAll(\"[^ a-z]\", \"\")).map(l => l.trim())\n",
    "    \n",
    "val ham = sc.textFile(\"s3://sagemaker-eu-west-1-123456789012/ham\").map(l => l.toLowerCase()).map(l => l.replaceAll(\"[^ a-z]\", \"\")).map(l => l.trim())\n",
    "    \n",
    "spam.take(5)"
   ]
  },
  {
   "cell_type": "code",
   "execution_count": null,
   "metadata": {},
   "outputs": [],
   "source": [
    "// Create a HashingTF instance to map email text to vectors of features.\n",
    "val tf = new HashingTF(numFeatures = 200)\n",
    "// Each email is split into words, and each word is mapped to one feature.\n",
    "val spamFeatures = spam.map(email => tf.transform(email.split(\" \")))\n",
    "val hamFeatures = ham.map(email => tf.transform(email.split(\" \")))\n",
    "\n",
    "// Display features for a spam sample\n",
    "spamFeatures.take(1)\n",
    "// Display features for a ham sample\n",
    "hamFeatures.take(1)"
   ]
  },
  {
   "cell_type": "code",
   "execution_count": null,
   "metadata": {},
   "outputs": [],
   "source": [
    "// Create LabeledPoint datasets for positive (spam) and negative (ham) examples.\n",
    "val positiveExamples = spamFeatures.map(features => LabeledPoint(1, features))\n",
    "val negativeExamples = hamFeatures.map(features => LabeledPoint(0, features))\n",
    "\n",
    "// Display label for a spam sample\n",
    "positiveExamples.take(1)\n",
    "// Display label for a ham sample\n",
    "negativeExamples.take(1)"
   ]
  },
  {
   "cell_type": "code",
   "execution_count": null,
   "metadata": {},
   "outputs": [],
   "source": [
    "// The XGBoost built-in algo requires a libsvm-formatted DataFrame\n",
    "val data = positiveExamples.union(negativeExamples)\n",
    "val data_libsvm = MLUtils.convertVectorColumnsToML(data.toDF)\n",
    "data_libsvm.take(2)"
   ]
  },
  {
   "cell_type": "code",
   "execution_count": null,
   "metadata": {},
   "outputs": [],
   "source": [
    "// Split the data set 80/20\n",
    "val Array(trainingData, testData) = data_libsvm.randomSplit(Array(0.8, 0.2))"
   ]
  },
  {
   "cell_type": "code",
   "execution_count": null,
   "metadata": {},
   "outputs": [],
   "source": [
    "val roleArn = \"YOUR_SAGEMAKER_ROLE\"\n",
    "\n",
    "val xgboost_estimator = new XGBoostSageMakerEstimator(\n",
    "    trainingInstanceType=\"ml.m5.large\", trainingInstanceCount=1,\n",
    "    endpointInstanceType=\"ml.t2.medium\", endpointInitialInstanceCount=1, \n",
    "    sagemakerRole=IAMRole(roleArn))\n",
    "\n",
    "xgboost_estimator.setObjective(\"binary:logistic\")\n",
    "xgboost_estimator.setNumRound(25)"
   ]
  },
  {
   "cell_type": "code",
   "execution_count": null,
   "metadata": {},
   "outputs": [],
   "source": [
    "val xgboost_model = xgboost_estimator.fit(trainingData)"
   ]
  },
  {
   "cell_type": "code",
   "execution_count": null,
   "metadata": {},
   "outputs": [],
   "source": [
    "val transformedData = xgboost_model.transform(testData)\n",
    "transformedData.head(5)"
   ]
  },
  {
   "cell_type": "code",
   "execution_count": null,
   "metadata": {},
   "outputs": [],
   "source": [
    "val roundedData = transformedData.withColumn(\"prediction_rounded\", when($\"prediction\" > 0.5 , 1.0).otherwise(0.0))"
   ]
  },
  {
   "cell_type": "code",
   "execution_count": null,
   "metadata": {},
   "outputs": [],
   "source": [
    "val accuracy = 1.0 * roundedData.filter($\"label\"=== $\"prediction_rounded\").count / roundedData.count()"
   ]
  },
  {
   "cell_type": "code",
   "execution_count": null,
   "metadata": {},
   "outputs": [],
   "source": [
    "xgboost_model.getCreatedResources"
   ]
  },
  {
   "cell_type": "code",
   "execution_count": null,
   "metadata": {},
   "outputs": [],
   "source": [
    "val cleanup = new SageMakerResourceCleanup(xgboost_model.sagemakerClient)\n",
    "cleanup.deleteResources(xgboost_model.getCreatedResources)"
   ]
  },
  {
   "cell_type": "code",
   "execution_count": null,
   "metadata": {},
   "outputs": [],
   "source": []
  },
  {
   "cell_type": "code",
   "execution_count": null,
   "metadata": {},
   "outputs": [],
   "source": []
  }
 ],
 "metadata": {
  "kernelspec": {
   "display_name": "Python 3",
   "language": "python",
   "name": "python3"
  },
  "language_info": {
   "codemirror_mode": {
    "name": "ipython",
    "version": 3
   },
   "file_extension": ".py",
   "mimetype": "text/x-python",
   "name": "python",
   "nbconvert_exporter": "python",
   "pygments_lexer": "ipython3",
   "version": "3.7.4"
  }
 },
 "nbformat": 4,
 "nbformat_minor": 4
}
