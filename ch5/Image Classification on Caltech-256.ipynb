{
 "cells": [
  {
   "cell_type": "code",
   "execution_count": null,
   "metadata": {},
   "outputs": [],
   "source": [
    "%%sh\n",
    "wget http://data.mxnet.io/data/caltech-256/caltech-256-60-train.rec\n",
    "wget http://data.mxnet.io/data/caltech-256/caltech-256-60-val.rec"
   ]
  },
  {
   "cell_type": "code",
   "execution_count": null,
   "metadata": {},
   "outputs": [],
   "source": [
    "import sagemaker\n",
    "\n",
    "print(sagemaker.__version__)\n",
    "\n",
    "sess= sagemaker.Session()\n",
    "bucket = sess.default_bucket()"
   ]
  },
  {
   "cell_type": "code",
   "execution_count": null,
   "metadata": {},
   "outputs": [],
   "source": [
    "prefix = 'caltech256'\n",
    "\n",
    "s3_train_path = sess.upload_data(path='caltech-256-60-train.rec', bucket=bucket, key_prefix=prefix+'/input/train')\n",
    "s3_val_path = sess.upload_data(path='caltech-256-60-val.rec',   bucket=bucket, key_prefix=prefix+'/input/validation')\n",
    "s3_output = 's3://{}/{}/output'.format(bucket, prefix)\n",
    "\n",
    "print(s3_train_path)\n",
    "print(s3_val_path)\n",
    "print(s3_output)"
   ]
  },
  {
   "cell_type": "markdown",
   "metadata": {},
   "source": [
    "### Get the name of the image classification algorithm in our region"
   ]
  },
  {
   "cell_type": "code",
   "execution_count": null,
   "metadata": {},
   "outputs": [],
   "source": [
    "from sagemaker.image_uris import retrieve\n",
    "\n",
    "region = sess.boto_session.region_name    \n",
    "container = retrieve('image-classification', region)\n",
    "print(container)"
   ]
  },
  {
   "cell_type": "markdown",
   "metadata": {},
   "source": [
    "### Configure the training job"
   ]
  },
  {
   "cell_type": "code",
   "execution_count": null,
   "metadata": {},
   "outputs": [],
   "source": [
    "ic = sagemaker.estimator.Estimator(\n",
    "    container,\n",
    "    sagemaker.get_execution_role(),\n",
    "    instance_count=1,\n",
    "    instance_type='ml.p3.8xlarge',\n",
    "    output_path=s3_output)"
   ]
  },
  {
   "cell_type": "markdown",
   "metadata": {},
   "source": [
    "### Set algorithm parameters"
   ]
  },
  {
   "cell_type": "code",
   "execution_count": null,
   "metadata": {},
   "outputs": [],
   "source": [
    "ic.set_hyperparameters(\n",
    "    num_layers=50,               # Train a Resnet-18 model\n",
    "    use_pretrained_model=1,      # Train from scratch\n",
    "    num_classes=257,             # 256 classes + 1 clutter class\n",
    "    num_training_samples=15240,  # Number of training samples\n",
    "    learning_rate=0.001,\n",
    "    epochs=5)"
   ]
  },
  {
   "cell_type": "markdown",
   "metadata": {},
   "source": [
    "### Set dataset parameters"
   ]
  },
  {
   "cell_type": "code",
   "execution_count": null,
   "metadata": {},
   "outputs": [],
   "source": [
    "train_data = sagemaker.TrainingInput(\n",
    "    s3_train_path, \n",
    "    content_type='application/x-recordio')\n",
    "\n",
    "validation_data = sagemaker.TrainingInput(\n",
    "    s3_val_path,\n",
    "    content_type='application/x-recordio')\n",
    "\n",
    "s3_channels = {'train': train_data, 'validation': validation_data}"
   ]
  },
  {
   "cell_type": "markdown",
   "metadata": {},
   "source": [
    "### Train the model"
   ]
  },
  {
   "cell_type": "code",
   "execution_count": null,
   "metadata": {},
   "outputs": [],
   "source": [
    "ic.fit(inputs=s3_channels)"
   ]
  },
  {
   "cell_type": "markdown",
   "metadata": {},
   "source": [
    "### Deploy the model"
   ]
  },
  {
   "cell_type": "code",
   "execution_count": null,
   "metadata": {},
   "outputs": [],
   "source": [
    "ic_predictor = ic.deploy(\n",
    "    initial_instance_count=1,\n",
    "    instance_type='ml.t2.medium')"
   ]
  },
  {
   "cell_type": "markdown",
   "metadata": {},
   "source": [
    "### Download a test image"
   ]
  },
  {
   "cell_type": "code",
   "execution_count": null,
   "metadata": {},
   "outputs": [],
   "source": [
    "# Dog\n",
    "!wget -O /tmp/test.jpg https://upload.wikimedia.org/wikipedia/commons/b/b7/LabradorWeaving.jpg\n",
    "file_name = '/tmp/test.jpg'\n",
    "from IPython.display import Image\n",
    "Image(file_name)"
   ]
  },
  {
   "cell_type": "markdown",
   "metadata": {},
   "source": [
    "### Predict test image"
   ]
  },
  {
   "cell_type": "code",
   "execution_count": null,
   "metadata": {},
   "outputs": [],
   "source": [
    "import boto3, json\n",
    "import numpy as np\n",
    "\n",
    "runtime = boto3.Session().client(service_name='runtime.sagemaker')\n",
    "\n",
    "with open(file_name, 'rb') as f:\n",
    "    payload = f.read()\n",
    "    payload = bytearray(payload)\n",
    "\n",
    "response = runtime.invoke_endpoint(EndpointName=ic_predictor.endpoint_name, \n",
    "                                   ContentType='application/x-image', \n",
    "                                   Body=payload)\n",
    "\n",
    "result = response['Body'].read()\n",
    "result = json.loads(result)\n",
    "index = np.argmax(result)\n",
    "print(result[index], index)\n",
    "\n",
    "# You should see class index 55, corresponding to the 56th class: 'dog'\n",
    "# https://www.kaggle.com/jessicali9530/caltech256"
   ]
  },
  {
   "cell_type": "markdown",
   "metadata": {},
   "source": [
    "### Delete endpoint"
   ]
  },
  {
   "cell_type": "code",
   "execution_count": null,
   "metadata": {},
   "outputs": [],
   "source": [
    "ic_predictor.delete_endpoint()"
   ]
  },
  {
   "cell_type": "code",
   "execution_count": null,
   "metadata": {},
   "outputs": [],
   "source": []
  }
 ],
 "metadata": {
  "instance_type": "ml.t3.medium",
  "kernelspec": {
   "display_name": "Python 3 (Data Science)",
   "language": "python",
   "name": "python3__SAGEMAKER_INTERNAL__arn:aws:sagemaker:ap-northeast-2:806072073708:image/datascience-1.0"
  },
  "language_info": {
   "codemirror_mode": {
    "name": "ipython",
    "version": 3
   },
   "file_extension": ".py",
   "mimetype": "text/x-python",
   "name": "python",
   "nbconvert_exporter": "python",
   "pygments_lexer": "ipython3",
   "version": "3.7.10"
  }
 },
 "nbformat": 4,
 "nbformat_minor": 4
}
