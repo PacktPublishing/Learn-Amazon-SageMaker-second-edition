{
 "cells": [
  {
   "cell_type": "markdown",
   "metadata": {},
   "source": [
    "# Building a text classification model on the Amazon Reviews dataset\n",
    "1. Inspect and process data with pandas and nltk\n",
    "2. Store engineered features in Amazon SageMaker Feature Store (offline and online)\n",
    "3. Build a dataset from the offline feature store with Amazon Athena\n",
    "4. Train and deploy a classification model with Amazon SageMaker and BlazingText\n",
    "5. Predict a few samples\n",
    "6. Clean up"
   ]
  },
  {
   "cell_type": "markdown",
   "metadata": {},
   "source": [
    "# 1 - Inspect and process data"
   ]
  },
  {
   "cell_type": "code",
   "execution_count": null,
   "metadata": {},
   "outputs": [],
   "source": [
    "import pandas as pd\n",
    "import numpy as np\n",
    "import time\n",
    "from time import gmtime, strftime"
   ]
  },
  {
   "cell_type": "code",
   "execution_count": null,
   "metadata": {},
   "outputs": [],
   "source": [
    "fs_training_output_path = 's3://sagemaker-us-east-1-613904931467/sagemaker-scikit-learn-2021-07-05-07-54-15-145/output/fs_data/fs_data.tsv'"
   ]
  },
  {
   "cell_type": "code",
   "execution_count": null,
   "metadata": {},
   "outputs": [],
   "source": [
    "data = pd.read_csv(fs_training_output_path, sep='\\t', \n",
    "                   error_bad_lines=False, dtype='str')"
   ]
  },
  {
   "cell_type": "code",
   "execution_count": null,
   "metadata": {},
   "outputs": [],
   "source": [
    "data.head()"
   ]
  },
  {
   "cell_type": "markdown",
   "metadata": {},
   "source": [
    "# 2 - Create Feature Group and load data"
   ]
  },
  {
   "cell_type": "code",
   "execution_count": null,
   "metadata": {},
   "outputs": [],
   "source": [
    "import boto3, sagemaker \n",
    "from sagemaker.session import Session\n",
    "\n",
    "sagemaker_session = Session()\n",
    "region = sagemaker_session.boto_region_name\n",
    "boto_session = boto3.Session(region_name=region)\n",
    "role = sagemaker.get_execution_role()\n",
    "\n",
    "default_bucket = sagemaker_session.default_bucket()\n",
    "prefix = 'amazon-reviews-featurestore'\n",
    "\n",
    "sagemaker_client = boto_session.client(service_name='sagemaker', region_name=region)\n",
    "featurestore_runtime = boto_session.client(service_name='sagemaker-featurestore-runtime', region_name=region)\n",
    "\n",
    "feature_store_session = Session(\n",
    "    boto_session=boto_session,\n",
    "    sagemaker_client=sagemaker_client,\n",
    "    sagemaker_featurestore_runtime_client=featurestore_runtime\n",
    ")"
   ]
  },
  {
   "cell_type": "markdown",
   "metadata": {},
   "source": [
    "### Define the feature group name"
   ]
  },
  {
   "cell_type": "code",
   "execution_count": null,
   "metadata": {},
   "outputs": [],
   "source": [
    "from sagemaker.feature_store.feature_group import FeatureGroup\n",
    "\n",
    "feature_group_name = 'amazon-reviews-feature-group-' + strftime('%d-%H-%M-%S', gmtime())\n",
    "feature_group = FeatureGroup(name=feature_group_name, sagemaker_session=feature_store_session)"
   ]
  },
  {
   "cell_type": "markdown",
   "metadata": {},
   "source": [
    "### Define the name of the column storing a unique record id (e.g. primary key)"
   ]
  },
  {
   "cell_type": "code",
   "execution_count": null,
   "metadata": {},
   "outputs": [],
   "source": [
    "record_identifier_feature_name = 'review_id'"
   ]
  },
  {
   "cell_type": "markdown",
   "metadata": {},
   "source": [
    "### Add a column to store feature timestamps"
   ]
  },
  {
   "cell_type": "code",
   "execution_count": null,
   "metadata": {},
   "outputs": [],
   "source": [
    "event_time_feature_name = 'event_time'\n",
    "current_time_sec = int(round(time.time()))\n",
    "\n",
    "# event_time is the name of the new column. A bit confusing!\n",
    "data = data.assign(event_time=current_time_sec)"
   ]
  },
  {
   "cell_type": "code",
   "execution_count": null,
   "metadata": {},
   "outputs": [],
   "source": [
    "# Make sure that timestamps are correctly set\n",
    "# NaN timestamps will cause ingestion errors\n",
    "\n",
    "data[data.isna().any(axis=1)]"
   ]
  },
  {
   "cell_type": "code",
   "execution_count": null,
   "metadata": {},
   "outputs": [],
   "source": [
    "data.head()"
   ]
  },
  {
   "cell_type": "markdown",
   "metadata": {},
   "source": [
    "### Infer feature definitions from the pandas dataframe"
   ]
  },
  {
   "cell_type": "code",
   "execution_count": null,
   "metadata": {},
   "outputs": [],
   "source": [
    "data['review_id']     = data['review_id'].astype('str').astype('string')\n",
    "data['product_id']    = data['product_id'].astype('str').astype('string')\n",
    "data['review_body']   = data['review_body'].astype('str').astype('string')\n",
    "data['label']         = data['label'].astype('str').astype('string')\n",
    "data['star_rating']   = data['star_rating'].astype('int64')\n",
    "data['event_time']    = data['event_time'].astype('float64')\n",
    "# We could also use the UNIX date/time format, and we'd set the type to string"
   ]
  },
  {
   "cell_type": "code",
   "execution_count": null,
   "metadata": {},
   "outputs": [],
   "source": [
    "feature_group.load_feature_definitions(data_frame=data)"
   ]
  },
  {
   "cell_type": "markdown",
   "metadata": {},
   "source": [
    "### Create the feature group"
   ]
  },
  {
   "cell_type": "code",
   "execution_count": null,
   "metadata": {},
   "outputs": [],
   "source": [
    "feature_group.create(\n",
    "    s3_uri='s3://{}/{}'.format(default_bucket, prefix),\n",
    "    record_identifier_name=record_identifier_feature_name,\n",
    "    event_time_feature_name=event_time_feature_name,\n",
    "    role_arn=role,\n",
    "    enable_online_store=True,\n",
    "    description=\"1.8M+ tokenized camera reviews from the Amazon Customer Reviews dataset\",\n",
    "    tags=[\n",
    "        { 'Key': 'Dataset', 'Value': 'amazon customer reviews' },\n",
    "        { 'Key': 'Subset', 'Value': 'cameras' },\n",
    "        { 'Key': 'Owner', 'Value': 'Julien Simon' }\n",
    "    ]\n",
    ")"
   ]
  },
  {
   "cell_type": "code",
   "execution_count": null,
   "metadata": {},
   "outputs": [],
   "source": [
    "from time import sleep\n",
    "import sys\n",
    "\n",
    "while feature_group.describe().get(\"FeatureGroupStatus\") != 'Created':\n",
    "    sys.stdout.write('.')\n",
    "    sleep(1)\n",
    "    \n",
    "# boto3 doesn't have waiters for Feature Store\n",
    "# Please +1 this issue on GitHub https://github.com/boto/boto3/issues/2788 "
   ]
  },
  {
   "cell_type": "markdown",
   "metadata": {},
   "source": [
    "### Ingest features into our feature group, directly from the pandas dataframe"
   ]
  },
  {
   "cell_type": "code",
   "execution_count": null,
   "metadata": {},
   "outputs": [],
   "source": [
    "feature_group.ingest(data_frame=data, max_workers=10, wait=True)"
   ]
  },
  {
   "cell_type": "markdown",
   "metadata": {},
   "source": [
    "# 3 - Use Amazon Athena to build a training dataset"
   ]
  },
  {
   "cell_type": "code",
   "execution_count": null,
   "metadata": {},
   "outputs": [],
   "source": [
    "feature_group_query = feature_group.athena_query()\n",
    "feature_group_table = feature_group_query.table_name\n",
    "\n",
    "print(feature_group_table)"
   ]
  },
  {
   "cell_type": "markdown",
   "metadata": {},
   "source": [
    "### Build and run SQL query"
   ]
  },
  {
   "cell_type": "code",
   "execution_count": null,
   "metadata": {},
   "outputs": [],
   "source": [
    "# Find the most popular cameras and their average rating\n",
    "\n",
    "query_string = 'SELECT product_id, avg(star_rating), count(*) as review_count \\\n",
    "FROM \"'+ feature_group_table+'\"' \\\n",
    "+ ' GROUP BY product_id \\\n",
    "    ORDER BY review_count desc;'\n",
    "\n",
    "print(query_string)"
   ]
  },
  {
   "cell_type": "code",
   "execution_count": null,
   "metadata": {},
   "outputs": [],
   "source": [
    "# Keep only best selling cameras with at least 1,000 reviews\n",
    "\n",
    "query_string = 'SELECT * FROM \\\n",
    "    (SELECT product_id, avg(star_rating) as avg_rating, count(*) as review_count \\\n",
    "    FROM \"'+ feature_group_table+'\"' + ' \\\n",
    "    GROUP BY product_id) \\\n",
    "WHERE review_count > 1000 \\\n",
    "ORDER BY review_count DESC;'\n",
    "\n",
    "print(query_string)"
   ]
  },
  {
   "cell_type": "code",
   "execution_count": null,
   "metadata": {},
   "outputs": [],
   "source": [
    "# Find the corresponding labeled reviews, ready for BlazingText training\n",
    "\n",
    "query_string = 'SELECT label,review_body FROM \"' \\\n",
    "+ feature_group_table+'\"' \\\n",
    "+ ' INNER JOIN (SELECT product_id FROM (SELECT product_id, avg(star_rating) as avg_rating, count(*) as review_count \\\n",
    "                FROM \"' + feature_group_table+'\"' \\\n",
    "                + ' GROUP BY product_id) WHERE review_count > 1000) tmp ON \"' \\\n",
    "+ feature_group_table+'\"'+ '.product_id=tmp.product_id;'\n",
    "\n",
    "print(query_string)"
   ]
  },
  {
   "cell_type": "code",
   "execution_count": null,
   "metadata": {},
   "outputs": [],
   "source": [
    "dataset = pd.DataFrame()\n",
    "feature_group_query.run(query_string=query_string, output_location='s3://'+default_bucket+'/query_results/')\n",
    "feature_group_query.wait()"
   ]
  },
  {
   "cell_type": "code",
   "execution_count": null,
   "metadata": {},
   "outputs": [],
   "source": [
    "dataset = feature_group_query.as_dataframe()\n",
    "dataset.head()"
   ]
  },
  {
   "cell_type": "code",
   "execution_count": null,
   "metadata": {},
   "outputs": [],
   "source": [
    "dataset.shape"
   ]
  },
  {
   "cell_type": "code",
   "execution_count": null,
   "metadata": {},
   "outputs": [],
   "source": [
    "dataset['label'].value_counts()"
   ]
  },
  {
   "cell_type": "markdown",
   "metadata": {},
   "source": [
    "### Split dataset for training and validation, and save it to text files"
   ]
  },
  {
   "cell_type": "code",
   "execution_count": null,
   "metadata": {},
   "outputs": [],
   "source": [
    "from sklearn.model_selection import train_test_split\n",
    "\n",
    "training, validation = train_test_split(dataset, test_size=0.1)"
   ]
  },
  {
   "cell_type": "code",
   "execution_count": null,
   "metadata": {},
   "outputs": [],
   "source": [
    "print(training.shape)\n",
    "print(validation.shape)"
   ]
  },
  {
   "cell_type": "code",
   "execution_count": null,
   "metadata": {},
   "outputs": [],
   "source": [
    "np.savetxt('/tmp/training.txt', training.values, fmt='%s')\n",
    "np.savetxt('/tmp/validation.txt', validation.values, fmt='%s')"
   ]
  },
  {
   "cell_type": "code",
   "execution_count": null,
   "metadata": {},
   "outputs": [],
   "source": [
    "!head -5 /tmp/training.txt"
   ]
  },
  {
   "cell_type": "markdown",
   "metadata": {},
   "source": [
    "# 4 - Train a classification model on Amazon SageMaker with the BlazingText algorithm"
   ]
  },
  {
   "cell_type": "code",
   "execution_count": null,
   "metadata": {},
   "outputs": [],
   "source": [
    "prefix = 'blazing-text-amazon-reviews'\n",
    "\n",
    "s3_train_path = sagemaker_session.upload_data(path='/tmp/training.txt', bucket=default_bucket, key_prefix=prefix+'/input/train')\n",
    "s3_val_path = sagemaker_session.upload_data(path='/tmp/validation.txt', bucket=default_bucket, key_prefix=prefix+'/input/validation')\n",
    "s3_output = 's3://{}/{}/output/'.format(default_bucket, prefix)\n",
    "\n",
    "print(s3_train_path)\n",
    "print(s3_val_path)\n",
    "print(s3_output)"
   ]
  },
  {
   "cell_type": "code",
   "execution_count": null,
   "metadata": {},
   "outputs": [],
   "source": [
    "from sagemaker import image_uris\n",
    "\n",
    "container = image_uris.retrieve('blazingtext', region)\n",
    "print(container)"
   ]
  },
  {
   "cell_type": "code",
   "execution_count": null,
   "metadata": {},
   "outputs": [],
   "source": [
    "bt = sagemaker.estimator.Estimator(container,\n",
    "                                   role, \n",
    "                                   instance_count=1, \n",
    "                                   instance_type='ml.p3.2xlarge',\n",
    "                                   output_path=s3_output)"
   ]
  },
  {
   "cell_type": "code",
   "execution_count": null,
   "metadata": {},
   "outputs": [],
   "source": [
    "bt.set_hyperparameters(mode='supervised')"
   ]
  },
  {
   "cell_type": "code",
   "execution_count": null,
   "metadata": {},
   "outputs": [],
   "source": [
    "train_data = sagemaker.TrainingInput(\n",
    "    s3_train_path, \n",
    "    content_type='text/plain')\n",
    "\n",
    "validation_data = sagemaker.TrainingInput(\n",
    "    s3_val_path,\n",
    "    content_type='text/plain')\n",
    "\n",
    "s3_channels = {'train': train_data, 'validation': validation_data}"
   ]
  },
  {
   "cell_type": "code",
   "execution_count": null,
   "metadata": {},
   "outputs": [],
   "source": [
    "bt.fit(inputs=s3_channels)"
   ]
  },
  {
   "cell_type": "code",
   "execution_count": null,
   "metadata": {},
   "outputs": [],
   "source": [
    "bt_predictor = bt.deploy(initial_instance_count=1, instance_type='ml.t2.medium')"
   ]
  },
  {
   "cell_type": "code",
   "execution_count": null,
   "metadata": {},
   "outputs": [],
   "source": [
    "instances = [' I really love this camera , it takes amazing pictures . ',\n",
    "            ' this camera is ok , it gets the job done . Nothing fancy . ', \n",
    "            ' Poor quality , the camera stopped working after a couple of days .']"
   ]
  },
  {
   "cell_type": "code",
   "execution_count": null,
   "metadata": {},
   "outputs": [],
   "source": [
    "import pprint \n",
    "\n",
    "payload = {\"instances\" : instances, \"configuration\": {\"k\": 3}}\n",
    "\n",
    "bt_predictor.serializer   = sagemaker.serializers.JSONSerializer()\n",
    "bt_predictor.deserializer = sagemaker.deserializers.JSONDeserializer()\n",
    "\n",
    "response = bt_predictor.predict(payload)\n",
    "\n",
    "pprint.pprint(response)"
   ]
  },
  {
   "cell_type": "markdown",
   "metadata": {},
   "source": [
    "# 5 - Clean up"
   ]
  },
  {
   "cell_type": "code",
   "execution_count": null,
   "metadata": {},
   "outputs": [],
   "source": [
    "bt_predictor.delete_endpoint()"
   ]
  },
  {
   "cell_type": "code",
   "execution_count": null,
   "metadata": {},
   "outputs": [],
   "source": [
    "feature_group.delete()"
   ]
  },
  {
   "cell_type": "code",
   "execution_count": null,
   "metadata": {},
   "outputs": [],
   "source": []
  },
  {
   "cell_type": "code",
   "execution_count": null,
   "metadata": {},
   "outputs": [],
   "source": [
    "# How to remove old feature groups\n",
    "old_feature_group_name = 'amazon-reviews-feature-group-19-09-49-20'\n",
    "old_feature_group = FeatureGroup(name=old_feature_group_name, sagemaker_session=feature_store_session)\n",
    "old_feature_group.delete()"
   ]
  },
  {
   "cell_type": "code",
   "execution_count": null,
   "metadata": {},
   "outputs": [],
   "source": []
  },
  {
   "cell_type": "code",
   "execution_count": null,
   "metadata": {},
   "outputs": [],
   "source": []
  }
 ],
 "metadata": {
  "instance_type": "ml.m5.4xlarge",
  "kernelspec": {
   "display_name": "Python 3 (Data Science)",
   "language": "python",
   "name": "python3__SAGEMAKER_INTERNAL__arn:aws:sagemaker:us-east-1:081325390199:image/datascience-1.0"
  },
  "language_info": {
   "codemirror_mode": {
    "name": "ipython",
    "version": 3
   },
   "file_extension": ".py",
   "mimetype": "text/x-python",
   "name": "python",
   "nbconvert_exporter": "python",
   "pygments_lexer": "ipython3",
   "version": "3.7.10"
  }
 },
 "nbformat": 4,
 "nbformat_minor": 4
}
