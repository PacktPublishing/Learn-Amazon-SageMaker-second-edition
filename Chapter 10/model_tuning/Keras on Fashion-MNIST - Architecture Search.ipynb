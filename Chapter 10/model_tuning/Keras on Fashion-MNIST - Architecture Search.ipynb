{
 "cells": [
  {
   "cell_type": "markdown",
   "metadata": {},
   "source": [
    "## Download the Fashion-MNIST dataset"
   ]
  },
  {
   "cell_type": "code",
   "execution_count": null,
   "metadata": {},
   "outputs": [],
   "source": [
    "import os\n",
    "import numpy as np\n",
    "from tensorflow.keras.datasets import fashion_mnist\n",
    "\n",
    "(x_train, y_train), (x_val, y_val) = fashion_mnist.load_data()\n",
    "\n",
    "os.makedirs(\"./data\", exist_ok = True)\n",
    "np.savez('./data/training', image=x_train, label=y_train)\n",
    "np.savez('./data/validation', image=x_val, label=y_val)"
   ]
  },
  {
   "cell_type": "code",
   "execution_count": null,
   "metadata": {},
   "outputs": [],
   "source": [
    "!pygmentize fmnist-4.py"
   ]
  },
  {
   "cell_type": "markdown",
   "metadata": {},
   "source": [
    "## Upload Fashion-MNIST data to S3"
   ]
  },
  {
   "cell_type": "code",
   "execution_count": null,
   "metadata": {},
   "outputs": [],
   "source": [
    "import sagemaker\n",
    "\n",
    "print(sagemaker.__version__)\n",
    "\n",
    "sess = sagemaker.Session()\n",
    "role = sagemaker.get_execution_role()\n",
    "bucket = sess.default_bucket()\n",
    "prefix = 'keras2-fashion-mnist'\n",
    "\n",
    "training_input_path = sess.upload_data('data/training.npz', key_prefix=prefix+'/training')\n",
    "validation_input_path = sess.upload_data('data/validation.npz', key_prefix=prefix+'/validation')\n",
    "output_path = 's3://{}/{}/output/'.format(bucket, prefix)\n",
    "chk_path = 's3://{}/{}/checkpoints/'.format(bucket, prefix)\n",
    "\n",
    "print(training_input_path)\n",
    "print(validation_input_path)\n",
    "print(output_path)\n",
    "print(chk_path)"
   ]
  },
  {
   "cell_type": "markdown",
   "metadata": {},
   "source": [
    "## Train with Tensorflow"
   ]
  },
  {
   "cell_type": "code",
   "execution_count": null,
   "metadata": {},
   "outputs": [],
   "source": [
    "from sagemaker.tensorflow import TensorFlow\n",
    "\n",
    "tf_estimator = TensorFlow(entry_point='fmnist-4.py',\n",
    "                          role=role,\n",
    "                          instance_count=1, \n",
    "                          instance_type='ml.g4dn.xlarge',\n",
    "                          framework_version='2.1.0', \n",
    "                          py_version='py3',\n",
    "                          hyperparameters={'epochs': 100},\n",
    "                          use_spot_instances=True,\n",
    "                          max_run=3600,                    \n",
    "                          max_wait=7200\n",
    "                         )"
   ]
  },
  {
   "cell_type": "code",
   "execution_count": null,
   "metadata": {},
   "outputs": [],
   "source": [
    "objective_metric_name = 'val_acc'\n",
    "objective_type = 'Maximize'\n",
    "metric_definitions = [\n",
    "    {'Name': 'val_acc', 'Regex': 'Best val_accuracy: ([0-9\\\\.]+)'}\n",
    "]"
   ]
  },
  {
   "cell_type": "code",
   "execution_count": null,
   "metadata": {},
   "outputs": [],
   "source": [
    "from sagemaker.tuner import ContinuousParameter, IntegerParameter, CategoricalParameter\n",
    "\n",
    "hyperparameter_ranges = {\n",
    "    'learning-rate': ContinuousParameter(0.1, 0.14),\n",
    "    'batch-size': IntegerParameter(130, 160),\n",
    "    'filters1': IntegerParameter(16,256),\n",
    "    'filters2': IntegerParameter(16,256),\n",
    "    'dropout-conv': ContinuousParameter(1e-3, 0.5, scaling_type='Logarithmic'),\n",
    "    #'bn-momentum': ContinuousParameter(0.8, 0.999, scaling_type='ReverseLogarithmic'),\n",
    "    #'bn-epsilon': ContinuousParameter(1e-6, 1e-2, scaling_type='Logarithmic'),\n",
    "    #'num-fc': IntegerParameter(1,2),\n",
    "    #'width-fc': IntegerParameter(16, 128),\n",
    "    'dropout-fc': ContinuousParameter(1e-3, 0.5, scaling_type='Logarithmic'),\n",
    "}"
   ]
  },
  {
   "cell_type": "code",
   "execution_count": null,
   "metadata": {},
   "outputs": [],
   "source": [
    "from sagemaker.tuner import HyperparameterTuner\n",
    "\n",
    "tuner = HyperparameterTuner(tf_estimator,\n",
    "                            objective_metric_name,\n",
    "                            hyperparameter_ranges,\n",
    "                            metric_definitions=metric_definitions,\n",
    "                            objective_type=objective_type,\n",
    "                            max_jobs=50,\n",
    "                            max_parallel_jobs=2,\n",
    "                            early_stopping_type='Auto')"
   ]
  },
  {
   "cell_type": "code",
   "execution_count": null,
   "metadata": {},
   "outputs": [],
   "source": [
    "tuner.fit({'training': training_input_path, 'validation': validation_input_path})"
   ]
  },
  {
   "cell_type": "code",
   "execution_count": null,
   "metadata": {},
   "outputs": [],
   "source": [
    "from sagemaker.analytics import HyperparameterTuningJobAnalytics\n",
    "\n",
    "exp = HyperparameterTuningJobAnalytics(\n",
    "  hyperparameter_tuning_job_name=tuner.latest_tuning_job.name)\n",
    "\n",
    "jobs = exp.dataframe()\n",
    "jobs.drop(['TrainingJobName', 'TrainingEndTime', 'TrainingStartTime', 'TrainingJobStatus'], axis=1, inplace=True)\n",
    "jobs = jobs.sort_values('FinalObjectiveValue', ascending=0)\n",
    "jobs"
   ]
  },
  {
   "cell_type": "code",
   "execution_count": null,
   "metadata": {},
   "outputs": [],
   "source": [
    "import numpy as np\n",
    "import matplotlib.pyplot as plt\n",
    "from mpl_toolkits.mplot3d import Axes3D\n",
    "from sklearn.linear_model import LinearRegression\n",
    "\n",
    "%matplotlib inline"
   ]
  },
  {
   "cell_type": "code",
   "execution_count": null,
   "metadata": {},
   "outputs": [],
   "source": [
    "plt.title('Accuracy vs. learning rate')\n",
    "plt.autoscale()\n",
    "plt.scatter(jobs['learning-rate'].tolist(), jobs['FinalObjectiveValue'].tolist(), color='red')\n",
    "plt.show()\n",
    "plt.title('Accuracy vs. batch size')\n",
    "plt.autoscale()\n",
    "plt.scatter(jobs['batch-size'].tolist(), jobs['FinalObjectiveValue'].tolist(), color='green')\n",
    "plt.show()"
   ]
  },
  {
   "cell_type": "code",
   "execution_count": null,
   "metadata": {},
   "outputs": [],
   "source": [
    "plt.title('Accuracy vs. CNN layer dropout')\n",
    "plt.autoscale()\n",
    "plt.scatter(jobs['dropout-conv'].tolist(), jobs['FinalObjectiveValue'].tolist(), color='red')\n",
    "plt.show()\n",
    "plt.title('Accuracy vs. FC layer dropout')\n",
    "plt.autoscale()\n",
    "plt.scatter(jobs['dropout-fc'].tolist(), jobs['FinalObjectiveValue'].tolist(), color='blue')\n",
    "plt.show()"
   ]
  },
  {
   "cell_type": "code",
   "execution_count": null,
   "metadata": {},
   "outputs": [],
   "source": [
    "plt.title('Accuracy vs. CNN layer 1 filters')\n",
    "plt.autoscale()\n",
    "plt.scatter(jobs['filters1'].tolist(), jobs['FinalObjectiveValue'].tolist(), color='red')\n",
    "plt.show()\n",
    "plt.title('Accuracy vs. CNN layer 2 filters')\n",
    "plt.autoscale()\n",
    "plt.scatter(jobs['filters2'].tolist(), jobs['FinalObjectiveValue'].tolist(), color='green')\n",
    "plt.show()"
   ]
  },
  {
   "cell_type": "code",
   "execution_count": null,
   "metadata": {},
   "outputs": [],
   "source": [
    "X=np.array(jobs['learning-rate'])\n",
    "Y=np.array(jobs['batch-size'])\n",
    "Z=np.array(jobs['FinalObjectiveValue'])\n",
    "\n",
    "fig = plt.figure()\n",
    "ax = fig.gca(projection='3d')\n",
    "ax.scatter(X, Y,Z)\n",
    "plt.show()"
   ]
  },
  {
   "cell_type": "code",
   "execution_count": null,
   "metadata": {},
   "outputs": [],
   "source": [
    "X=np.array(jobs['filters1'])\n",
    "Y=np.array(jobs['filters2'])\n",
    "Z=np.array(jobs['FinalObjectiveValue'])\n",
    "\n",
    "fig = plt.figure()\n",
    "ax = fig.gca(projection='3d')\n",
    "ax.scatter(X, Y,Z)\n",
    "plt.show()"
   ]
  },
  {
   "cell_type": "markdown",
   "metadata": {},
   "source": [
    "## Deploy"
   ]
  },
  {
   "cell_type": "code",
   "execution_count": null,
   "metadata": {},
   "outputs": [],
   "source": [
    "import time\n",
    "\n",
    "tf_endpoint_name = 'keras-tf-fmnist-'+time.strftime(\"%Y-%m-%d-%H-%M-%S\", time.gmtime())\n",
    "\n",
    "tf_predictor = tuner.deploy(\n",
    "                 initial_instance_count=1, \n",
    "                 instance_type='ml.m5.large',\n",
    "                 endpoint_name=tf_endpoint_name)"
   ]
  },
  {
   "cell_type": "markdown",
   "metadata": {},
   "source": [
    "## Predict "
   ]
  },
  {
   "cell_type": "code",
   "execution_count": null,
   "metadata": {},
   "outputs": [],
   "source": [
    "%matplotlib inline\n",
    "import random\n",
    "import matplotlib.pyplot as plt\n",
    "\n",
    "num_samples = 5\n",
    "indices = random.sample(range(x_val.shape[0] - 1), num_samples)\n",
    "images = x_val[indices]/255\n",
    "labels = y_val[indices]\n",
    "\n",
    "for i in range(num_samples):\n",
    "    plt.subplot(1,num_samples,i+1)\n",
    "    plt.imshow(images[i].reshape(28, 28), cmap='gray')\n",
    "    plt.title(labels[i])\n",
    "    plt.axis('off')\n",
    "\n",
    "payload = images.reshape(num_samples, 28, 28, 1)"
   ]
  },
  {
   "cell_type": "code",
   "execution_count": null,
   "metadata": {},
   "outputs": [],
   "source": [
    "response = tf_predictor.predict(payload)\n",
    "prediction = np.array(response['predictions'])\n",
    "predicted_label = prediction.argmax(axis=1)\n",
    "print('Predicted labels are: {}'.format(predicted_label))"
   ]
  },
  {
   "cell_type": "markdown",
   "metadata": {},
   "source": [
    "## Clean up"
   ]
  },
  {
   "cell_type": "code",
   "execution_count": null,
   "metadata": {},
   "outputs": [],
   "source": [
    "tf_predictor.delete_endpoint()"
   ]
  },
  {
   "cell_type": "code",
   "execution_count": null,
   "metadata": {},
   "outputs": [],
   "source": []
  },
  {
   "cell_type": "code",
   "execution_count": null,
   "metadata": {},
   "outputs": [],
   "source": []
  }
 ],
 "metadata": {
  "instance_type": "ml.t3.medium",
  "kernelspec": {
   "display_name": "Python 3 (TensorFlow 2.3 Python 3.7 CPU Optimized)",
   "language": "python",
   "name": "python3__SAGEMAKER_INTERNAL__arn:aws:sagemaker:us-east-1:081325390199:image/tensorflow-2.3-cpu-py37-ubuntu18.04-v1"
  },
  "language_info": {
   "codemirror_mode": {
    "name": "ipython",
    "version": 3
   },
   "file_extension": ".py",
   "mimetype": "text/x-python",
   "name": "python",
   "nbconvert_exporter": "python",
   "pygments_lexer": "ipython3",
   "version": "3.7.10"
  }
 },
 "nbformat": 4,
 "nbformat_minor": 4
}
