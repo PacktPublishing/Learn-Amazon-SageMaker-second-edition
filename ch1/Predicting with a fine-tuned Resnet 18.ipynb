{
 "cells": [
  {
   "cell_type": "code",
   "execution_count": null,
   "metadata": {},
   "outputs": [],
   "source": [
    "%%sh\n",
    "aws s3 cp s3://MODEL_OUTPUT_PATH/model.tar.gz .\n",
    "tar xfz model.tar.gz\n",
    "cat class_label_to_prediction_index.json"
   ]
  },
  {
   "cell_type": "code",
   "execution_count": null,
   "metadata": {},
   "outputs": [],
   "source": [
    "%%sh\n",
    "wget https://upload.wikimedia.org/wikipedia/commons/a/a9/A_sunflower.jpg"
   ]
  },
  {
   "cell_type": "code",
   "execution_count": null,
   "metadata": {},
   "outputs": [],
   "source": [
    "with open('A_sunflower.jpg', 'rb') as file:\n",
    "    image = file.read()"
   ]
  },
  {
   "cell_type": "code",
   "execution_count": null,
   "metadata": {},
   "outputs": [],
   "source": [
    "import boto3\n",
    "\n",
    "endpoint_name = 'jumpstart-ftd-pt-ic-resnet18'\n",
    "\n",
    "client = boto3.client('runtime.sagemaker')\n",
    "\n",
    "with open('A_sunflower.jpg', 'rb') as file:\n",
    "    image = file.read()"
   ]
  },
  {
   "cell_type": "code",
   "execution_count": null,
   "metadata": {},
   "outputs": [],
   "source": [
    "import json\n",
    "\n",
    "response = client.invoke_endpoint(EndpointName=endpoint_name, ContentType='application/x-image', Body=image)\n",
    "\n",
    "model_predictions = json.loads(response['Body'].read())\n",
    "\n",
    "print(model_predictions)"
   ]
  }
 ],
 "metadata": {
  "instance_type": "ml.t3.medium",
  "kernelspec": {
   "display_name": "Python 3 (Data Science)",
   "language": "python",
   "name": "python3__SAGEMAKER_INTERNAL__arn:aws:sagemaker:ap-northeast-2:806072073708:image/datascience-1.0"
  },
  "language_info": {
   "codemirror_mode": {
    "name": "ipython",
    "version": 3
   },
   "file_extension": ".py",
   "mimetype": "text/x-python",
   "name": "python",
   "nbconvert_exporter": "python",
   "pygments_lexer": "ipython3",
   "version": "3.7.10"
  }
 },
 "nbformat": 4,
 "nbformat_minor": 4
}
