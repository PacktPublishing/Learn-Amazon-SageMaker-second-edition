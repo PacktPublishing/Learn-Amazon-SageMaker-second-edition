{
 "cells": [
  {
   "cell_type": "code",
   "execution_count": null,
   "metadata": {},
   "outputs": [],
   "source": [
    "# Update this with your own stack name (not the endpoint name)\n",
    "stack_name = 'endpoint-one-model-2021-07-21-12-46-07'"
   ]
  },
  {
   "cell_type": "code",
   "execution_count": null,
   "metadata": {},
   "outputs": [],
   "source": [
    "import boto3\n",
    "\n",
    "cf = boto3.client('cloudformation')\n",
    "response = cf.describe_stacks(StackName=stack_name)\n",
    "endpoint_name = response['Stacks'][0]['Outputs'][0]['OutputValue']\n",
    "\n",
    "print(endpoint_name)"
   ]
  },
  {
   "cell_type": "code",
   "execution_count": null,
   "metadata": {},
   "outputs": [],
   "source": [
    "import os\n",
    "import numpy as np\n",
    "from tensorflow.keras.datasets import fashion_mnist\n",
    "\n",
    "(x_train, y_train), (x_val, y_val) = fashion_mnist.load_data()\n",
    "\n",
    "os.makedirs(\"./data\", exist_ok = True)\n",
    "np.savez('./data/training', image=x_train, label=y_train)\n",
    "np.savez('./data/validation', image=x_val, label=y_val)"
   ]
  },
  {
   "cell_type": "code",
   "execution_count": null,
   "metadata": {},
   "outputs": [],
   "source": [
    "import random, json\n",
    "import sagemaker\n",
    "from sagemaker.predictor import Predictor\n",
    "\n",
    "tf_predictor = Predictor(endpoint_name)\n",
    "tf_predictor.serializer =  sagemaker.serializers.JSONSerializer()\n",
    "tf_predictor.deserializer =  sagemaker.deserializers.JSONDeserializer()\n",
    "\n",
    "\n",
    "def predict_fmnist(num_samples=10):\n",
    "    while True:\n",
    "        indices = random.sample(range(x_val.shape[0] - 1), num_samples)\n",
    "        images = x_val[indices]/255\n",
    "        labels = y_val[indices]\n",
    "        payload = images.reshape(num_samples, 28, 28, 1)\n",
    "        response = tf_predictor.predict(payload)\n",
    "        #print(response)\n",
    "        prediction = np.array(response['predictions'])\n",
    "        #predicted_label = prediction.argmax(axis=1)\n",
    "        #print('Predicted labels are: {}'.format(predicted_label))"
   ]
  },
  {
   "cell_type": "code",
   "execution_count": null,
   "metadata": {},
   "outputs": [],
   "source": [
    "from threading import Thread\n",
    "from time import sleep\n",
    "\n",
    "thread = Thread(target=predict_fmnist)\n",
    "thread.start()"
   ]
  },
  {
   "cell_type": "code",
   "execution_count": null,
   "metadata": {},
   "outputs": [],
   "source": []
  }
 ],
 "metadata": {
  "kernelspec": {
   "display_name": "Python 3 (TensorFlow 2.3 Python 3.7 CPU Optimized)",
   "language": "python",
   "name": "python3__SAGEMAKER_INTERNAL__arn:aws:sagemaker:eu-west-1:470317259841:image/tensorflow-2.3-cpu-py37-ubuntu18.04-v1"
  },
  "language_info": {
   "codemirror_mode": {
    "name": "ipython",
    "version": 3
   },
   "file_extension": ".py",
   "mimetype": "text/x-python",
   "name": "python",
   "nbconvert_exporter": "python",
   "pygments_lexer": "ipython3",
   "version": "3.7.10"
  }
 },
 "nbformat": 4,
 "nbformat_minor": 4
}
