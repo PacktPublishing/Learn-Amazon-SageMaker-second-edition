{
 "cells": [
  {
   "cell_type": "code",
   "execution_count": null,
   "metadata": {},
   "outputs": [],
   "source": [
    "%%sh\n",
    "pip install -q sagemaker --upgrade"
   ]
  },
  {
   "cell_type": "code",
   "execution_count": null,
   "metadata": {},
   "outputs": [],
   "source": [
    "import json\n",
    "import time\n",
    "from time import gmtime, strftime"
   ]
  },
  {
   "cell_type": "code",
   "execution_count": null,
   "metadata": {},
   "outputs": [],
   "source": [
    "import sagemaker\n",
    "\n",
    "from sagemaker.processing import ProcessingInput, ProcessingOutput\n",
    "from sagemaker.inputs import TrainingInput, CreateModelInput\n",
    "from sagemaker.sklearn.processing import SKLearnProcessor\n",
    "from sagemaker.workflow.parameters import ParameterInteger, ParameterString\n",
    "from sagemaker.workflow.steps import ProcessingStep, TrainingStep, CreateModelStep\n",
    "from sagemaker.workflow.step_collections import RegisterModel\n",
    "\n",
    "from sagemaker import image_uris\n",
    "from sagemaker.estimator import Estimator\n",
    "\n",
    "print(sagemaker.__version__)\n",
    "\n",
    "session = sagemaker.Session()\n",
    "role = sagemaker.get_execution_role()\n",
    "bucket = session.default_bucket()"
   ]
  },
  {
   "cell_type": "markdown",
   "metadata": {},
   "source": [
    "## Upload customer reviews to one of our S3 buckets"
   ]
  },
  {
   "cell_type": "code",
   "execution_count": null,
   "metadata": {},
   "outputs": [],
   "source": [
    "%%sh\n",
    "# https://s3.amazonaws.com/amazon-reviews-pds/readme.html\n",
    "aws s3 cp s3://amazon-reviews-pds/tsv/amazon_reviews_us_Camera_v1_00.tsv.gz /tmp"
   ]
  },
  {
   "cell_type": "code",
   "execution_count": null,
   "metadata": {},
   "outputs": [],
   "source": [
    "prefix = 'amazon-reviews-camera'\n",
    "\n",
    "input_data_uri = session.upload_data(\n",
    "    path='/tmp/amazon_reviews_us_Camera_v1_00.tsv.gz', \n",
    "    key_prefix=prefix)"
   ]
  },
  {
   "cell_type": "markdown",
   "metadata": {},
   "source": [
    "## Define workflow parameters"
   ]
  },
  {
   "cell_type": "code",
   "execution_count": null,
   "metadata": {},
   "outputs": [],
   "source": [
    "region = ParameterString(\n",
    "    name='Region',\n",
    "    default_value='eu-west-1'\n",
    ")\n",
    "\n",
    "processing_instance_count = ParameterInteger(\n",
    "    name='ProcessingInstanceCount',\n",
    "    default_value=1\n",
    ")\n",
    "\n",
    "processing_instance_type = ParameterString(\n",
    "    name='ProcessingInstanceType',\n",
    "    default_value='ml.m5.4xlarge'\n",
    ")\n",
    "\n",
    "training_instance_type = ParameterString(\n",
    "    name='TrainingInstanceType',\n",
    "    default_value='ml.p3.2xlarge'\n",
    ")\n",
    "\n",
    "training_instance_count = ParameterInteger(\n",
    "    name='TrainingInstanceCount',\n",
    "    default_value=1\n",
    ")\n",
    "\n",
    "model_approval_status = ParameterString(\n",
    "    name='ModelApprovalStatus',\n",
    "    default_value='PendingManualApproval'\n",
    ")\n",
    "\n",
    "input_data = ParameterString(\n",
    "    name='InputData'\n",
    ")\n",
    "\n",
    "model_name = ParameterString(\n",
    "    name='ModelName'\n",
    ")"
   ]
  },
  {
   "cell_type": "markdown",
   "metadata": {},
   "source": [
    "## Define the preprocessing step"
   ]
  },
  {
   "cell_type": "code",
   "execution_count": null,
   "metadata": {},
   "outputs": [],
   "source": [
    "sklearn_processor = SKLearnProcessor(\n",
    "    framework_version='0.23-1',\n",
    "    role=role,\n",
    "    instance_type=processing_instance_type,\n",
    "    instance_count=processing_instance_count)"
   ]
  },
  {
   "cell_type": "code",
   "execution_count": null,
   "metadata": {},
   "outputs": [],
   "source": [
    "step_process = ProcessingStep(\n",
    "    name='process-customer-reviews',\n",
    "    processor=sklearn_processor,\n",
    "    inputs=[\n",
    "      ProcessingInput(source=input_data, destination=\"/opt/ml/processing/input\")  \n",
    "    ],\n",
    "    outputs=[\n",
    "        ProcessingOutput(\n",
    "                output_name='bt_data',\n",
    "                source='/opt/ml/processing/output/bt'),\n",
    "        ProcessingOutput(\n",
    "                output_name='fs_data',\n",
    "                source='/opt/ml/processing/output/fs')\n",
    "    ],\n",
    "    code='preprocessing.py',\n",
    "    job_arguments=[\n",
    "               '--filename', 'amazon_reviews_us_Camera_v1_00.tsv.gz',\n",
    "               #'--num-reviews', '10000',\n",
    "               '--library', 'spacy'  # 'spacy' or 'nltk'\n",
    "    ]\n",
    ")"
   ]
  },
  {
   "cell_type": "markdown",
   "metadata": {},
   "source": [
    "## Define the feature ingestion step"
   ]
  },
  {
   "cell_type": "code",
   "execution_count": null,
   "metadata": {},
   "outputs": [],
   "source": [
    "feature_group_name = 'amazon-reviews-feature-group-' + strftime('%d-%H-%M-%S', gmtime())"
   ]
  },
  {
   "cell_type": "code",
   "execution_count": null,
   "metadata": {},
   "outputs": [],
   "source": [
    "step_ingest = ProcessingStep(\n",
    "    name='ingest-customer-reviews',\n",
    "    processor=sklearn_processor,\n",
    "    inputs=[\n",
    "      ProcessingInput(\n",
    "          source=step_process.properties.ProcessingOutputConfig.Outputs['fs_data'].S3Output.S3Uri, \n",
    "          destination=\"/opt/ml/processing/input\"),\n",
    "     ],\n",
    "    # https://docs.aws.amazon.com/sagemaker/latest/APIReference/API_DescribeProcessingJob.html\n",
    "    outputs = [\n",
    "      ProcessingOutput(\n",
    "                output_name='feature_group_name',\n",
    "                source='/opt/ml/processing/output/')\n",
    "    ],\n",
    "    code='ingesting.py',\n",
    "    job_arguments=[\n",
    "               '--region', region,\n",
    "               '--bucket', bucket,  # For offline store\n",
    "               '--role', role,\n",
    "               '--feature-group-name', feature_group_name,\n",
    "               '--max-workers', '32'\n",
    "    ]\n",
    ")"
   ]
  },
  {
   "cell_type": "markdown",
   "metadata": {},
   "source": [
    "## Define the dataset step"
   ]
  },
  {
   "cell_type": "code",
   "execution_count": null,
   "metadata": {},
   "outputs": [],
   "source": [
    "step_build_dataset = ProcessingStep(\n",
    "    name='build-dataset',\n",
    "    processor=sklearn_processor,\n",
    "    inputs=[\n",
    "      ProcessingInput(\n",
    "          source=step_ingest.properties.ProcessingOutputConfig.Outputs['feature_group_name'].S3Output.S3Uri, \n",
    "          destination='/opt/ml/processing/input'),  \n",
    "    ],\n",
    "    outputs=[\n",
    "        ProcessingOutput(\n",
    "                output_name='training',\n",
    "                source='/opt/ml/processing/output/training'\n",
    "        ),\n",
    "        ProcessingOutput(\n",
    "                output_name='validation',\n",
    "                source='/opt/ml/processing/output/validation'),\n",
    "    ],\n",
    "    code='querying.py',\n",
    "    job_arguments=[\n",
    "               '--region', region,\n",
    "               '--bucket', bucket,  # For query results\n",
    "    ]\n",
    ")"
   ]
  },
  {
   "cell_type": "markdown",
   "metadata": {},
   "source": [
    "## Define the training step"
   ]
  },
  {
   "cell_type": "code",
   "execution_count": null,
   "metadata": {},
   "outputs": [],
   "source": [
    "container = image_uris.retrieve('blazingtext', str(region))     # region is a ParameterString...\n",
    "\n",
    "prefix = 'blazing-text-amazon-reviews'\n",
    "s3_output = 's3://{}/{}/output/'.format(bucket, prefix)\n",
    "\n",
    "bt = Estimator(container,\n",
    "               role,\n",
    "               instance_count=training_instance_count, \n",
    "               instance_type=training_instance_type,\n",
    "               output_path=s3_output\n",
    ")\n",
    "\n",
    "bt.set_hyperparameters(mode='supervised')"
   ]
  },
  {
   "cell_type": "code",
   "execution_count": null,
   "metadata": {},
   "outputs": [],
   "source": [
    "step_train = TrainingStep(\n",
    "    name='train-blazing-text',\n",
    "    estimator=bt,\n",
    "    inputs={\n",
    "        'train': TrainingInput(\n",
    "            s3_data=step_build_dataset.properties.ProcessingOutputConfig.Outputs['training'].S3Output.S3Uri,\n",
    "            content_type='text/plain'\n",
    "        ),\n",
    "        'validation': TrainingInput(\n",
    "            s3_data=step_build_dataset.properties.ProcessingOutputConfig.Outputs['validation'].S3Output.S3Uri,\n",
    "            content_type='text/plain'\n",
    "        )\n",
    "    }\n",
    ")"
   ]
  },
  {
   "cell_type": "markdown",
   "metadata": {},
   "source": [
    "## Define the model creation step"
   ]
  },
  {
   "cell_type": "code",
   "execution_count": null,
   "metadata": {},
   "outputs": [],
   "source": [
    "from sagemaker.model import Model\n",
    "\n",
    "model = Model(\n",
    "    image_uri=container,\n",
    "    model_data=step_train.properties.ModelArtifacts.S3ModelArtifacts,\n",
    "    sagemaker_session=session,\n",
    "    name=model_name,\n",
    "    role=role\n",
    ")\n",
    "\n",
    "step_create_model = CreateModelStep(\n",
    "    name='create-model',\n",
    "    model=model,\n",
    "    inputs=None\n",
    ")"
   ]
  },
  {
   "cell_type": "markdown",
   "metadata": {},
   "source": [
    "## Define the registration step"
   ]
  },
  {
   "cell_type": "code",
   "execution_count": null,
   "metadata": {},
   "outputs": [],
   "source": [
    "step_register = RegisterModel(\n",
    "    name='register-model',\n",
    "    estimator=bt,\n",
    "    model_data=step_train.properties.ModelArtifacts.S3ModelArtifacts,\n",
    "    content_types=['text/plain'],\n",
    "    response_types=['application/json'],\n",
    "    inference_instances=['ml.t2.medium'],\n",
    "    transform_instances=['ml.m5.xlarge'],\n",
    "    model_package_group_name='blazing-text-on-amazon-customer-reviews-package',\n",
    "    approval_status=model_approval_status\n",
    ")"
   ]
  },
  {
   "cell_type": "markdown",
   "metadata": {},
   "source": [
    "## Assemble the pipeline"
   ]
  },
  {
   "cell_type": "code",
   "execution_count": null,
   "metadata": {},
   "outputs": [],
   "source": [
    "from sagemaker.workflow.pipeline import Pipeline\n",
    "\n",
    "pipeline_name = 'blazing-text-amazon-customer-reviews'\n",
    "\n",
    "pipeline = Pipeline(\n",
    "    name=pipeline_name,\n",
    "    parameters=[\n",
    "        region,\n",
    "        processing_instance_type, \n",
    "        processing_instance_count,\n",
    "        training_instance_type,\n",
    "        training_instance_count,\n",
    "        model_approval_status,\n",
    "        input_data,\n",
    "        model_name\n",
    "    ],\n",
    "    steps=[step_process, step_ingest, step_build_dataset, step_train, step_create_model, step_register]\n",
    ")"
   ]
  },
  {
   "cell_type": "markdown",
   "metadata": {},
   "source": [
    "## Run pipeline"
   ]
  },
  {
   "cell_type": "code",
   "execution_count": null,
   "metadata": {},
   "outputs": [],
   "source": [
    "pipeline.upsert(role_arn=role)\n",
    "\n",
    "execution = pipeline.start(\n",
    "    parameters=dict(\n",
    "        InputData=input_data_uri,\n",
    "        ModelName='blazing-text-amazon-reviews'\n",
    "    )\n",
    ")"
   ]
  },
  {
   "cell_type": "code",
   "execution_count": null,
   "metadata": {},
   "outputs": [],
   "source": [
    "execution.list_steps()"
   ]
  },
  {
   "cell_type": "code",
   "execution_count": null,
   "metadata": {},
   "outputs": [],
   "source": [
    "from sagemaker.lineage.visualizer import LineageTableVisualizer\n",
    "\n",
    "viz = LineageTableVisualizer(session)\n",
    "for execution_step in reversed(execution.list_steps()):\n",
    "    print(execution_step)\n",
    "    display(viz.show(pipeline_execution_step=execution_step))\n",
    "    time.sleep(5)"
   ]
  },
  {
   "cell_type": "markdown",
   "metadata": {},
   "source": [
    "## Deploy model"
   ]
  },
  {
   "cell_type": "code",
   "execution_count": null,
   "metadata": {},
   "outputs": [],
   "source": [
    "# This info is available in the model registry\n",
    "\n",
    "model_package_arn = 'MODEL_PACKAGE_ARN'"
   ]
  },
  {
   "cell_type": "code",
   "execution_count": null,
   "metadata": {},
   "outputs": [],
   "source": [
    "from sagemaker import ModelPackage\n",
    "\n",
    "model = sagemaker.ModelPackage(\n",
    "    role = role,\n",
    "    model_package_arn = model_package_arn\n",
    ")\n",
    "\n",
    "model.deploy(\n",
    "    initial_instance_count = 1, \n",
    "    instance_type = 'ml.t2.medium', \n",
    "    endpoint_name='blazing-text-on-amazon-reviews'\n",
    ")"
   ]
  },
  {
   "cell_type": "code",
   "execution_count": null,
   "metadata": {},
   "outputs": [],
   "source": [
    "instances = [' I really love this camera , it takes amazing pictures . ',\n",
    "            ' this camera is ok , it gets the job done . Nothing fancy . ', \n",
    "            ' Poor quality , the camera stopped working after a couple of days .']"
   ]
  },
  {
   "cell_type": "code",
   "execution_count": null,
   "metadata": {},
   "outputs": [],
   "source": [
    "from sagemaker.predictor import Predictor\n",
    "\n",
    "bt_predictor = Predictor(\n",
    "    endpoint_name='blazing-text-on-amazon-reviews',\n",
    "    serializer=sagemaker.serializers.JSONSerializer(),\n",
    "    deserializer=sagemaker.deserializers.JSONDeserializer()\n",
    ")"
   ]
  },
  {
   "cell_type": "markdown",
   "metadata": {},
   "source": [
    "## Predict with model"
   ]
  },
  {
   "cell_type": "code",
   "execution_count": null,
   "metadata": {},
   "outputs": [],
   "source": [
    "import pprint\n",
    "\n",
    "payload = {'instances': instances, 'configuration': {'k': 3}}\n",
    "response = bt_predictor.predict(payload)\n",
    "                                \n",
    "pprint.pprint(response)"
   ]
  },
  {
   "cell_type": "code",
   "execution_count": null,
   "metadata": {},
   "outputs": [],
   "source": [
    "bt_predictor.delete_endpoint()"
   ]
  },
  {
   "cell_type": "code",
   "execution_count": null,
   "metadata": {},
   "outputs": [],
   "source": []
  },
  {
   "cell_type": "code",
   "execution_count": null,
   "metadata": {},
   "outputs": [],
   "source": []
  }
 ],
 "metadata": {
  "instance_type": "ml.t3.medium",
  "kernelspec": {
   "display_name": "Python 3 (Data Science)",
   "language": "python",
   "name": "python3__SAGEMAKER_INTERNAL__arn:aws:sagemaker:eu-west-1:470317259841:image/datascience-1.0"
  },
  "language_info": {
   "codemirror_mode": {
    "name": "ipython",
    "version": 3
   },
   "file_extension": ".py",
   "mimetype": "text/x-python",
   "name": "python",
   "nbconvert_exporter": "python",
   "pygments_lexer": "ipython3",
   "version": "3.7.10"
  }
 },
 "nbformat": 4,
 "nbformat_minor": 4
}
