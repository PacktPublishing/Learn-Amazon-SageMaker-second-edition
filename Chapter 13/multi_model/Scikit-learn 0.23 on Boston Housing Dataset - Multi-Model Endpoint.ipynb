{
 "cells": [
  {
   "cell_type": "code",
   "execution_count": null,
   "metadata": {},
   "outputs": [],
   "source": [
    "import sagemaker\n",
    "\n",
    "print(sagemaker.__version__)"
   ]
  },
  {
   "cell_type": "code",
   "execution_count": null,
   "metadata": {},
   "outputs": [],
   "source": [
    "sess = sagemaker.Session()\n",
    "bucket = sess.default_bucket()   \n",
    "role   = sagemaker.get_execution_role()\n",
    "\n",
    "prefix = 'sklearn-boston-housing-mme'\n",
    "\n",
    "training = sess.upload_data(path='housing.csv', key_prefix=prefix + \"/training\")\n",
    "output   = 's3://{}/{}/output/'.format(bucket,prefix)\n",
    "print(training)\n",
    "print(output)"
   ]
  },
  {
   "cell_type": "code",
   "execution_count": null,
   "metadata": {},
   "outputs": [],
   "source": [
    "from sagemaker.sklearn import SKLearn\n",
    "\n",
    "jobs =  {}\n",
    "for test_size in [0.2, 0.1, 0.05]:\n",
    "    sk = SKLearn(entry_point='sklearn-boston-housing.py',\n",
    "                 role=role,\n",
    "                 framework_version='0.23-1',\n",
    "                 instance_count=1, \n",
    "                 instance_type='ml.m5.large',\n",
    "                 output_path=output,\n",
    "                 hyperparameters={\n",
    "                      'normalize': True,\n",
    "                      'test-size': test_size,\n",
    "                  }\n",
    "    )\n",
    "    sk.fit({'training':training}, wait=False)\n",
    "    jobs[sk.latest_training_job.name] = {}\n",
    "    jobs[sk.latest_training_job.name]['test-size'] = test_size"
   ]
  },
  {
   "cell_type": "code",
   "execution_count": null,
   "metadata": {},
   "outputs": [],
   "source": [
    "jobs"
   ]
  },
  {
   "cell_type": "markdown",
   "metadata": {},
   "source": [
    "Wait for models to be trained before moving to the next cell."
   ]
  },
  {
   "cell_type": "code",
   "execution_count": null,
   "metadata": {},
   "outputs": [],
   "source": [
    "import boto3\n",
    "sm = boto3.client('sagemaker')\n",
    "\n",
    "for j in jobs.keys():\n",
    "    job = sm.describe_training_job(TrainingJobName=j)\n",
    "    jobs[j]['artifact'] = job['ModelArtifacts']['S3ModelArtifacts']\n",
    "    jobs[j]['key'] = '/'.join(job['ModelArtifacts']['S3ModelArtifacts'].split('/')[3:8])"
   ]
  },
  {
   "cell_type": "code",
   "execution_count": null,
   "metadata": {},
   "outputs": [],
   "source": [
    "%%sh -s \"$bucket\" \"$prefix\"\n",
    "\n",
    "# Clean up all old models\n",
    "aws s3 rm --recursive s3://$1/$2/models"
   ]
  },
  {
   "cell_type": "code",
   "execution_count": null,
   "metadata": {},
   "outputs": [],
   "source": [
    "s3 = boto3.client('s3')\n",
    "\n",
    "for j in jobs.keys():\n",
    "    print(bucket)\n",
    "    print(jobs[j]['key'])\n",
    "    copy_source = { 'Bucket': bucket, 'Key': jobs[j]['key'] }\n",
    "    s3.copy_object(CopySource=copy_source, Bucket=bucket, Key=prefix+'/models/'+j+'.tar.gz')\n",
    "\n",
    "response = s3.list_objects(Bucket=bucket, Prefix=prefix+'/models/')\n",
    "for o in response['Contents']:\n",
    "    print(o['Key'])"
   ]
  },
  {
   "cell_type": "code",
   "execution_count": null,
   "metadata": {},
   "outputs": [],
   "source": [
    "script = 'sklearn-boston-housing.py'\n",
    "script_archive = 's3://{}/{}/source/source.tar.gz'.format(bucket, prefix)\n",
    "\n",
    "print(script)\n",
    "print(script_archive)"
   ]
  },
  {
   "cell_type": "code",
   "execution_count": null,
   "metadata": {},
   "outputs": [],
   "source": [
    "%%sh -s \"$script\" \"$script_archive\"\n",
    "tar cvfz source.tar.gz $1\n",
    "aws s3 cp source.tar.gz $2"
   ]
  },
  {
   "cell_type": "code",
   "execution_count": null,
   "metadata": {},
   "outputs": [],
   "source": [
    "print(sk.image_uri)"
   ]
  },
  {
   "cell_type": "code",
   "execution_count": null,
   "metadata": {},
   "outputs": [],
   "source": [
    "import time\n",
    "\n",
    "model_name = prefix+'-'+time.strftime(\"%Y-%m-%d-%H-%M-%S\", time.gmtime())\n",
    "\n",
    "response = sm.create_model(\n",
    "    ModelName = model_name,\n",
    "    ExecutionRoleArn = role,\n",
    "    Containers = [\n",
    "        {\n",
    "            'Image': sk.image_uri,\n",
    "            'ModelDataUrl': 's3://{}/{}/models/'.format(bucket, prefix),\n",
    "            'Mode': 'MultiModel',\n",
    "            'Environment': {\n",
    "                'SAGEMAKER_PROGRAM' : script,\n",
    "                'SAGEMAKER_SUBMIT_DIRECTORY' : script_archive\n",
    "            }\n",
    "        }\n",
    "    ]\n",
    ")\n",
    "\n",
    "print(response)"
   ]
  },
  {
   "cell_type": "code",
   "execution_count": null,
   "metadata": {},
   "outputs": [],
   "source": [
    "epc_name = prefix+'-epc'+time.strftime(\"%Y-%m-%d-%H-%M-%S\", time.gmtime())\n",
    "\n",
    "response = sm.create_endpoint_config(\n",
    "    EndpointConfigName = epc_name,\n",
    "    ProductionVariants=[{\n",
    "        'InstanceType': 'ml.m5.large',\n",
    "        'InitialInstanceCount': 1,\n",
    "        'InitialVariantWeight': 1,\n",
    "        'ModelName': model_name,\n",
    "        'VariantName': 'variant-1'}\n",
    "    ]\n",
    ")\n",
    "\n",
    "print(response)"
   ]
  },
  {
   "cell_type": "code",
   "execution_count": null,
   "metadata": {},
   "outputs": [],
   "source": [
    "ep_name = prefix+'-ep'+time.strftime(\"%Y-%m-%d-%H-%M-%S\", time.gmtime())\n",
    "\n",
    "response = sm.create_endpoint(\n",
    "    EndpointName=ep_name,\n",
    "    EndpointConfigName=epc_name)\n",
    "\n",
    "print(response)"
   ]
  },
  {
   "cell_type": "code",
   "execution_count": null,
   "metadata": {},
   "outputs": [],
   "source": [
    "sm.describe_endpoint(EndpointName=ep_name)"
   ]
  },
  {
   "cell_type": "code",
   "execution_count": null,
   "metadata": {},
   "outputs": [],
   "source": [
    "waiter = sm.get_waiter('endpoint_in_service')\n",
    "waiter.wait(EndpointName=ep_name)"
   ]
  },
  {
   "cell_type": "code",
   "execution_count": null,
   "metadata": {},
   "outputs": [],
   "source": [
    "import pandas as pd\n",
    "import numpy as np\n",
    "from io import BytesIO\n",
    "\n",
    "data = pd.read_csv('housing.csv')\n",
    "payload = data[:1].drop(['medv'], axis=1)\n",
    "buffer = BytesIO()\n",
    "np.save(buffer, payload.values)"
   ]
  },
  {
   "cell_type": "code",
   "execution_count": null,
   "metadata": {},
   "outputs": [],
   "source": [
    "smrt = boto3.client('runtime.sagemaker')\n",
    "\n",
    "for j in jobs.keys():\n",
    "    model_name=j+'.tar.gz'\n",
    "    print(model_name)\n",
    "    response = smrt.invoke_endpoint(\n",
    "        EndpointName=ep_name,\n",
    "        TargetModel=model_name,\n",
    "        Body=buffer.getvalue(),\n",
    "        ContentType='application/x-npy')\n",
    "\n",
    "    print(response['Body'].read())"
   ]
  },
  {
   "cell_type": "code",
   "execution_count": null,
   "metadata": {},
   "outputs": [],
   "source": [
    "sk = SKLearn(entry_point='sklearn-boston-housing.py',\n",
    "                 role=role,\n",
    "                 framework_version='0.23-1',\n",
    "                 instance_count=1, \n",
    "                 instance_type='ml.m5.large',\n",
    "                 output_path=output,\n",
    "                 hyperparameters={\n",
    "                      'normalize': False,\n",
    "                      'test-size': 0.15,\n",
    "                  }\n",
    ")\n",
    "\n",
    "sk.fit({'training':training})"
   ]
  },
  {
   "cell_type": "code",
   "execution_count": null,
   "metadata": {},
   "outputs": [],
   "source": [
    "job = sm.describe_training_job(TrainingJobName=sk.latest_training_job.name)\n",
    "job_name = sk.latest_training_job.name\n",
    "artifact = job['ModelArtifacts']['S3ModelArtifacts']"
   ]
  },
  {
   "cell_type": "code",
   "execution_count": null,
   "metadata": {},
   "outputs": [],
   "source": [
    "%%sh -s \"$artifact\" \"$bucket\" \"$prefix\" \"$job_name\"\n",
    "aws s3 cp $1 s3://$2/$3/models/$4.tar.gz\n",
    "aws s3 ls s3://$2/$3/models/"
   ]
  },
  {
   "cell_type": "code",
   "execution_count": null,
   "metadata": {},
   "outputs": [],
   "source": [
    "model_name=job_name+'.tar.gz'\n",
    "print(model_name)\n",
    "\n",
    "response = smrt.invoke_endpoint(\n",
    "    EndpointName=ep_name,\n",
    "    TargetModel=model_name,\n",
    "    Body=buffer.getvalue(),\n",
    "    ContentType='application/x-npy')\n",
    "\n",
    "print(response['Body'].read())"
   ]
  },
  {
   "cell_type": "code",
   "execution_count": null,
   "metadata": {},
   "outputs": [],
   "source": [
    "sm.delete_endpoint(EndpointName=ep_name)"
   ]
  },
  {
   "cell_type": "code",
   "execution_count": null,
   "metadata": {},
   "outputs": [],
   "source": [
    "sm.delete_endpoint_config(EndpointConfigName=epc_name)"
   ]
  },
  {
   "cell_type": "code",
   "execution_count": null,
   "metadata": {},
   "outputs": [],
   "source": []
  }
 ],
 "metadata": {
  "instance_type": "ml.t3.medium",
  "kernelspec": {
   "display_name": "Python 3 (Data Science)",
   "language": "python",
   "name": "python3__SAGEMAKER_INTERNAL__arn:aws:sagemaker:us-east-1:081325390199:image/datascience-1.0"
  },
  "language_info": {
   "codemirror_mode": {
    "name": "ipython",
    "version": 3
   },
   "file_extension": ".py",
   "mimetype": "text/x-python",
   "name": "python",
   "nbconvert_exporter": "python",
   "pygments_lexer": "ipython3",
   "version": "3.7.10"
  }
 },
 "nbformat": 4,
 "nbformat_minor": 4
}
