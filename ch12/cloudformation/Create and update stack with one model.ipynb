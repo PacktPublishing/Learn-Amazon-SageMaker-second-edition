{
 "cells": [
  {
   "cell_type": "code",
   "execution_count": null,
   "metadata": {},
   "outputs": [],
   "source": [
    "!pygmentize endpoint-one-model.yml"
   ]
  },
  {
   "cell_type": "code",
   "execution_count": null,
   "metadata": {},
   "outputs": [],
   "source": [
    "import boto3\n",
    "\n",
    "sm = boto3.client('sagemaker')\n",
    "cf = boto3.client('cloudformation')"
   ]
  },
  {
   "cell_type": "markdown",
   "metadata": {},
   "source": [
    "## Create one-model endpoint"
   ]
  },
  {
   "cell_type": "code",
   "execution_count": null,
   "metadata": {},
   "outputs": [],
   "source": [
    "# Update this with your own model name\n",
    "training_job = 'tensorflow-training-2021-05-28-14-25-57-394'\n",
    "\n",
    "job = sm.describe_training_job(TrainingJobName=training_job)\n",
    "model_data_url = job['ModelArtifacts']['S3ModelArtifacts']\n",
    "role_arn       = job['RoleArn']\n",
    "\n",
    "# https://github.com/aws/deep-learning-containers/blob/master/available_images.md\n",
    "container_image = '763104351884.dkr.ecr.eu-west-1.amazonaws.com/tensorflow-inference:2.1.0-cpu-py36-ubuntu18.04'"
   ]
  },
  {
   "cell_type": "code",
   "execution_count": null,
   "metadata": {},
   "outputs": [],
   "source": [
    "import time\n",
    "\n",
    "timestamp = time.strftime(\"%Y-%m-%d-%H-%M-%S\", time.gmtime())\n",
    "\n",
    "stack_name='endpoint-one-model-'+timestamp\n",
    "print(stack_name)\n",
    "\n",
    "with open('endpoint-one-model.yml', 'r') as f:\n",
    "        response = cf.create_stack(StackName=stack_name,\n",
    "                   TemplateBody=f.read(),\n",
    "                   Parameters=[\n",
    "                        {\"ParameterKey\":\"ModelName\",     \"ParameterValue\":training_job+'-'+timestamp},\n",
    "                        {\"ParameterKey\":\"ContainerImage\",\"ParameterValue\":container_image},\n",
    "                        {\"ParameterKey\":\"ModelDataUrl\",  \"ParameterValue\":model_data_url},\n",
    "                        {\"ParameterKey\":\"RoleArn\",       \"ParameterValue\":role_arn} ])\n",
    "        print(response)"
   ]
  },
  {
   "cell_type": "code",
   "execution_count": null,
   "metadata": {},
   "outputs": [],
   "source": [
    "waiter = cf.get_waiter('stack_create_complete')\n",
    "waiter.wait(StackName=stack_name)"
   ]
  },
  {
   "cell_type": "code",
   "execution_count": null,
   "metadata": {},
   "outputs": [],
   "source": [
    "response = cf.describe_stack_events(StackName=stack_name)\n",
    "\n",
    "for e in response['StackEvents']:\n",
    "    print('%s %s' % (e['ResourceType'], e['ResourceStatus']))"
   ]
  },
  {
   "cell_type": "code",
   "execution_count": null,
   "metadata": {},
   "outputs": [],
   "source": [
    "response = cf.describe_stacks(StackName=stack_name)\n",
    "\n",
    "print(response['Stacks'][0]['StackStatus'])\n",
    "for o in response['Stacks'][0]['Outputs']:\n",
    "    if o['OutputKey']=='EndpointName':\n",
    "        endpoint_name = o['OutputValue']\n",
    "\n",
    "print(endpoint_name)"
   ]
  },
  {
   "cell_type": "markdown",
   "metadata": {},
   "source": [
    "## Apply change set to update instance count"
   ]
  },
  {
   "cell_type": "code",
   "execution_count": null,
   "metadata": {},
   "outputs": [],
   "source": [
    "response = cf.create_change_set(\n",
    "    StackName=stack_name,\n",
    "    ChangeSetName='add-instance',\n",
    "    UsePreviousTemplate=True,\n",
    "    Parameters=[\n",
    "        {\"ParameterKey\":\"InstanceCount\", \"ParameterValue\": \"2\"},\n",
    "        {\"ParameterKey\":\"ModelName\",     \"UsePreviousValue\": True},\n",
    "        {\"ParameterKey\":\"ContainerImage\",\"UsePreviousValue\": True},\n",
    "        {\"ParameterKey\":\"ModelDataUrl\",  \"UsePreviousValue\": True},\n",
    "        {\"ParameterKey\":\"RoleArn\",       \"UsePreviousValue\": True}\n",
    "    ]\n",
    ")\n",
    "\n",
    "response"
   ]
  },
  {
   "cell_type": "code",
   "execution_count": null,
   "metadata": {},
   "outputs": [],
   "source": [
    "waiter = cf.get_waiter('change_set_create_complete')\n",
    "waiter.wait(\n",
    "    StackName=stack_name, \n",
    "    ChangeSetName='add-instance'\n",
    ")"
   ]
  },
  {
   "cell_type": "code",
   "execution_count": null,
   "metadata": {},
   "outputs": [],
   "source": [
    "response = cf.describe_change_set(\n",
    "    StackName=stack_name,\n",
    "    ChangeSetName='add-instance'\n",
    ")\n",
    "\n",
    "response['Changes']"
   ]
  },
  {
   "cell_type": "code",
   "execution_count": null,
   "metadata": {},
   "outputs": [],
   "source": [
    "response = cf.execute_change_set(\n",
    "    StackName=stack_name,\n",
    "    ChangeSetName='add-instance'\n",
    ")\n",
    "\n",
    "response"
   ]
  },
  {
   "cell_type": "code",
   "execution_count": null,
   "metadata": {},
   "outputs": [],
   "source": [
    "response = cf.describe_stacks(StackName=stack_name)\n",
    "\n",
    "print(response['Stacks'][0]['StackStatus'])"
   ]
  },
  {
   "cell_type": "code",
   "execution_count": null,
   "metadata": {},
   "outputs": [],
   "source": [
    "response = cf.describe_stack_events(StackName=stack_name)\n",
    "\n",
    "for e in response['StackEvents']:\n",
    "    print('%s %s' % (e['ResourceType'], e['ResourceStatus']))"
   ]
  },
  {
   "cell_type": "code",
   "execution_count": null,
   "metadata": {},
   "outputs": [],
   "source": [
    "waiter = cf.get_waiter('stack_update_complete')\n",
    "waiter.wait(StackName=stack_name)"
   ]
  },
  {
   "cell_type": "code",
   "execution_count": null,
   "metadata": {},
   "outputs": [],
   "source": [
    "response = sm.describe_endpoint(EndpointName=endpoint_name)\n",
    "\n",
    "response['ProductionVariants'][0]['CurrentInstanceCount']"
   ]
  },
  {
   "cell_type": "markdown",
   "metadata": {},
   "source": [
    "## Apply change set to add second production variant to endpoint"
   ]
  },
  {
   "cell_type": "code",
   "execution_count": null,
   "metadata": {},
   "outputs": [],
   "source": [
    "!pygmentize endpoint-two-models.yml"
   ]
  },
  {
   "cell_type": "code",
   "execution_count": null,
   "metadata": {},
   "outputs": [],
   "source": [
    "# Update this with your own model name\n",
    "training_job_2 = 'tensorflow-training-2021-05-28-14-40-01-442'\n",
    "\n",
    "job_2 = sm.describe_training_job(TrainingJobName=training_job_2)\n",
    "model_data_url_2 = job_2['ModelArtifacts']['S3ModelArtifacts']"
   ]
  },
  {
   "cell_type": "code",
   "execution_count": null,
   "metadata": {},
   "outputs": [],
   "source": [
    "with open('endpoint-two-models.yml', 'r') as f:\n",
    "    response = cf.create_change_set(\n",
    "        StackName=stack_name,\n",
    "        ChangeSetName='add-model',\n",
    "        TemplateBody=f.read(),\n",
    "        Parameters=[\n",
    "            {\"ParameterKey\":\"ModelName\",      \"UsePreviousValue\": True},\n",
    "            {\"ParameterKey\":\"ModelDataUrl\",   \"UsePreviousValue\": True},\n",
    "            {\"ParameterKey\":\"ContainerImage\", \"UsePreviousValue\": True},\n",
    "            {\"ParameterKey\":\"RoleArn\",        \"UsePreviousValue\": True}, \n",
    "            {\"ParameterKey\":\"ModelName2\",     \"ParameterValue\": training_job_2+'-'+timestamp},\n",
    "            {\"ParameterKey\":\"ModelDataUrl2\",  \"ParameterValue\": model_data_url_2}\n",
    "        ]\n",
    "    )\n",
    "\n",
    "response"
   ]
  },
  {
   "cell_type": "code",
   "execution_count": null,
   "metadata": {},
   "outputs": [],
   "source": [
    "waiter = cf.get_waiter('change_set_create_complete')\n",
    "waiter.wait(\n",
    "    StackName=stack_name, \n",
    "    ChangeSetName='add-model'\n",
    ")"
   ]
  },
  {
   "cell_type": "code",
   "execution_count": null,
   "metadata": {},
   "outputs": [],
   "source": [
    "response = cf.describe_change_set(\n",
    "    StackName=stack_name,\n",
    "    ChangeSetName='add-model'\n",
    ")\n",
    "\n",
    "response['Changes']"
   ]
  },
  {
   "cell_type": "code",
   "execution_count": null,
   "metadata": {},
   "outputs": [],
   "source": [
    "response = cf.execute_change_set(\n",
    "    StackName=stack_name,\n",
    "    ChangeSetName='add-model'\n",
    ")\n",
    "\n",
    "response"
   ]
  },
  {
   "cell_type": "code",
   "execution_count": null,
   "metadata": {},
   "outputs": [],
   "source": [
    "waiter = cf.get_waiter('stack_update_complete')\n",
    "waiter.wait(StackName=stack_name)"
   ]
  },
  {
   "cell_type": "code",
   "execution_count": null,
   "metadata": {},
   "outputs": [],
   "source": [
    "response = sm.describe_endpoint(EndpointName=endpoint_name)\n",
    "\n",
    "response['ProductionVariants']"
   ]
  },
  {
   "cell_type": "markdown",
   "metadata": {},
   "source": [
    "## Create a CloudWatch alarm for model latency"
   ]
  },
  {
   "cell_type": "code",
   "execution_count": null,
   "metadata": {},
   "outputs": [],
   "source": [
    "cw = boto3.client('cloudwatch')\n",
    "\n",
    "alarm_name = 'My_endpoint_latency'\n",
    "\n",
    "response = cw.put_metric_alarm(\n",
    "    AlarmName=alarm_name,\n",
    "    ComparisonOperator='GreaterThanThreshold',\n",
    "    EvaluationPeriods=1,\n",
    "    MetricName='ModelLatency',\n",
    "    Namespace='AWS/SageMaker',\n",
    "    Period=60,\n",
    "    Statistic='Average',\n",
    "    Threshold=500000.0,\n",
    "    AlarmDescription='Alarm when 1-minute average latency exceeds 500ms',\n",
    "    Dimensions=[\n",
    "        {\n",
    "          'Name': 'EndpointName',\n",
    "          'Value': endpoint_name\n",
    "        },\n",
    "        {\n",
    "          'Name': 'VariantName',\n",
    "          'Value': 'variant-2'\n",
    "        }\n",
    "    ],\n",
    "    Unit='Microseconds'\n",
    ")\n",
    "\n",
    "response"
   ]
  },
  {
   "cell_type": "code",
   "execution_count": null,
   "metadata": {},
   "outputs": [],
   "source": [
    "response = cw.describe_alarms(AlarmNames=[alarm_name])\n",
    "\n",
    "for a in response['MetricAlarms']:\n",
    "    if a['AlarmName'] == alarm_name:\n",
    "        alarm_arn = a['AlarmArn']\n",
    "        \n",
    "print(alarm_arn)"
   ]
  },
  {
   "cell_type": "markdown",
   "metadata": {},
   "source": [
    "## Canary deployment of second model"
   ]
  },
  {
   "cell_type": "code",
   "execution_count": null,
   "metadata": {},
   "outputs": [],
   "source": [
    "weights = list(range(10,110,10))\n",
    "\n",
    "print(weights)"
   ]
  },
  {
   "cell_type": "code",
   "execution_count": null,
   "metadata": {},
   "outputs": [],
   "source": [
    "for w in weights:\n",
    "    response = cf.update_stack(\n",
    "        StackName=stack_name,\n",
    "        UsePreviousTemplate=True,\n",
    "        Parameters=[\n",
    "            {\"ParameterKey\":\"ModelName\",      \"UsePreviousValue\": True},\n",
    "            {\"ParameterKey\":\"ModelDataUrl\",   \"UsePreviousValue\": True},\n",
    "            {\"ParameterKey\":\"ContainerImage\", \"UsePreviousValue\": True},\n",
    "            {\"ParameterKey\":\"RoleArn\",        \"UsePreviousValue\": True}, \n",
    "            {\"ParameterKey\":\"ModelName2\",     \"UsePreviousValue\": True},\n",
    "            {\"ParameterKey\":\"ModelDataUrl2\",  \"UsePreviousValue\": True},\n",
    "            {\"ParameterKey\":\"VariantWeight\",  \"ParameterValue\": str(100-w)},\n",
    "            {\"ParameterKey\":\"VariantWeight2\", \"ParameterValue\": str(w)}\n",
    "        ],\n",
    "        RollbackConfiguration={\n",
    "            'RollbackTriggers': [\n",
    "                {\n",
    "                    'Arn': alarm_arn,\n",
    "                    'Type': 'AWS::CloudWatch::Alarm'\n",
    "                }\n",
    "            ],\n",
    "            'MonitoringTimeInMinutes': 5\n",
    "        }\n",
    "    )\n",
    "    waiter = cf.get_waiter('stack_update_complete')\n",
    "    waiter.wait(StackName=stack_name)\n",
    "    print(\"Sending %d percent of traffic to new model\" % w)"
   ]
  },
  {
   "cell_type": "code",
   "execution_count": null,
   "metadata": {},
   "outputs": [],
   "source": [
    "cf.delete_stack(StackName=stack_name)"
   ]
  },
  {
   "cell_type": "code",
   "execution_count": null,
   "metadata": {},
   "outputs": [],
   "source": []
  }
 ],
 "metadata": {
  "instance_type": "ml.t3.medium",
  "kernelspec": {
   "display_name": "Python 3 (Data Science)",
   "language": "python",
   "name": "python3__SAGEMAKER_INTERNAL__arn:aws:sagemaker:eu-west-1:470317259841:image/datascience-1.0"
  },
  "language_info": {
   "codemirror_mode": {
    "name": "ipython",
    "version": 3
   },
   "file_extension": ".py",
   "mimetype": "text/x-python",
   "name": "python",
   "nbconvert_exporter": "python",
   "pygments_lexer": "ipython3",
   "version": "3.7.10"
  }
 },
 "nbformat": 4,
 "nbformat_minor": 4
}
