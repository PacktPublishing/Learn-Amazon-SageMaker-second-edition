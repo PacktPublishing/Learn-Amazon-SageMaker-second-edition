{
 "cells": [
  {
   "cell_type": "markdown",
   "metadata": {},
   "source": [
    "# Managing feature versions in SageMaker Feature Store"
   ]
  },
  {
   "cell_type": "code",
   "execution_count": null,
   "metadata": {},
   "outputs": [],
   "source": [
    "import boto3, sagemaker\n",
    "import pandas as pd\n",
    "from sagemaker.session import Session\n",
    "\n",
    "sagemaker_session = Session()\n",
    "region = sagemaker_session.boto_region_name\n",
    "boto_session = boto3.Session(region_name=region)\n",
    "role = sagemaker.get_execution_role()\n",
    "\n",
    "default_bucket = sagemaker_session.default_bucket()\n",
    "prefix = 'amazon-reviews-featurestore'\n",
    "\n",
    "sagemaker_client = boto_session.client(service_name='sagemaker', region_name=region)\n",
    "featurestore_runtime = boto_session.client(service_name='sagemaker-featurestore-runtime', region_name=region)\n",
    "\n",
    "feature_store_session = Session(\n",
    "    boto_session=boto_session,\n",
    "    sagemaker_client=sagemaker_client,\n",
    "    sagemaker_featurestore_runtime_client=featurestore_runtime\n",
    ")"
   ]
  },
  {
   "cell_type": "code",
   "execution_count": null,
   "metadata": {},
   "outputs": [],
   "source": [
    "from sagemaker.feature_store.feature_group import FeatureGroup\n",
    "\n",
    "feature_group_name = # feature group name\n",
    "feature_group = FeatureGroup(name=feature_group_name, sagemaker_session=feature_store_session)"
   ]
  },
  {
   "cell_type": "code",
   "execution_count": null,
   "metadata": {},
   "outputs": [],
   "source": [
    "feature_group_query = feature_group.athena_query()\n",
    "feature_group_table = feature_group_query.table_name\n",
    "\n",
    "print(feature_group_table)"
   ]
  },
  {
   "cell_type": "markdown",
   "metadata": {},
   "source": [
    "## Reading a single record from the online feature store"
   ]
  },
  {
   "cell_type": "code",
   "execution_count": null,
   "metadata": {},
   "outputs": [],
   "source": [
    "record_identifier_value = 'R38H3UO1J190GI'\n",
    "\n",
    "response = featurestore_runtime.get_record(\n",
    "    FeatureGroupName=feature_group_name, \n",
    "    RecordIdentifierValueAsString=record_identifier_value\n",
    "    # FeatureNames=['review_body']\n",
    ")\n",
    "\n",
    "record = response['Record']\n",
    "record"
   ]
  },
  {
   "cell_type": "markdown",
   "metadata": {},
   "source": [
    "## Add a newer version of a record to the online feature store"
   ]
  },
  {
   "cell_type": "code",
   "execution_count": null,
   "metadata": {},
   "outputs": [],
   "source": [
    "import time\n",
    "\n",
    "for feature in record:\n",
    "    if (feature['FeatureName']) == 'star_rating':\n",
    "        feature['ValueAsString'] = '4'\n",
    "    if (feature['FeatureName']) == 'event_time':\n",
    "        feature['ValueAsString'] = str(int(round(time.time())))\n",
    "        \n",
    "record"
   ]
  },
  {
   "cell_type": "code",
   "execution_count": null,
   "metadata": {},
   "outputs": [],
   "source": [
    "response = featurestore_runtime.put_record(\n",
    "    FeatureGroupName=feature_group_name,\n",
    "    Record=record)\n",
    "\n",
    "response"
   ]
  },
  {
   "cell_type": "code",
   "execution_count": null,
   "metadata": {},
   "outputs": [],
   "source": [
    "response = featurestore_runtime.get_record(\n",
    "    FeatureGroupName=feature_group_name, \n",
    "    RecordIdentifierValueAsString=record_identifier_value)\n",
    "\n",
    "record = response['Record']\n",
    "record"
   ]
  },
  {
   "cell_type": "markdown",
   "metadata": {},
   "source": [
    "## Query the offline store\n",
    "... once it's been updated. This could take a few minutes :)"
   ]
  },
  {
   "cell_type": "code",
   "execution_count": null,
   "metadata": {},
   "outputs": [],
   "source": [
    "query_string = 'SELECT review_id,event_time,star_rating,is_deleted FROM \"'+ feature_group_table+'\"' + ' WHERE review_id=\\''+record_identifier_value+'\\';'\n",
    "\n",
    "query_string"
   ]
  },
  {
   "cell_type": "code",
   "execution_count": null,
   "metadata": {},
   "outputs": [],
   "source": [
    "records = pd.DataFrame()\n",
    "feature_group_query.run(query_string=query_string, output_location='s3://'+default_bucket+'/query_results/')\n",
    "feature_group_query.wait()\n",
    "records = feature_group_query.as_dataframe()\n",
    "records.head()"
   ]
  },
  {
   "cell_type": "markdown",
   "metadata": {},
   "source": [
    "## Time-travel in the offline store"
   ]
  },
  {
   "cell_type": "code",
   "execution_count": null,
   "metadata": {},
   "outputs": [],
   "source": [
    "# update timestamp :)\n",
    "\n",
    "query_string = 'SELECT * FROM \"'+ feature_group_table+'\"' + \\\n",
    "' WHERE review_id=\\''+record_identifier_value+'\\' AND event_time < 1616154941 AND NOT is_deleted LIMIT 10;'\n",
    "\n",
    "query_string"
   ]
  },
  {
   "cell_type": "code",
   "execution_count": null,
   "metadata": {},
   "outputs": [],
   "source": [
    "feature_group_query.run(query_string=query_string, output_location='s3://'+default_bucket+'/query_results/')\n",
    "feature_group_query.wait()\n",
    "records = feature_group_query.as_dataframe()\n",
    "records.head()"
   ]
  },
  {
   "cell_type": "markdown",
   "metadata": {},
   "source": [
    "## Delete a single record from the online store"
   ]
  },
  {
   "cell_type": "code",
   "execution_count": null,
   "metadata": {},
   "outputs": [],
   "source": [
    "response = featurestore_runtime.delete_record(\n",
    "    FeatureGroupName=feature_group_name,\n",
    "    RecordIdentifierValueAsString=record_identifier_value,\n",
    "    EventTime=str(int(round(time.time())))\n",
    " )\n",
    "\n",
    "response"
   ]
  },
  {
   "cell_type": "code",
   "execution_count": null,
   "metadata": {},
   "outputs": [],
   "source": [
    "response = featurestore_runtime.get_record(\n",
    "    FeatureGroupName=feature_group_name, \n",
    "    RecordIdentifierValueAsString=record_identifier_value)\n",
    "\n",
    "response"
   ]
  },
  {
   "cell_type": "code",
   "execution_count": null,
   "metadata": {},
   "outputs": [],
   "source": [
    "query_string = 'SELECT * FROM \"'+ feature_group_table+'\"' + ' WHERE review_id=\\''+record_identifier_value+'\\';'\n",
    "\n",
    "query_string"
   ]
  },
  {
   "cell_type": "code",
   "execution_count": null,
   "metadata": {},
   "outputs": [],
   "source": [
    "feature_group_query.run(query_string=query_string, output_location='s3://'+default_bucket+'/query_results/')\n",
    "feature_group_query.wait()\n",
    "records = feature_group_query.as_dataframe()\n",
    "records.head()"
   ]
  },
  {
   "cell_type": "code",
   "execution_count": null,
   "metadata": {},
   "outputs": [],
   "source": []
  }
 ],
 "metadata": {
  "instance_type": "ml.t3.medium",
  "kernelspec": {
   "display_name": "Python 3 (Data Science)",
   "language": "python",
   "name": "python3__SAGEMAKER_INTERNAL__arn:aws:sagemaker:us-east-1:081325390199:image/datascience-1.0"
  },
  "language_info": {
   "codemirror_mode": {
    "name": "ipython",
    "version": 3
   },
   "file_extension": ".py",
   "mimetype": "text/x-python",
   "name": "python",
   "nbconvert_exporter": "python",
   "pygments_lexer": "ipython3",
   "version": "3.7.10"
  }
 },
 "nbformat": 4,
 "nbformat_minor": 4
}
